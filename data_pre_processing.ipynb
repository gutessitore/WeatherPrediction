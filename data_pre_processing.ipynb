{
 "cells": [
  {
   "cell_type": "code",
   "execution_count": 36,
   "metadata": {
    "collapsed": true
   },
   "outputs": [],
   "source": [
    "import os\n",
    "import pandas as pd\n",
    "from datetime import datetime\n",
    "\n",
    "def starts_with_20(filename):\n",
    "    \"\"\"Check if the filename starts with '20'.\"\"\"\n",
    "    return filename.startswith(\"20\")\n",
    "\n",
    "def get_csv_files(folder_path):\n",
    "    \"\"\"Return a list of CSV files in the folder that start with '20'.\"\"\"\n",
    "    all_files = os.listdir(folder_path)\n",
    "    csv_files = [file for file in all_files if file.endswith(\".csv\") and starts_with_20(file)]\n",
    "    return csv_files\n",
    "\n",
    "def read_and_combine_csv_files(folder_path, csv_files):\n",
    "    \"\"\"Read and concatenate the CSV files into a single DataFrame.\"\"\"\n",
    "    combined_dataframe = pd.concat([pd.read_csv(os.path.join(folder_path, file)) for file in csv_files])\n",
    "    return combined_dataframe"
   ]
  },
  {
   "cell_type": "code",
   "execution_count": 37,
   "outputs": [
    {
     "data": {
      "text/plain": "           dt   sunrise    sunset   temp  feels_like  pressure  humidity  \\\n0  2011-12-31  05:22:24  18:56:12  20.15       20.60      1011        91   \n1  2012-01-01  05:23:02  18:56:30  18.04       18.25      1010        90   \n2  2012-01-02  05:23:40  18:56:47  18.39       18.30      1011        77   \n3  2012-01-03  05:24:19  18:57:02  19.91       19.94      1015        76   \n4  2012-01-04  05:24:58  18:57:17  20.22       20.26      1016        75   \n..        ...       ...       ...    ...         ...       ...       ...   \n85 2023-03-26  06:12:19  18:12:07  23.27       23.92      1019        87   \n86 2023-03-27  06:12:42  18:11:07  19.46       19.73      1021        87   \n87 2023-03-28  06:13:04  18:10:08  20.75       21.20      1020        89   \n88 2023-03-29  06:13:26  18:09:08  22.08       22.35      1020        77   \n89 2023-03-30  06:13:48  18:08:08  23.53       23.92      1019        76   \n\n    dew_point  clouds  visibility  wind_speed  wind_deg  \\\n0       18.63     100      5000.0        3.60       110   \n1       16.38     100      8000.0        3.60       200   \n2       14.29       0     10000.0        2.10       160   \n3       15.56       0     10000.0        3.10       180   \n4       15.65       0     10000.0        4.10       120   \n..        ...     ...         ...         ...       ...   \n85      20.98      40     10000.0        8.49       182   \n86      17.24      75     10000.0        4.92        91   \n87      18.87      40     10000.0        4.12       110   \n88      17.86       0     10000.0        1.54       320   \n89      19.06       0     10000.0        2.57        80   \n\n                                              weather  rain  wind_gust  uvi  \n0   {'id': 701, 'main': 'Mist', 'description': 'mi...  0.66        NaN  NaN  \n1   {'id': 701, 'main': 'Mist', 'description': 'mi...  0.00        NaN  NaN  \n2   {'id': 800, 'main': 'Clear', 'description': 'c...  0.00        NaN  NaN  \n3   {'id': 800, 'main': 'Clear', 'description': 'c...  0.00        NaN  NaN  \n4   {'id': 800, 'main': 'Clear', 'description': 'c...  0.00        NaN  NaN  \n..                                                ...   ...        ...  ...  \n85  {'id': 501, 'main': 'Rain', 'description': 'mo...  3.65      10.28  0.0  \n86  {'id': 803, 'main': 'Clouds', 'description': '...  0.00       6.26  0.0  \n87  {'id': 802, 'main': 'Clouds', 'description': '...  0.00        NaN  0.0  \n88  {'id': 800, 'main': 'Clear', 'description': 'c...  0.00        NaN  0.0  \n89  {'id': 800, 'main': 'Clear', 'description': 'c...  0.00        NaN  0.0  \n\n[4108 rows x 16 columns]",
      "text/html": "<div>\n<style scoped>\n    .dataframe tbody tr th:only-of-type {\n        vertical-align: middle;\n    }\n\n    .dataframe tbody tr th {\n        vertical-align: top;\n    }\n\n    .dataframe thead th {\n        text-align: right;\n    }\n</style>\n<table border=\"1\" class=\"dataframe\">\n  <thead>\n    <tr style=\"text-align: right;\">\n      <th></th>\n      <th>dt</th>\n      <th>sunrise</th>\n      <th>sunset</th>\n      <th>temp</th>\n      <th>feels_like</th>\n      <th>pressure</th>\n      <th>humidity</th>\n      <th>dew_point</th>\n      <th>clouds</th>\n      <th>visibility</th>\n      <th>wind_speed</th>\n      <th>wind_deg</th>\n      <th>weather</th>\n      <th>rain</th>\n      <th>wind_gust</th>\n      <th>uvi</th>\n    </tr>\n  </thead>\n  <tbody>\n    <tr>\n      <th>0</th>\n      <td>2011-12-31</td>\n      <td>05:22:24</td>\n      <td>18:56:12</td>\n      <td>20.15</td>\n      <td>20.60</td>\n      <td>1011</td>\n      <td>91</td>\n      <td>18.63</td>\n      <td>100</td>\n      <td>5000.0</td>\n      <td>3.60</td>\n      <td>110</td>\n      <td>{'id': 701, 'main': 'Mist', 'description': 'mi...</td>\n      <td>0.66</td>\n      <td>NaN</td>\n      <td>NaN</td>\n    </tr>\n    <tr>\n      <th>1</th>\n      <td>2012-01-01</td>\n      <td>05:23:02</td>\n      <td>18:56:30</td>\n      <td>18.04</td>\n      <td>18.25</td>\n      <td>1010</td>\n      <td>90</td>\n      <td>16.38</td>\n      <td>100</td>\n      <td>8000.0</td>\n      <td>3.60</td>\n      <td>200</td>\n      <td>{'id': 701, 'main': 'Mist', 'description': 'mi...</td>\n      <td>0.00</td>\n      <td>NaN</td>\n      <td>NaN</td>\n    </tr>\n    <tr>\n      <th>2</th>\n      <td>2012-01-02</td>\n      <td>05:23:40</td>\n      <td>18:56:47</td>\n      <td>18.39</td>\n      <td>18.30</td>\n      <td>1011</td>\n      <td>77</td>\n      <td>14.29</td>\n      <td>0</td>\n      <td>10000.0</td>\n      <td>2.10</td>\n      <td>160</td>\n      <td>{'id': 800, 'main': 'Clear', 'description': 'c...</td>\n      <td>0.00</td>\n      <td>NaN</td>\n      <td>NaN</td>\n    </tr>\n    <tr>\n      <th>3</th>\n      <td>2012-01-03</td>\n      <td>05:24:19</td>\n      <td>18:57:02</td>\n      <td>19.91</td>\n      <td>19.94</td>\n      <td>1015</td>\n      <td>76</td>\n      <td>15.56</td>\n      <td>0</td>\n      <td>10000.0</td>\n      <td>3.10</td>\n      <td>180</td>\n      <td>{'id': 800, 'main': 'Clear', 'description': 'c...</td>\n      <td>0.00</td>\n      <td>NaN</td>\n      <td>NaN</td>\n    </tr>\n    <tr>\n      <th>4</th>\n      <td>2012-01-04</td>\n      <td>05:24:58</td>\n      <td>18:57:17</td>\n      <td>20.22</td>\n      <td>20.26</td>\n      <td>1016</td>\n      <td>75</td>\n      <td>15.65</td>\n      <td>0</td>\n      <td>10000.0</td>\n      <td>4.10</td>\n      <td>120</td>\n      <td>{'id': 800, 'main': 'Clear', 'description': 'c...</td>\n      <td>0.00</td>\n      <td>NaN</td>\n      <td>NaN</td>\n    </tr>\n    <tr>\n      <th>...</th>\n      <td>...</td>\n      <td>...</td>\n      <td>...</td>\n      <td>...</td>\n      <td>...</td>\n      <td>...</td>\n      <td>...</td>\n      <td>...</td>\n      <td>...</td>\n      <td>...</td>\n      <td>...</td>\n      <td>...</td>\n      <td>...</td>\n      <td>...</td>\n      <td>...</td>\n      <td>...</td>\n    </tr>\n    <tr>\n      <th>85</th>\n      <td>2023-03-26</td>\n      <td>06:12:19</td>\n      <td>18:12:07</td>\n      <td>23.27</td>\n      <td>23.92</td>\n      <td>1019</td>\n      <td>87</td>\n      <td>20.98</td>\n      <td>40</td>\n      <td>10000.0</td>\n      <td>8.49</td>\n      <td>182</td>\n      <td>{'id': 501, 'main': 'Rain', 'description': 'mo...</td>\n      <td>3.65</td>\n      <td>10.28</td>\n      <td>0.0</td>\n    </tr>\n    <tr>\n      <th>86</th>\n      <td>2023-03-27</td>\n      <td>06:12:42</td>\n      <td>18:11:07</td>\n      <td>19.46</td>\n      <td>19.73</td>\n      <td>1021</td>\n      <td>87</td>\n      <td>17.24</td>\n      <td>75</td>\n      <td>10000.0</td>\n      <td>4.92</td>\n      <td>91</td>\n      <td>{'id': 803, 'main': 'Clouds', 'description': '...</td>\n      <td>0.00</td>\n      <td>6.26</td>\n      <td>0.0</td>\n    </tr>\n    <tr>\n      <th>87</th>\n      <td>2023-03-28</td>\n      <td>06:13:04</td>\n      <td>18:10:08</td>\n      <td>20.75</td>\n      <td>21.20</td>\n      <td>1020</td>\n      <td>89</td>\n      <td>18.87</td>\n      <td>40</td>\n      <td>10000.0</td>\n      <td>4.12</td>\n      <td>110</td>\n      <td>{'id': 802, 'main': 'Clouds', 'description': '...</td>\n      <td>0.00</td>\n      <td>NaN</td>\n      <td>0.0</td>\n    </tr>\n    <tr>\n      <th>88</th>\n      <td>2023-03-29</td>\n      <td>06:13:26</td>\n      <td>18:09:08</td>\n      <td>22.08</td>\n      <td>22.35</td>\n      <td>1020</td>\n      <td>77</td>\n      <td>17.86</td>\n      <td>0</td>\n      <td>10000.0</td>\n      <td>1.54</td>\n      <td>320</td>\n      <td>{'id': 800, 'main': 'Clear', 'description': 'c...</td>\n      <td>0.00</td>\n      <td>NaN</td>\n      <td>0.0</td>\n    </tr>\n    <tr>\n      <th>89</th>\n      <td>2023-03-30</td>\n      <td>06:13:48</td>\n      <td>18:08:08</td>\n      <td>23.53</td>\n      <td>23.92</td>\n      <td>1019</td>\n      <td>76</td>\n      <td>19.06</td>\n      <td>0</td>\n      <td>10000.0</td>\n      <td>2.57</td>\n      <td>80</td>\n      <td>{'id': 800, 'main': 'Clear', 'description': 'c...</td>\n      <td>0.00</td>\n      <td>NaN</td>\n      <td>0.0</td>\n    </tr>\n  </tbody>\n</table>\n<p>4108 rows × 16 columns</p>\n</div>"
     },
     "execution_count": 37,
     "metadata": {},
     "output_type": "execute_result"
    }
   ],
   "source": [
    "folder_path = \"data/\"\n",
    "import numpy as np\n",
    "import re\n",
    "\n",
    "# Get a list of CSV files in the folder that start with \"20\"\n",
    "csv_files = get_csv_files(folder_path)\n",
    "\n",
    "# Read and concatenate the CSV files into a single DataFrame\n",
    "combined_dataframe = read_and_combine_csv_files(folder_path, csv_files)\n",
    "\n",
    "# Convert unix timestamp to datetime and consider the timezone, Brazil is UTC-3\n",
    "combined_dataframe.dt = pd.to_datetime(combined_dataframe.dt, unit='s') - pd.Timedelta(days=1)\n",
    "combined_dataframe.sunrise = pd.to_datetime(combined_dataframe.sunrise, unit='s') - pd.Timedelta(hours=3)\n",
    "combined_dataframe.sunset = pd.to_datetime(combined_dataframe.sunset, unit='s') - pd.Timedelta(hours=3)\n",
    "\n",
    "# Get only the time for sunrise and sunset\n",
    "combined_dataframe.sunrise = combined_dataframe.sunrise.dt.time\n",
    "combined_dataframe.sunset = combined_dataframe.sunset.dt.time\n",
    "\n",
    "\n",
    "# Convert the weather column to dicts\n",
    "combined_dataframe.weather = combined_dataframe.weather.apply(pd.Series)\\\n",
    "    .apply(lambda x: eval(x.to_list()[0])[0], axis=1)\n",
    "\n",
    "# Convert the rain column to dicts\n",
    "\n",
    "\n",
    "# Custom function to extract numbers\n",
    "def extract_number(s):\n",
    "    rain_mm_pattern = r'\\d+\\.\\d+'\n",
    "    if pd.isna(s):\n",
    "        return np.nan\n",
    "    else:\n",
    "        matches = re.findall(rain_mm_pattern, s)\n",
    "        return float(matches[0]) if matches else np.nan\n",
    "\n",
    "# Apply the custom function to the DataFrame column\n",
    "combined_dataframe.rain = combined_dataframe.rain.apply(extract_number)\n",
    "combined_dataframe.rain.fillna(0.0, inplace=True)\n",
    "\n",
    "# Drop duplicates\n",
    "combined_dataframe.drop_duplicates(subset=['dt'], keep='first', inplace=True)\n",
    "\n",
    "# Print the combined DataFrame\n",
    "combined_dataframe"
   ],
   "metadata": {
    "collapsed": false
   }
  },
  {
   "cell_type": "code",
   "execution_count": 38,
   "outputs": [
    {
     "data": {
      "text/plain": "         min        max\n0 2011-12-31 2023-03-30",
      "text/html": "<div>\n<style scoped>\n    .dataframe tbody tr th:only-of-type {\n        vertical-align: middle;\n    }\n\n    .dataframe tbody tr th {\n        vertical-align: top;\n    }\n\n    .dataframe thead th {\n        text-align: right;\n    }\n</style>\n<table border=\"1\" class=\"dataframe\">\n  <thead>\n    <tr style=\"text-align: right;\">\n      <th></th>\n      <th>min</th>\n      <th>max</th>\n    </tr>\n  </thead>\n  <tbody>\n    <tr>\n      <th>0</th>\n      <td>2011-12-31</td>\n      <td>2023-03-30</td>\n    </tr>\n  </tbody>\n</table>\n</div>"
     },
     "execution_count": 38,
     "metadata": {},
     "output_type": "execute_result"
    }
   ],
   "source": [
    "def find_complete_intervals(df, date_column):\n",
    "    # Calculate the differences between consecutive dates\n",
    "    df['Diff'] = df[date_column].diff().dt.days\n",
    "\n",
    "    # Create a new column to group continuous intervals\n",
    "    df['Group'] = (df['Diff'] > 1).cumsum()\n",
    "\n",
    "    # Calculate start and end dates for each group\n",
    "    intervals = df.groupby('Group')[date_column].agg(['min', 'max']).reset_index(drop=True)\n",
    "\n",
    "    # Remove single date intervals\n",
    "    intervals = intervals[intervals['max'] - intervals['min'] > pd.Timedelta(days=0)]\n",
    "\n",
    "    # Remove auxiliar columns\n",
    "    df.drop(['Diff', 'Group'], axis=1, inplace=True)\n",
    "\n",
    "    return intervals\n",
    "\n",
    "\n",
    "find_complete_intervals(combined_dataframe, 'dt')"
   ],
   "metadata": {
    "collapsed": false
   }
  },
  {
   "cell_type": "code",
   "execution_count": 39,
   "outputs": [
    {
     "data": {
      "text/plain": "           dt   sunrise    sunset   temp  feels_like  pressure  humidity  \\\n0  2011-12-31  05:22:24  18:56:12  20.15       20.60      1011        91   \n1  2012-01-01  05:23:02  18:56:30  18.04       18.25      1010        90   \n2  2012-01-02  05:23:40  18:56:47  18.39       18.30      1011        77   \n3  2012-01-03  05:24:19  18:57:02  19.91       19.94      1015        76   \n4  2012-01-04  05:24:58  18:57:17  20.22       20.26      1016        75   \n..        ...       ...       ...    ...         ...       ...       ...   \n85 2023-03-26  06:12:19  18:12:07  23.27       23.92      1019        87   \n86 2023-03-27  06:12:42  18:11:07  19.46       19.73      1021        87   \n87 2023-03-28  06:13:04  18:10:08  20.75       21.20      1020        89   \n88 2023-03-29  06:13:26  18:09:08  22.08       22.35      1020        77   \n89 2023-03-30  06:13:48  18:08:08  23.53       23.92      1019        76   \n\n    dew_point  clouds  visibility  wind_speed  wind_deg  \\\n0       18.63     100      5000.0        3.60       110   \n1       16.38     100      8000.0        3.60       200   \n2       14.29       0     10000.0        2.10       160   \n3       15.56       0     10000.0        3.10       180   \n4       15.65       0     10000.0        4.10       120   \n..        ...     ...         ...         ...       ...   \n85      20.98      40     10000.0        8.49       182   \n86      17.24      75     10000.0        4.92        91   \n87      18.87      40     10000.0        4.12       110   \n88      17.86       0     10000.0        1.54       320   \n89      19.06       0     10000.0        2.57        80   \n\n                                              weather  rain  wind_gust  uvi  \\\n0   {'id': 701, 'main': 'Mist', 'description': 'mi...  0.66        NaN  NaN   \n1   {'id': 701, 'main': 'Mist', 'description': 'mi...  0.00        NaN  NaN   \n2   {'id': 800, 'main': 'Clear', 'description': 'c...  0.00        NaN  NaN   \n3   {'id': 800, 'main': 'Clear', 'description': 'c...  0.00        NaN  NaN   \n4   {'id': 800, 'main': 'Clear', 'description': 'c...  0.00        NaN  NaN   \n..                                                ...   ...        ...  ...   \n85  {'id': 501, 'main': 'Rain', 'description': 'mo...  3.65      10.28  0.0   \n86  {'id': 803, 'main': 'Clouds', 'description': '...  0.00       6.26  0.0   \n87  {'id': 802, 'main': 'Clouds', 'description': '...  0.00        NaN  0.0   \n88  {'id': 800, 'main': 'Clear', 'description': 'c...  0.00        NaN  0.0   \n89  {'id': 800, 'main': 'Clear', 'description': 'c...  0.00        NaN  0.0   \n\n     location  \n0   Sao Paulo  \n1   Sao Paulo  \n2   Sao Paulo  \n3   Sao Paulo  \n4   Sao Paulo  \n..        ...  \n85  Sao Paulo  \n86  Sao Paulo  \n87  Sao Paulo  \n88  Sao Paulo  \n89  Sao Paulo  \n\n[4108 rows x 17 columns]",
      "text/html": "<div>\n<style scoped>\n    .dataframe tbody tr th:only-of-type {\n        vertical-align: middle;\n    }\n\n    .dataframe tbody tr th {\n        vertical-align: top;\n    }\n\n    .dataframe thead th {\n        text-align: right;\n    }\n</style>\n<table border=\"1\" class=\"dataframe\">\n  <thead>\n    <tr style=\"text-align: right;\">\n      <th></th>\n      <th>dt</th>\n      <th>sunrise</th>\n      <th>sunset</th>\n      <th>temp</th>\n      <th>feels_like</th>\n      <th>pressure</th>\n      <th>humidity</th>\n      <th>dew_point</th>\n      <th>clouds</th>\n      <th>visibility</th>\n      <th>wind_speed</th>\n      <th>wind_deg</th>\n      <th>weather</th>\n      <th>rain</th>\n      <th>wind_gust</th>\n      <th>uvi</th>\n      <th>location</th>\n    </tr>\n  </thead>\n  <tbody>\n    <tr>\n      <th>0</th>\n      <td>2011-12-31</td>\n      <td>05:22:24</td>\n      <td>18:56:12</td>\n      <td>20.15</td>\n      <td>20.60</td>\n      <td>1011</td>\n      <td>91</td>\n      <td>18.63</td>\n      <td>100</td>\n      <td>5000.0</td>\n      <td>3.60</td>\n      <td>110</td>\n      <td>{'id': 701, 'main': 'Mist', 'description': 'mi...</td>\n      <td>0.66</td>\n      <td>NaN</td>\n      <td>NaN</td>\n      <td>Sao Paulo</td>\n    </tr>\n    <tr>\n      <th>1</th>\n      <td>2012-01-01</td>\n      <td>05:23:02</td>\n      <td>18:56:30</td>\n      <td>18.04</td>\n      <td>18.25</td>\n      <td>1010</td>\n      <td>90</td>\n      <td>16.38</td>\n      <td>100</td>\n      <td>8000.0</td>\n      <td>3.60</td>\n      <td>200</td>\n      <td>{'id': 701, 'main': 'Mist', 'description': 'mi...</td>\n      <td>0.00</td>\n      <td>NaN</td>\n      <td>NaN</td>\n      <td>Sao Paulo</td>\n    </tr>\n    <tr>\n      <th>2</th>\n      <td>2012-01-02</td>\n      <td>05:23:40</td>\n      <td>18:56:47</td>\n      <td>18.39</td>\n      <td>18.30</td>\n      <td>1011</td>\n      <td>77</td>\n      <td>14.29</td>\n      <td>0</td>\n      <td>10000.0</td>\n      <td>2.10</td>\n      <td>160</td>\n      <td>{'id': 800, 'main': 'Clear', 'description': 'c...</td>\n      <td>0.00</td>\n      <td>NaN</td>\n      <td>NaN</td>\n      <td>Sao Paulo</td>\n    </tr>\n    <tr>\n      <th>3</th>\n      <td>2012-01-03</td>\n      <td>05:24:19</td>\n      <td>18:57:02</td>\n      <td>19.91</td>\n      <td>19.94</td>\n      <td>1015</td>\n      <td>76</td>\n      <td>15.56</td>\n      <td>0</td>\n      <td>10000.0</td>\n      <td>3.10</td>\n      <td>180</td>\n      <td>{'id': 800, 'main': 'Clear', 'description': 'c...</td>\n      <td>0.00</td>\n      <td>NaN</td>\n      <td>NaN</td>\n      <td>Sao Paulo</td>\n    </tr>\n    <tr>\n      <th>4</th>\n      <td>2012-01-04</td>\n      <td>05:24:58</td>\n      <td>18:57:17</td>\n      <td>20.22</td>\n      <td>20.26</td>\n      <td>1016</td>\n      <td>75</td>\n      <td>15.65</td>\n      <td>0</td>\n      <td>10000.0</td>\n      <td>4.10</td>\n      <td>120</td>\n      <td>{'id': 800, 'main': 'Clear', 'description': 'c...</td>\n      <td>0.00</td>\n      <td>NaN</td>\n      <td>NaN</td>\n      <td>Sao Paulo</td>\n    </tr>\n    <tr>\n      <th>...</th>\n      <td>...</td>\n      <td>...</td>\n      <td>...</td>\n      <td>...</td>\n      <td>...</td>\n      <td>...</td>\n      <td>...</td>\n      <td>...</td>\n      <td>...</td>\n      <td>...</td>\n      <td>...</td>\n      <td>...</td>\n      <td>...</td>\n      <td>...</td>\n      <td>...</td>\n      <td>...</td>\n      <td>...</td>\n    </tr>\n    <tr>\n      <th>85</th>\n      <td>2023-03-26</td>\n      <td>06:12:19</td>\n      <td>18:12:07</td>\n      <td>23.27</td>\n      <td>23.92</td>\n      <td>1019</td>\n      <td>87</td>\n      <td>20.98</td>\n      <td>40</td>\n      <td>10000.0</td>\n      <td>8.49</td>\n      <td>182</td>\n      <td>{'id': 501, 'main': 'Rain', 'description': 'mo...</td>\n      <td>3.65</td>\n      <td>10.28</td>\n      <td>0.0</td>\n      <td>Sao Paulo</td>\n    </tr>\n    <tr>\n      <th>86</th>\n      <td>2023-03-27</td>\n      <td>06:12:42</td>\n      <td>18:11:07</td>\n      <td>19.46</td>\n      <td>19.73</td>\n      <td>1021</td>\n      <td>87</td>\n      <td>17.24</td>\n      <td>75</td>\n      <td>10000.0</td>\n      <td>4.92</td>\n      <td>91</td>\n      <td>{'id': 803, 'main': 'Clouds', 'description': '...</td>\n      <td>0.00</td>\n      <td>6.26</td>\n      <td>0.0</td>\n      <td>Sao Paulo</td>\n    </tr>\n    <tr>\n      <th>87</th>\n      <td>2023-03-28</td>\n      <td>06:13:04</td>\n      <td>18:10:08</td>\n      <td>20.75</td>\n      <td>21.20</td>\n      <td>1020</td>\n      <td>89</td>\n      <td>18.87</td>\n      <td>40</td>\n      <td>10000.0</td>\n      <td>4.12</td>\n      <td>110</td>\n      <td>{'id': 802, 'main': 'Clouds', 'description': '...</td>\n      <td>0.00</td>\n      <td>NaN</td>\n      <td>0.0</td>\n      <td>Sao Paulo</td>\n    </tr>\n    <tr>\n      <th>88</th>\n      <td>2023-03-29</td>\n      <td>06:13:26</td>\n      <td>18:09:08</td>\n      <td>22.08</td>\n      <td>22.35</td>\n      <td>1020</td>\n      <td>77</td>\n      <td>17.86</td>\n      <td>0</td>\n      <td>10000.0</td>\n      <td>1.54</td>\n      <td>320</td>\n      <td>{'id': 800, 'main': 'Clear', 'description': 'c...</td>\n      <td>0.00</td>\n      <td>NaN</td>\n      <td>0.0</td>\n      <td>Sao Paulo</td>\n    </tr>\n    <tr>\n      <th>89</th>\n      <td>2023-03-30</td>\n      <td>06:13:48</td>\n      <td>18:08:08</td>\n      <td>23.53</td>\n      <td>23.92</td>\n      <td>1019</td>\n      <td>76</td>\n      <td>19.06</td>\n      <td>0</td>\n      <td>10000.0</td>\n      <td>2.57</td>\n      <td>80</td>\n      <td>{'id': 800, 'main': 'Clear', 'description': 'c...</td>\n      <td>0.00</td>\n      <td>NaN</td>\n      <td>0.0</td>\n      <td>Sao Paulo</td>\n    </tr>\n  </tbody>\n</table>\n<p>4108 rows × 17 columns</p>\n</div>"
     },
     "execution_count": 39,
     "metadata": {},
     "output_type": "execute_result"
    }
   ],
   "source": [
    "combined_dataframe[\"location\"] = \"Sao Paulo\"\n",
    "combined_dataframe"
   ],
   "metadata": {
    "collapsed": false
   }
  },
  {
   "cell_type": "code",
   "execution_count": 40,
   "outputs": [
    {
     "data": {
      "text/plain": "     id          main                   description icon\n0   701          Mist                          mist  50n\n1   800         Clear                     clear sky  01n\n2   721          Haze                          haze  50n\n3   803        Clouds                 broken clouds  04n\n4   211  Thunderstorm                  thunderstorm  11n\n5   500          Rain                    light rain  10n\n6   501          Rain                 moderate rain  10n\n7   801        Clouds                    few clouds  02n\n8   802        Clouds              scattered clouds  03n\n9   520          Rain   light intensity shower rain  09n\n10  804        Clouds               overcast clouds  04n\n11  502          Rain          heavy intensity rain  10n\n12  300       Drizzle       light intensity drizzle  09n\n13  200  Thunderstorm  thunderstorm with light rain  11n\n14  522          Rain   heavy intensity shower rain  09n\n15  201  Thunderstorm        thunderstorm with rain  11n\n16  202  Thunderstorm  thunderstorm with heavy rain  11n\n17  301       Drizzle                       drizzle  09n\n18  503          Rain               very heavy rain  10n\n19  302       Drizzle       heavy intensity drizzle  09n",
      "text/html": "<div>\n<style scoped>\n    .dataframe tbody tr th:only-of-type {\n        vertical-align: middle;\n    }\n\n    .dataframe tbody tr th {\n        vertical-align: top;\n    }\n\n    .dataframe thead th {\n        text-align: right;\n    }\n</style>\n<table border=\"1\" class=\"dataframe\">\n  <thead>\n    <tr style=\"text-align: right;\">\n      <th></th>\n      <th>id</th>\n      <th>main</th>\n      <th>description</th>\n      <th>icon</th>\n    </tr>\n  </thead>\n  <tbody>\n    <tr>\n      <th>0</th>\n      <td>701</td>\n      <td>Mist</td>\n      <td>mist</td>\n      <td>50n</td>\n    </tr>\n    <tr>\n      <th>1</th>\n      <td>800</td>\n      <td>Clear</td>\n      <td>clear sky</td>\n      <td>01n</td>\n    </tr>\n    <tr>\n      <th>2</th>\n      <td>721</td>\n      <td>Haze</td>\n      <td>haze</td>\n      <td>50n</td>\n    </tr>\n    <tr>\n      <th>3</th>\n      <td>803</td>\n      <td>Clouds</td>\n      <td>broken clouds</td>\n      <td>04n</td>\n    </tr>\n    <tr>\n      <th>4</th>\n      <td>211</td>\n      <td>Thunderstorm</td>\n      <td>thunderstorm</td>\n      <td>11n</td>\n    </tr>\n    <tr>\n      <th>5</th>\n      <td>500</td>\n      <td>Rain</td>\n      <td>light rain</td>\n      <td>10n</td>\n    </tr>\n    <tr>\n      <th>6</th>\n      <td>501</td>\n      <td>Rain</td>\n      <td>moderate rain</td>\n      <td>10n</td>\n    </tr>\n    <tr>\n      <th>7</th>\n      <td>801</td>\n      <td>Clouds</td>\n      <td>few clouds</td>\n      <td>02n</td>\n    </tr>\n    <tr>\n      <th>8</th>\n      <td>802</td>\n      <td>Clouds</td>\n      <td>scattered clouds</td>\n      <td>03n</td>\n    </tr>\n    <tr>\n      <th>9</th>\n      <td>520</td>\n      <td>Rain</td>\n      <td>light intensity shower rain</td>\n      <td>09n</td>\n    </tr>\n    <tr>\n      <th>10</th>\n      <td>804</td>\n      <td>Clouds</td>\n      <td>overcast clouds</td>\n      <td>04n</td>\n    </tr>\n    <tr>\n      <th>11</th>\n      <td>502</td>\n      <td>Rain</td>\n      <td>heavy intensity rain</td>\n      <td>10n</td>\n    </tr>\n    <tr>\n      <th>12</th>\n      <td>300</td>\n      <td>Drizzle</td>\n      <td>light intensity drizzle</td>\n      <td>09n</td>\n    </tr>\n    <tr>\n      <th>13</th>\n      <td>200</td>\n      <td>Thunderstorm</td>\n      <td>thunderstorm with light rain</td>\n      <td>11n</td>\n    </tr>\n    <tr>\n      <th>14</th>\n      <td>522</td>\n      <td>Rain</td>\n      <td>heavy intensity shower rain</td>\n      <td>09n</td>\n    </tr>\n    <tr>\n      <th>15</th>\n      <td>201</td>\n      <td>Thunderstorm</td>\n      <td>thunderstorm with rain</td>\n      <td>11n</td>\n    </tr>\n    <tr>\n      <th>16</th>\n      <td>202</td>\n      <td>Thunderstorm</td>\n      <td>thunderstorm with heavy rain</td>\n      <td>11n</td>\n    </tr>\n    <tr>\n      <th>17</th>\n      <td>301</td>\n      <td>Drizzle</td>\n      <td>drizzle</td>\n      <td>09n</td>\n    </tr>\n    <tr>\n      <th>18</th>\n      <td>503</td>\n      <td>Rain</td>\n      <td>very heavy rain</td>\n      <td>10n</td>\n    </tr>\n    <tr>\n      <th>19</th>\n      <td>302</td>\n      <td>Drizzle</td>\n      <td>heavy intensity drizzle</td>\n      <td>09n</td>\n    </tr>\n  </tbody>\n</table>\n</div>"
     },
     "execution_count": 40,
     "metadata": {},
     "output_type": "execute_result"
    }
   ],
   "source": [
    "# Extract all diferent weather conditions\n",
    "wather_df = pd.DataFrame(combined_dataframe.weather.drop_duplicates().to_list())\n",
    "wather_df"
   ],
   "metadata": {
    "collapsed": false
   }
  },
  {
   "cell_type": "code",
   "execution_count": 41,
   "outputs": [
    {
     "data": {
      "text/plain": "           dt   sunrise    sunset   temp  feels_like  pressure  humidity  \\\n0  2011-12-31  05:22:24  18:56:12  20.15       20.60      1011        91   \n1  2012-01-01  05:23:02  18:56:30  18.04       18.25      1010        90   \n2  2012-01-02  05:23:40  18:56:47  18.39       18.30      1011        77   \n3  2012-01-03  05:24:19  18:57:02  19.91       19.94      1015        76   \n4  2012-01-04  05:24:58  18:57:17  20.22       20.26      1016        75   \n..        ...       ...       ...    ...         ...       ...       ...   \n85 2023-03-26  06:12:19  18:12:07  23.27       23.92      1019        87   \n86 2023-03-27  06:12:42  18:11:07  19.46       19.73      1021        87   \n87 2023-03-28  06:13:04  18:10:08  20.75       21.20      1020        89   \n88 2023-03-29  06:13:26  18:09:08  22.08       22.35      1020        77   \n89 2023-03-30  06:13:48  18:08:08  23.53       23.92      1019        76   \n\n    dew_point  clouds  visibility  wind_speed  wind_deg  \\\n0       18.63     100      5000.0        3.60       110   \n1       16.38     100      8000.0        3.60       200   \n2       14.29       0     10000.0        2.10       160   \n3       15.56       0     10000.0        3.10       180   \n4       15.65       0     10000.0        4.10       120   \n..        ...     ...         ...         ...       ...   \n85      20.98      40     10000.0        8.49       182   \n86      17.24      75     10000.0        4.92        91   \n87      18.87      40     10000.0        4.12       110   \n88      17.86       0     10000.0        1.54       320   \n89      19.06       0     10000.0        2.57        80   \n\n                                              weather  rain  wind_gust  uvi  \\\n0   {'id': 701, 'main': 'Mist', 'description': 'mi...  0.66        NaN  NaN   \n1   {'id': 701, 'main': 'Mist', 'description': 'mi...  0.00        NaN  NaN   \n2   {'id': 800, 'main': 'Clear', 'description': 'c...  0.00        NaN  NaN   \n3   {'id': 800, 'main': 'Clear', 'description': 'c...  0.00        NaN  NaN   \n4   {'id': 800, 'main': 'Clear', 'description': 'c...  0.00        NaN  NaN   \n..                                                ...   ...        ...  ...   \n85  {'id': 501, 'main': 'Rain', 'description': 'mo...  3.65      10.28  0.0   \n86  {'id': 803, 'main': 'Clouds', 'description': '...  0.00       6.26  0.0   \n87  {'id': 802, 'main': 'Clouds', 'description': '...  0.00        NaN  0.0   \n88  {'id': 800, 'main': 'Clear', 'description': 'c...  0.00        NaN  0.0   \n89  {'id': 800, 'main': 'Clear', 'description': 'c...  0.00        NaN  0.0   \n\n     location  weather_id  \n0   Sao Paulo         701  \n1   Sao Paulo         701  \n2   Sao Paulo         800  \n3   Sao Paulo         800  \n4   Sao Paulo         800  \n..        ...         ...  \n85  Sao Paulo         501  \n86  Sao Paulo         803  \n87  Sao Paulo         802  \n88  Sao Paulo         800  \n89  Sao Paulo         800  \n\n[4108 rows x 18 columns]",
      "text/html": "<div>\n<style scoped>\n    .dataframe tbody tr th:only-of-type {\n        vertical-align: middle;\n    }\n\n    .dataframe tbody tr th {\n        vertical-align: top;\n    }\n\n    .dataframe thead th {\n        text-align: right;\n    }\n</style>\n<table border=\"1\" class=\"dataframe\">\n  <thead>\n    <tr style=\"text-align: right;\">\n      <th></th>\n      <th>dt</th>\n      <th>sunrise</th>\n      <th>sunset</th>\n      <th>temp</th>\n      <th>feels_like</th>\n      <th>pressure</th>\n      <th>humidity</th>\n      <th>dew_point</th>\n      <th>clouds</th>\n      <th>visibility</th>\n      <th>wind_speed</th>\n      <th>wind_deg</th>\n      <th>weather</th>\n      <th>rain</th>\n      <th>wind_gust</th>\n      <th>uvi</th>\n      <th>location</th>\n      <th>weather_id</th>\n    </tr>\n  </thead>\n  <tbody>\n    <tr>\n      <th>0</th>\n      <td>2011-12-31</td>\n      <td>05:22:24</td>\n      <td>18:56:12</td>\n      <td>20.15</td>\n      <td>20.60</td>\n      <td>1011</td>\n      <td>91</td>\n      <td>18.63</td>\n      <td>100</td>\n      <td>5000.0</td>\n      <td>3.60</td>\n      <td>110</td>\n      <td>{'id': 701, 'main': 'Mist', 'description': 'mi...</td>\n      <td>0.66</td>\n      <td>NaN</td>\n      <td>NaN</td>\n      <td>Sao Paulo</td>\n      <td>701</td>\n    </tr>\n    <tr>\n      <th>1</th>\n      <td>2012-01-01</td>\n      <td>05:23:02</td>\n      <td>18:56:30</td>\n      <td>18.04</td>\n      <td>18.25</td>\n      <td>1010</td>\n      <td>90</td>\n      <td>16.38</td>\n      <td>100</td>\n      <td>8000.0</td>\n      <td>3.60</td>\n      <td>200</td>\n      <td>{'id': 701, 'main': 'Mist', 'description': 'mi...</td>\n      <td>0.00</td>\n      <td>NaN</td>\n      <td>NaN</td>\n      <td>Sao Paulo</td>\n      <td>701</td>\n    </tr>\n    <tr>\n      <th>2</th>\n      <td>2012-01-02</td>\n      <td>05:23:40</td>\n      <td>18:56:47</td>\n      <td>18.39</td>\n      <td>18.30</td>\n      <td>1011</td>\n      <td>77</td>\n      <td>14.29</td>\n      <td>0</td>\n      <td>10000.0</td>\n      <td>2.10</td>\n      <td>160</td>\n      <td>{'id': 800, 'main': 'Clear', 'description': 'c...</td>\n      <td>0.00</td>\n      <td>NaN</td>\n      <td>NaN</td>\n      <td>Sao Paulo</td>\n      <td>800</td>\n    </tr>\n    <tr>\n      <th>3</th>\n      <td>2012-01-03</td>\n      <td>05:24:19</td>\n      <td>18:57:02</td>\n      <td>19.91</td>\n      <td>19.94</td>\n      <td>1015</td>\n      <td>76</td>\n      <td>15.56</td>\n      <td>0</td>\n      <td>10000.0</td>\n      <td>3.10</td>\n      <td>180</td>\n      <td>{'id': 800, 'main': 'Clear', 'description': 'c...</td>\n      <td>0.00</td>\n      <td>NaN</td>\n      <td>NaN</td>\n      <td>Sao Paulo</td>\n      <td>800</td>\n    </tr>\n    <tr>\n      <th>4</th>\n      <td>2012-01-04</td>\n      <td>05:24:58</td>\n      <td>18:57:17</td>\n      <td>20.22</td>\n      <td>20.26</td>\n      <td>1016</td>\n      <td>75</td>\n      <td>15.65</td>\n      <td>0</td>\n      <td>10000.0</td>\n      <td>4.10</td>\n      <td>120</td>\n      <td>{'id': 800, 'main': 'Clear', 'description': 'c...</td>\n      <td>0.00</td>\n      <td>NaN</td>\n      <td>NaN</td>\n      <td>Sao Paulo</td>\n      <td>800</td>\n    </tr>\n    <tr>\n      <th>...</th>\n      <td>...</td>\n      <td>...</td>\n      <td>...</td>\n      <td>...</td>\n      <td>...</td>\n      <td>...</td>\n      <td>...</td>\n      <td>...</td>\n      <td>...</td>\n      <td>...</td>\n      <td>...</td>\n      <td>...</td>\n      <td>...</td>\n      <td>...</td>\n      <td>...</td>\n      <td>...</td>\n      <td>...</td>\n      <td>...</td>\n    </tr>\n    <tr>\n      <th>85</th>\n      <td>2023-03-26</td>\n      <td>06:12:19</td>\n      <td>18:12:07</td>\n      <td>23.27</td>\n      <td>23.92</td>\n      <td>1019</td>\n      <td>87</td>\n      <td>20.98</td>\n      <td>40</td>\n      <td>10000.0</td>\n      <td>8.49</td>\n      <td>182</td>\n      <td>{'id': 501, 'main': 'Rain', 'description': 'mo...</td>\n      <td>3.65</td>\n      <td>10.28</td>\n      <td>0.0</td>\n      <td>Sao Paulo</td>\n      <td>501</td>\n    </tr>\n    <tr>\n      <th>86</th>\n      <td>2023-03-27</td>\n      <td>06:12:42</td>\n      <td>18:11:07</td>\n      <td>19.46</td>\n      <td>19.73</td>\n      <td>1021</td>\n      <td>87</td>\n      <td>17.24</td>\n      <td>75</td>\n      <td>10000.0</td>\n      <td>4.92</td>\n      <td>91</td>\n      <td>{'id': 803, 'main': 'Clouds', 'description': '...</td>\n      <td>0.00</td>\n      <td>6.26</td>\n      <td>0.0</td>\n      <td>Sao Paulo</td>\n      <td>803</td>\n    </tr>\n    <tr>\n      <th>87</th>\n      <td>2023-03-28</td>\n      <td>06:13:04</td>\n      <td>18:10:08</td>\n      <td>20.75</td>\n      <td>21.20</td>\n      <td>1020</td>\n      <td>89</td>\n      <td>18.87</td>\n      <td>40</td>\n      <td>10000.0</td>\n      <td>4.12</td>\n      <td>110</td>\n      <td>{'id': 802, 'main': 'Clouds', 'description': '...</td>\n      <td>0.00</td>\n      <td>NaN</td>\n      <td>0.0</td>\n      <td>Sao Paulo</td>\n      <td>802</td>\n    </tr>\n    <tr>\n      <th>88</th>\n      <td>2023-03-29</td>\n      <td>06:13:26</td>\n      <td>18:09:08</td>\n      <td>22.08</td>\n      <td>22.35</td>\n      <td>1020</td>\n      <td>77</td>\n      <td>17.86</td>\n      <td>0</td>\n      <td>10000.0</td>\n      <td>1.54</td>\n      <td>320</td>\n      <td>{'id': 800, 'main': 'Clear', 'description': 'c...</td>\n      <td>0.00</td>\n      <td>NaN</td>\n      <td>0.0</td>\n      <td>Sao Paulo</td>\n      <td>800</td>\n    </tr>\n    <tr>\n      <th>89</th>\n      <td>2023-03-30</td>\n      <td>06:13:48</td>\n      <td>18:08:08</td>\n      <td>23.53</td>\n      <td>23.92</td>\n      <td>1019</td>\n      <td>76</td>\n      <td>19.06</td>\n      <td>0</td>\n      <td>10000.0</td>\n      <td>2.57</td>\n      <td>80</td>\n      <td>{'id': 800, 'main': 'Clear', 'description': 'c...</td>\n      <td>0.00</td>\n      <td>NaN</td>\n      <td>0.0</td>\n      <td>Sao Paulo</td>\n      <td>800</td>\n    </tr>\n  </tbody>\n</table>\n<p>4108 rows × 18 columns</p>\n</div>"
     },
     "execution_count": 41,
     "metadata": {},
     "output_type": "execute_result"
    }
   ],
   "source": [
    "combined_dataframe[\"weather_id\"] = combined_dataframe.weather.apply(lambda x: x['id'])\n",
    "combined_dataframe"
   ],
   "metadata": {
    "collapsed": false
   }
  },
  {
   "cell_type": "code",
   "execution_count": 42,
   "outputs": [],
   "source": [
    "# Save data and weather conditions to CSV files\n",
    "\n",
    "combined_dataframe.to_csv(\"data/combined_data.csv\", index=False)\n",
    "wather_df.to_csv(\"data/weather_conditions.csv\", index=False)"
   ],
   "metadata": {
    "collapsed": false
   }
  }
 ],
 "metadata": {
  "kernelspec": {
   "display_name": "Python 3",
   "language": "python",
   "name": "python3"
  },
  "language_info": {
   "codemirror_mode": {
    "name": "ipython",
    "version": 2
   },
   "file_extension": ".py",
   "mimetype": "text/x-python",
   "name": "python",
   "nbconvert_exporter": "python",
   "pygments_lexer": "ipython2",
   "version": "2.7.6"
  }
 },
 "nbformat": 4,
 "nbformat_minor": 0
}
