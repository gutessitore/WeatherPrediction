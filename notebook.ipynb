{
 "cells": [
  {
   "cell_type": "code",
   "execution_count": 14,
   "metadata": {
    "collapsed": true
   },
   "outputs": [
    {
     "data": {
      "text/plain": "         Date  Average Temperature  Minimum Temperature  Maximum Temperature  \\\n0  2021-01-02                 22.9                 19.1                 29.0   \n1  2021-01-03                 21.8                 18.0                 28.0   \n2  2021-01-04                 21.4                 17.9                 27.0   \n3  2021-01-05                 23.8                 18.5                 32.0   \n4  2021-01-06                 23.5                 19.3                 32.0   \n\n   Total Precipitation   wdir  Average Wind Speed  Sea-Level Air Pressure  \n0                  7.5   80.0                 8.5                  1014.7  \n1                 25.9   77.0                 9.2                  1014.0  \n2                  7.9   70.0                 8.8                  1015.8  \n3                  2.7   82.0                 7.9                  1016.7  \n4                  2.8  100.0                 8.6                  1015.8  ",
      "text/html": "<div>\n<style scoped>\n    .dataframe tbody tr th:only-of-type {\n        vertical-align: middle;\n    }\n\n    .dataframe tbody tr th {\n        vertical-align: top;\n    }\n\n    .dataframe thead th {\n        text-align: right;\n    }\n</style>\n<table border=\"1\" class=\"dataframe\">\n  <thead>\n    <tr style=\"text-align: right;\">\n      <th></th>\n      <th>Date</th>\n      <th>Average Temperature</th>\n      <th>Minimum Temperature</th>\n      <th>Maximum Temperature</th>\n      <th>Total Precipitation</th>\n      <th>wdir</th>\n      <th>Average Wind Speed</th>\n      <th>Sea-Level Air Pressure</th>\n    </tr>\n  </thead>\n  <tbody>\n    <tr>\n      <th>0</th>\n      <td>2021-01-02</td>\n      <td>22.9</td>\n      <td>19.1</td>\n      <td>29.0</td>\n      <td>7.5</td>\n      <td>80.0</td>\n      <td>8.5</td>\n      <td>1014.7</td>\n    </tr>\n    <tr>\n      <th>1</th>\n      <td>2021-01-03</td>\n      <td>21.8</td>\n      <td>18.0</td>\n      <td>28.0</td>\n      <td>25.9</td>\n      <td>77.0</td>\n      <td>9.2</td>\n      <td>1014.0</td>\n    </tr>\n    <tr>\n      <th>2</th>\n      <td>2021-01-04</td>\n      <td>21.4</td>\n      <td>17.9</td>\n      <td>27.0</td>\n      <td>7.9</td>\n      <td>70.0</td>\n      <td>8.8</td>\n      <td>1015.8</td>\n    </tr>\n    <tr>\n      <th>3</th>\n      <td>2021-01-05</td>\n      <td>23.8</td>\n      <td>18.5</td>\n      <td>32.0</td>\n      <td>2.7</td>\n      <td>82.0</td>\n      <td>7.9</td>\n      <td>1016.7</td>\n    </tr>\n    <tr>\n      <th>4</th>\n      <td>2021-01-06</td>\n      <td>23.5</td>\n      <td>19.3</td>\n      <td>32.0</td>\n      <td>2.8</td>\n      <td>100.0</td>\n      <td>8.6</td>\n      <td>1015.8</td>\n    </tr>\n  </tbody>\n</table>\n</div>"
     },
     "execution_count": 14,
     "metadata": {},
     "output_type": "execute_result"
    }
   ],
   "source": [
    "import pandas as pd\n",
    "\n",
    "data = pd.read_csv('data/data.csv')  # Weather data from BH\n",
    "data.head()"
   ]
  },
  {
   "cell_type": "code",
   "execution_count": 16,
   "outputs": [
    {
     "ename": "ValueError",
     "evalue": "SARIMAX models require univariate `endog`. Got shape (808, 7).",
     "output_type": "error",
     "traceback": [
      "\u001B[1;31m---------------------------------------------------------------------------\u001B[0m",
      "\u001B[1;31mValueError\u001B[0m                                Traceback (most recent call last)",
      "Cell \u001B[1;32mIn[16], line 17\u001B[0m\n\u001B[0;32m     14\u001B[0m freq \u001B[38;5;241m=\u001B[39m \u001B[38;5;124m'\u001B[39m\u001B[38;5;124mD\u001B[39m\u001B[38;5;124m'\u001B[39m\n\u001B[0;32m     16\u001B[0m \u001B[38;5;66;03m# Treinar o modelo ARIMA\u001B[39;00m\n\u001B[1;32m---> 17\u001B[0m model \u001B[38;5;241m=\u001B[39m \u001B[43mARIMA\u001B[49m\u001B[43m(\u001B[49m\u001B[43mdf\u001B[49m\u001B[43m,\u001B[49m\u001B[43m \u001B[49m\u001B[43morder\u001B[49m\u001B[38;5;241;43m=\u001B[39;49m\u001B[43m(\u001B[49m\u001B[43mp\u001B[49m\u001B[43m,\u001B[49m\u001B[43m \u001B[49m\u001B[43md\u001B[49m\u001B[43m,\u001B[49m\u001B[43m \u001B[49m\u001B[43mq\u001B[49m\u001B[43m)\u001B[49m\u001B[43m,\u001B[49m\u001B[43m \u001B[49m\u001B[43mfreq\u001B[49m\u001B[38;5;241;43m=\u001B[39;49m\u001B[43mfreq\u001B[49m\u001B[43m)\u001B[49m\n\u001B[0;32m     18\u001B[0m model_fit \u001B[38;5;241m=\u001B[39m model\u001B[38;5;241m.\u001B[39mfit()\n\u001B[0;32m     20\u001B[0m \u001B[38;5;66;03m# Realizar previsões para os próximos 12 meses\u001B[39;00m\n",
      "File \u001B[1;32m~\\PycharmProjects\\WeatherPrediction\\venv\\Lib\\site-packages\\statsmodels\\tsa\\arima\\model.py:153\u001B[0m, in \u001B[0;36mARIMA.__init__\u001B[1;34m(self, endog, exog, order, seasonal_order, trend, enforce_stationarity, enforce_invertibility, concentrate_scale, trend_offset, dates, freq, missing, validate_specification)\u001B[0m\n\u001B[0;32m    146\u001B[0m     trend \u001B[38;5;241m=\u001B[39m \u001B[38;5;124m'\u001B[39m\u001B[38;5;124mn\u001B[39m\u001B[38;5;124m'\u001B[39m\n\u001B[0;32m    148\u001B[0m \u001B[38;5;66;03m# Construct the specification\u001B[39;00m\n\u001B[0;32m    149\u001B[0m \u001B[38;5;66;03m# (don't pass specific values of enforce stationarity/invertibility,\u001B[39;00m\n\u001B[0;32m    150\u001B[0m \u001B[38;5;66;03m# because we don't actually want to restrict the estimators based on\u001B[39;00m\n\u001B[0;32m    151\u001B[0m \u001B[38;5;66;03m# this criteria. Instead, we'll just make sure that the parameter\u001B[39;00m\n\u001B[0;32m    152\u001B[0m \u001B[38;5;66;03m# estimates from those methods satisfy the criteria.)\u001B[39;00m\n\u001B[1;32m--> 153\u001B[0m \u001B[38;5;28mself\u001B[39m\u001B[38;5;241m.\u001B[39m_spec_arima \u001B[38;5;241m=\u001B[39m \u001B[43mSARIMAXSpecification\u001B[49m\u001B[43m(\u001B[49m\n\u001B[0;32m    154\u001B[0m \u001B[43m    \u001B[49m\u001B[43mendog\u001B[49m\u001B[43m,\u001B[49m\u001B[43m \u001B[49m\u001B[43mexog\u001B[49m\u001B[38;5;241;43m=\u001B[39;49m\u001B[43mexog\u001B[49m\u001B[43m,\u001B[49m\u001B[43m \u001B[49m\u001B[43morder\u001B[49m\u001B[38;5;241;43m=\u001B[39;49m\u001B[43morder\u001B[49m\u001B[43m,\u001B[49m\u001B[43m \u001B[49m\u001B[43mseasonal_order\u001B[49m\u001B[38;5;241;43m=\u001B[39;49m\u001B[43mseasonal_order\u001B[49m\u001B[43m,\u001B[49m\n\u001B[0;32m    155\u001B[0m \u001B[43m    \u001B[49m\u001B[43mtrend\u001B[49m\u001B[38;5;241;43m=\u001B[39;49m\u001B[43mtrend\u001B[49m\u001B[43m,\u001B[49m\u001B[43m \u001B[49m\u001B[43menforce_stationarity\u001B[49m\u001B[38;5;241;43m=\u001B[39;49m\u001B[38;5;28;43;01mNone\u001B[39;49;00m\u001B[43m,\u001B[49m\u001B[43m \u001B[49m\u001B[43menforce_invertibility\u001B[49m\u001B[38;5;241;43m=\u001B[39;49m\u001B[38;5;28;43;01mNone\u001B[39;49;00m\u001B[43m,\u001B[49m\n\u001B[0;32m    156\u001B[0m \u001B[43m    \u001B[49m\u001B[43mconcentrate_scale\u001B[49m\u001B[38;5;241;43m=\u001B[39;49m\u001B[43mconcentrate_scale\u001B[49m\u001B[43m,\u001B[49m\u001B[43m \u001B[49m\u001B[43mtrend_offset\u001B[49m\u001B[38;5;241;43m=\u001B[39;49m\u001B[43mtrend_offset\u001B[49m\u001B[43m,\u001B[49m\n\u001B[0;32m    157\u001B[0m \u001B[43m    \u001B[49m\u001B[43mdates\u001B[49m\u001B[38;5;241;43m=\u001B[39;49m\u001B[43mdates\u001B[49m\u001B[43m,\u001B[49m\u001B[43m \u001B[49m\u001B[43mfreq\u001B[49m\u001B[38;5;241;43m=\u001B[39;49m\u001B[43mfreq\u001B[49m\u001B[43m,\u001B[49m\u001B[43m \u001B[49m\u001B[43mmissing\u001B[49m\u001B[38;5;241;43m=\u001B[39;49m\u001B[43mmissing\u001B[49m\u001B[43m,\u001B[49m\n\u001B[0;32m    158\u001B[0m \u001B[43m    \u001B[49m\u001B[43mvalidate_specification\u001B[49m\u001B[38;5;241;43m=\u001B[39;49m\u001B[43mvalidate_specification\u001B[49m\u001B[43m)\u001B[49m\n\u001B[0;32m    159\u001B[0m exog \u001B[38;5;241m=\u001B[39m \u001B[38;5;28mself\u001B[39m\u001B[38;5;241m.\u001B[39m_spec_arima\u001B[38;5;241m.\u001B[39m_model\u001B[38;5;241m.\u001B[39mdata\u001B[38;5;241m.\u001B[39morig_exog\n\u001B[0;32m    161\u001B[0m \u001B[38;5;66;03m# Raise an error if we have a constant in an integrated model\u001B[39;00m\n",
      "File \u001B[1;32m~\\PycharmProjects\\WeatherPrediction\\venv\\Lib\\site-packages\\statsmodels\\tsa\\arima\\specification.py:454\u001B[0m, in \u001B[0;36mSARIMAXSpecification.__init__\u001B[1;34m(self, endog, exog, order, seasonal_order, ar_order, diff, ma_order, seasonal_ar_order, seasonal_diff, seasonal_ma_order, seasonal_periods, trend, enforce_stationarity, enforce_invertibility, concentrate_scale, trend_offset, dates, freq, missing, validate_specification)\u001B[0m\n\u001B[0;32m    451\u001B[0m \u001B[38;5;66;03m# Validate endog shape\u001B[39;00m\n\u001B[0;32m    452\u001B[0m \u001B[38;5;28;01mif\u001B[39;00m (validate_specification \u001B[38;5;129;01mand\u001B[39;00m \u001B[38;5;129;01mnot\u001B[39;00m faux_endog \u001B[38;5;129;01mand\u001B[39;00m\n\u001B[0;32m    453\u001B[0m         \u001B[38;5;28mself\u001B[39m\u001B[38;5;241m.\u001B[39mendog\u001B[38;5;241m.\u001B[39mndim \u001B[38;5;241m>\u001B[39m \u001B[38;5;241m1\u001B[39m \u001B[38;5;129;01mand\u001B[39;00m \u001B[38;5;28mself\u001B[39m\u001B[38;5;241m.\u001B[39mendog\u001B[38;5;241m.\u001B[39mshape[\u001B[38;5;241m1\u001B[39m] \u001B[38;5;241m>\u001B[39m \u001B[38;5;241m1\u001B[39m):\n\u001B[1;32m--> 454\u001B[0m     \u001B[38;5;28;01mraise\u001B[39;00m \u001B[38;5;167;01mValueError\u001B[39;00m(\u001B[38;5;124m'\u001B[39m\u001B[38;5;124mSARIMAX models require univariate `endog`. Got\u001B[39m\u001B[38;5;124m'\u001B[39m\n\u001B[0;32m    455\u001B[0m                      \u001B[38;5;124m'\u001B[39m\u001B[38;5;124m shape \u001B[39m\u001B[38;5;132;01m%s\u001B[39;00m\u001B[38;5;124m.\u001B[39m\u001B[38;5;124m'\u001B[39m \u001B[38;5;241m%\u001B[39m \u001B[38;5;28mstr\u001B[39m(\u001B[38;5;28mself\u001B[39m\u001B[38;5;241m.\u001B[39mendog\u001B[38;5;241m.\u001B[39mshape))\n\u001B[0;32m    457\u001B[0m \u001B[38;5;28mself\u001B[39m\u001B[38;5;241m.\u001B[39m_has_missing \u001B[38;5;241m=\u001B[39m (\n\u001B[0;32m    458\u001B[0m     \u001B[38;5;28;01mNone\u001B[39;00m \u001B[38;5;28;01mif\u001B[39;00m faux_endog \u001B[38;5;28;01melse\u001B[39;00m np\u001B[38;5;241m.\u001B[39many(np\u001B[38;5;241m.\u001B[39misnan(\u001B[38;5;28mself\u001B[39m\u001B[38;5;241m.\u001B[39mendog)))\n",
      "\u001B[1;31mValueError\u001B[0m: SARIMAX models require univariate `endog`. Got shape (808, 7)."
     ]
    }
   ],
   "source": [
    "import pandas as pd\n",
    "from statsmodels.tsa.arima.model import ARIMA\n",
    "\n",
    "# Preparar dados\n",
    "df = data.copy()\n",
    "df.Date = pd.to_datetime(df.Date.values)\n",
    "df.set_index('Date', inplace=True)\n",
    "\n",
    "# Escolher os parâmetros p, d, q\n",
    "# (neste exemplo, usaremos p=2, d=1 e q=1, mas é recomendável usar métodos como AIC ou BIC para escolher os melhores valores)\n",
    "p, d, q = 2, 1, 1\n",
    "\n",
    "# Define a frequência dos dados para diária (D)\n",
    "freq = 'D'\n",
    "\n",
    "# Treinar o modelo ARIMA\n",
    "model = ARIMA(df, order=(p, d, q), freq=freq)\n",
    "model_fit = model.fit()\n",
    "\n",
    "# Realizar previsões para os próximos 12 meses\n",
    "n_periods = 12\n",
    "forecast = model_fit.forecast(steps=n_periods, alpha=0.05, freq=freq)\n",
    "\n",
    "# Criar um índice de data para as previsões\n",
    "forecast_index = pd.date_range(start='2023-01-01', periods=n_periods, freq=freq)\n",
    "\n",
    "forecast"
   ],
   "metadata": {
    "collapsed": false
   }
  },
  {
   "cell_type": "code",
   "execution_count": null,
   "outputs": [],
   "source": [],
   "metadata": {
    "collapsed": false
   }
  }
 ],
 "metadata": {
  "kernelspec": {
   "display_name": "Python 3",
   "language": "python",
   "name": "python3"
  },
  "language_info": {
   "codemirror_mode": {
    "name": "ipython",
    "version": 2
   },
   "file_extension": ".py",
   "mimetype": "text/x-python",
   "name": "python",
   "nbconvert_exporter": "python",
   "pygments_lexer": "ipython2",
   "version": "2.7.6"
  }
 },
 "nbformat": 4,
 "nbformat_minor": 0
}
