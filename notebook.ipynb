{
 "cells": [
  {
   "cell_type": "code",
   "execution_count": 7,
   "metadata": {
    "collapsed": true
   },
   "outputs": [],
   "source": [
    "import os\n",
    "import pandas as pd\n",
    "\n",
    "def starts_with_20(filename):\n",
    "    \"\"\"Check if the filename starts with '20'.\"\"\"\n",
    "    return filename.startswith(\"20\")\n",
    "\n",
    "def get_csv_files(folder_path):\n",
    "    \"\"\"Return a list of CSV files in the folder that start with '20'.\"\"\"\n",
    "    all_files = os.listdir(folder_path)\n",
    "    csv_files = [file for file in all_files if file.endswith(\".csv\") and starts_with_20(file)]\n",
    "    return csv_files\n",
    "\n",
    "def read_and_combine_csv_files(folder_path, csv_files):\n",
    "    \"\"\"Read and concatenate the CSV files into a single DataFrame.\"\"\"\n",
    "    combined_dataframe = pd.concat([pd.read_csv(os.path.join(folder_path, file)) for file in csv_files])\n",
    "    return combined_dataframe"
   ]
  },
  {
   "cell_type": "code",
   "execution_count": 8,
   "outputs": [
    {
     "data": {
      "text/plain": "             dt     sunrise      sunset   temp  feels_like  pressure  \\\n0    1419984000  1419927716  1419976557  24.52       24.62      1015   \n1    1420070400  1420014152  1420062976  25.27       25.39      1016   \n2    1420156800  1420100590  1420149394  25.10       25.36      1016   \n3    1420243200  1420187029  1420235810  24.06       24.48      1018   \n4    1420329600  1420273468  1420322226  22.51       22.96      1019   \n..          ...         ...         ...    ...         ...       ...   \n171  1609027200  1608970791  1609019680  19.83       20.01      1016   \n172  1609113600  1609057225  1609106103  20.83       21.19      1017   \n173  1609200000  1609143660  1609192525  20.50       20.93      1018   \n174  1609286400  1609230096  1609278946  20.46       20.91      1016   \n175  1609372800  1609316532  1609365366  24.94       25.11      1014   \n\n     humidity  dew_point  clouds  visibility  wind_speed  wind_deg  \\\n0          61      16.51       0     10000.0         3.6       320   \n1          59      16.69       0     10000.0         3.1       330   \n2          65      18.06       0     10000.0         2.6       300   \n3          75      19.35       0     10000.0         5.7       170   \n4          82      19.28      75      9000.0         2.6       120   \n..        ...        ...     ...         ...         ...       ...   \n171        82      16.67      75      6000.0         3.6       140   \n172        85      18.22      20      8000.0         1.5        70   \n173        89      18.63      75      3000.0         2.1        20   \n174        90      18.76      75     10000.0         1.0       100   \n175        62      17.16      20     10000.0         5.1       360   \n\n                                               weather           rain  \\\n0    [{'id': 501, 'main': 'Rain', 'description': 'm...   {'1h': 1.44}   \n1    [{'id': 800, 'main': 'Clear', 'description': '...            NaN   \n2    [{'id': 800, 'main': 'Clear', 'description': '...            NaN   \n3    [{'id': 211, 'main': 'Thunderstorm', 'descript...            NaN   \n4    [{'id': 803, 'main': 'Clouds', 'description': ...            NaN   \n..                                                 ...            ...   \n171  [{'id': 701, 'main': 'Mist', 'description': 'm...            NaN   \n172  [{'id': 701, 'main': 'Mist', 'description': 'm...            NaN   \n173  [{'id': 502, 'main': 'Rain', 'description': 'h...  {'1h': 11.94}   \n174  [{'id': 701, 'main': 'Mist', 'description': 'm...            NaN   \n175  [{'id': 721, 'main': 'Haze', 'description': 'h...            NaN   \n\n     wind_gust  \n0          NaN  \n1          NaN  \n2          NaN  \n3          NaN  \n4          NaN  \n..         ...  \n171        NaN  \n172        NaN  \n173        NaN  \n174        NaN  \n175        NaN  \n\n[2196 rows x 15 columns]",
      "text/html": "<div>\n<style scoped>\n    .dataframe tbody tr th:only-of-type {\n        vertical-align: middle;\n    }\n\n    .dataframe tbody tr th {\n        vertical-align: top;\n    }\n\n    .dataframe thead th {\n        text-align: right;\n    }\n</style>\n<table border=\"1\" class=\"dataframe\">\n  <thead>\n    <tr style=\"text-align: right;\">\n      <th></th>\n      <th>dt</th>\n      <th>sunrise</th>\n      <th>sunset</th>\n      <th>temp</th>\n      <th>feels_like</th>\n      <th>pressure</th>\n      <th>humidity</th>\n      <th>dew_point</th>\n      <th>clouds</th>\n      <th>visibility</th>\n      <th>wind_speed</th>\n      <th>wind_deg</th>\n      <th>weather</th>\n      <th>rain</th>\n      <th>wind_gust</th>\n    </tr>\n  </thead>\n  <tbody>\n    <tr>\n      <th>0</th>\n      <td>1419984000</td>\n      <td>1419927716</td>\n      <td>1419976557</td>\n      <td>24.52</td>\n      <td>24.62</td>\n      <td>1015</td>\n      <td>61</td>\n      <td>16.51</td>\n      <td>0</td>\n      <td>10000.0</td>\n      <td>3.6</td>\n      <td>320</td>\n      <td>[{'id': 501, 'main': 'Rain', 'description': 'm...</td>\n      <td>{'1h': 1.44}</td>\n      <td>NaN</td>\n    </tr>\n    <tr>\n      <th>1</th>\n      <td>1420070400</td>\n      <td>1420014152</td>\n      <td>1420062976</td>\n      <td>25.27</td>\n      <td>25.39</td>\n      <td>1016</td>\n      <td>59</td>\n      <td>16.69</td>\n      <td>0</td>\n      <td>10000.0</td>\n      <td>3.1</td>\n      <td>330</td>\n      <td>[{'id': 800, 'main': 'Clear', 'description': '...</td>\n      <td>NaN</td>\n      <td>NaN</td>\n    </tr>\n    <tr>\n      <th>2</th>\n      <td>1420156800</td>\n      <td>1420100590</td>\n      <td>1420149394</td>\n      <td>25.10</td>\n      <td>25.36</td>\n      <td>1016</td>\n      <td>65</td>\n      <td>18.06</td>\n      <td>0</td>\n      <td>10000.0</td>\n      <td>2.6</td>\n      <td>300</td>\n      <td>[{'id': 800, 'main': 'Clear', 'description': '...</td>\n      <td>NaN</td>\n      <td>NaN</td>\n    </tr>\n    <tr>\n      <th>3</th>\n      <td>1420243200</td>\n      <td>1420187029</td>\n      <td>1420235810</td>\n      <td>24.06</td>\n      <td>24.48</td>\n      <td>1018</td>\n      <td>75</td>\n      <td>19.35</td>\n      <td>0</td>\n      <td>10000.0</td>\n      <td>5.7</td>\n      <td>170</td>\n      <td>[{'id': 211, 'main': 'Thunderstorm', 'descript...</td>\n      <td>NaN</td>\n      <td>NaN</td>\n    </tr>\n    <tr>\n      <th>4</th>\n      <td>1420329600</td>\n      <td>1420273468</td>\n      <td>1420322226</td>\n      <td>22.51</td>\n      <td>22.96</td>\n      <td>1019</td>\n      <td>82</td>\n      <td>19.28</td>\n      <td>75</td>\n      <td>9000.0</td>\n      <td>2.6</td>\n      <td>120</td>\n      <td>[{'id': 803, 'main': 'Clouds', 'description': ...</td>\n      <td>NaN</td>\n      <td>NaN</td>\n    </tr>\n    <tr>\n      <th>...</th>\n      <td>...</td>\n      <td>...</td>\n      <td>...</td>\n      <td>...</td>\n      <td>...</td>\n      <td>...</td>\n      <td>...</td>\n      <td>...</td>\n      <td>...</td>\n      <td>...</td>\n      <td>...</td>\n      <td>...</td>\n      <td>...</td>\n      <td>...</td>\n      <td>...</td>\n    </tr>\n    <tr>\n      <th>171</th>\n      <td>1609027200</td>\n      <td>1608970791</td>\n      <td>1609019680</td>\n      <td>19.83</td>\n      <td>20.01</td>\n      <td>1016</td>\n      <td>82</td>\n      <td>16.67</td>\n      <td>75</td>\n      <td>6000.0</td>\n      <td>3.6</td>\n      <td>140</td>\n      <td>[{'id': 701, 'main': 'Mist', 'description': 'm...</td>\n      <td>NaN</td>\n      <td>NaN</td>\n    </tr>\n    <tr>\n      <th>172</th>\n      <td>1609113600</td>\n      <td>1609057225</td>\n      <td>1609106103</td>\n      <td>20.83</td>\n      <td>21.19</td>\n      <td>1017</td>\n      <td>85</td>\n      <td>18.22</td>\n      <td>20</td>\n      <td>8000.0</td>\n      <td>1.5</td>\n      <td>70</td>\n      <td>[{'id': 701, 'main': 'Mist', 'description': 'm...</td>\n      <td>NaN</td>\n      <td>NaN</td>\n    </tr>\n    <tr>\n      <th>173</th>\n      <td>1609200000</td>\n      <td>1609143660</td>\n      <td>1609192525</td>\n      <td>20.50</td>\n      <td>20.93</td>\n      <td>1018</td>\n      <td>89</td>\n      <td>18.63</td>\n      <td>75</td>\n      <td>3000.0</td>\n      <td>2.1</td>\n      <td>20</td>\n      <td>[{'id': 502, 'main': 'Rain', 'description': 'h...</td>\n      <td>{'1h': 11.94}</td>\n      <td>NaN</td>\n    </tr>\n    <tr>\n      <th>174</th>\n      <td>1609286400</td>\n      <td>1609230096</td>\n      <td>1609278946</td>\n      <td>20.46</td>\n      <td>20.91</td>\n      <td>1016</td>\n      <td>90</td>\n      <td>18.76</td>\n      <td>75</td>\n      <td>10000.0</td>\n      <td>1.0</td>\n      <td>100</td>\n      <td>[{'id': 701, 'main': 'Mist', 'description': 'm...</td>\n      <td>NaN</td>\n      <td>NaN</td>\n    </tr>\n    <tr>\n      <th>175</th>\n      <td>1609372800</td>\n      <td>1609316532</td>\n      <td>1609365366</td>\n      <td>24.94</td>\n      <td>25.11</td>\n      <td>1014</td>\n      <td>62</td>\n      <td>17.16</td>\n      <td>20</td>\n      <td>10000.0</td>\n      <td>5.1</td>\n      <td>360</td>\n      <td>[{'id': 721, 'main': 'Haze', 'description': 'h...</td>\n      <td>NaN</td>\n      <td>NaN</td>\n    </tr>\n  </tbody>\n</table>\n<p>2196 rows × 15 columns</p>\n</div>"
     },
     "execution_count": 8,
     "metadata": {},
     "output_type": "execute_result"
    }
   ],
   "source": [
    "folder_path = \"data/\"\n",
    "\n",
    "# Get a list of CSV files in the folder that start with \"20\"\n",
    "csv_files = get_csv_files(folder_path)\n",
    "\n",
    "# Read and concatenate the CSV files into a single DataFrame\n",
    "combined_dataframe = read_and_combine_csv_files(folder_path, csv_files)\n",
    "\n",
    "# Print the combined DataFrame\n",
    "combined_dataframe"
   ],
   "metadata": {
    "collapsed": false
   }
  },
  {
   "cell_type": "code",
   "execution_count": null,
   "outputs": [],
   "source": [],
   "metadata": {
    "collapsed": false
   }
  }
 ],
 "metadata": {
  "kernelspec": {
   "display_name": "Python 3",
   "language": "python",
   "name": "python3"
  },
  "language_info": {
   "codemirror_mode": {
    "name": "ipython",
    "version": 2
   },
   "file_extension": ".py",
   "mimetype": "text/x-python",
   "name": "python",
   "nbconvert_exporter": "python",
   "pygments_lexer": "ipython2",
   "version": "2.7.6"
  }
 },
 "nbformat": 4,
 "nbformat_minor": 0
}
