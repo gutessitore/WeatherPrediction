{
 "cells": [
  {
   "cell_type": "code",
   "execution_count": 152,
   "metadata": {
    "collapsed": true
   },
   "outputs": [],
   "source": [
    "import os\n",
    "import pandas as pd\n",
    "from datetime import datetime\n",
    "\n",
    "def starts_with_20(filename):\n",
    "    \"\"\"Check if the filename starts with '20'.\"\"\"\n",
    "    return filename.startswith(\"20\")\n",
    "\n",
    "def get_csv_files(folder_path):\n",
    "    \"\"\"Return a list of CSV files in the folder that start with '20'.\"\"\"\n",
    "    all_files = os.listdir(folder_path)\n",
    "    csv_files = [file for file in all_files if file.endswith(\".csv\") and starts_with_20(file)]\n",
    "    return csv_files\n",
    "\n",
    "def read_and_combine_csv_files(folder_path, csv_files):\n",
    "    \"\"\"Read and concatenate the CSV files into a single DataFrame.\"\"\"\n",
    "    combined_dataframe = pd.concat([pd.read_csv(os.path.join(folder_path, file)) for file in csv_files])\n",
    "    return combined_dataframe"
   ]
  },
  {
   "cell_type": "code",
   "execution_count": 153,
   "outputs": [
    {
     "data": {
      "text/plain": "            dt   sunrise    sunset   temp  feels_like  pressure  humidity  \\\n0   2013-12-31  05:22:42  18:56:21  26.70       27.77      1014        61   \n1   2014-01-01  05:23:20  18:56:38  24.70       25.16      1015        74   \n2   2014-01-02  05:23:59  18:56:54  28.70       29.75      1013        54   \n3   2014-01-03  05:24:38  18:57:09  26.70       28.36      1016        70   \n4   2014-01-04  05:25:18  18:57:23  20.70       21.12      1021        88   \n..         ...       ...       ...    ...         ...       ...       ...   \n171 2020-12-26  05:19:51  18:54:40  19.83       20.01      1016        82   \n172 2020-12-27  05:20:25  18:55:03  20.83       21.19      1017        85   \n173 2020-12-28  05:21:00  18:55:25  20.50       20.93      1018        89   \n174 2020-12-29  05:21:36  18:55:46  20.46       20.91      1016        90   \n175 2020-12-30  05:22:12  18:56:06  24.94       25.11      1014        62   \n\n     dew_point  clouds  visibility  wind_speed  wind_deg  \\\n0        18.56      40     10000.0        4.12       330   \n1        19.76      75     10000.0        3.60       310   \n2        18.48       0     10000.0        5.14       330   \n3        20.78       0     10000.0        3.10       150   \n4        18.64     100         NaN        7.72       180   \n..         ...     ...         ...         ...       ...   \n171      16.67      75      6000.0        3.60       140   \n172      18.22      20      8000.0        1.50        70   \n173      18.63      75      3000.0        2.10        20   \n174      18.76      75     10000.0        1.00       100   \n175      17.16      20     10000.0        5.10       360   \n\n                                               weather           rain  \\\n0    {'id': 802, 'main': 'Clouds', 'description': '...            NaN   \n1    {'id': 500, 'main': 'Rain', 'description': 'li...            NaN   \n2    {'id': 800, 'main': 'Clear', 'description': 'c...            NaN   \n3    {'id': 800, 'main': 'Clear', 'description': 'c...            NaN   \n4    {'id': 500, 'main': 'Rain', 'description': 'li...   {'1h': 0.31}   \n..                                                 ...            ...   \n171  {'id': 701, 'main': 'Mist', 'description': 'mi...            NaN   \n172  {'id': 701, 'main': 'Mist', 'description': 'mi...            NaN   \n173  {'id': 502, 'main': 'Rain', 'description': 'he...  {'1h': 11.94}   \n174  {'id': 701, 'main': 'Mist', 'description': 'mi...            NaN   \n175  {'id': 721, 'main': 'Haze', 'description': 'ha...            NaN   \n\n     wind_gust  \n0          NaN  \n1          NaN  \n2          NaN  \n3          NaN  \n4          NaN  \n..         ...  \n171        NaN  \n172        NaN  \n173        NaN  \n174        NaN  \n175        NaN  \n\n[2557 rows x 15 columns]",
      "text/html": "<div>\n<style scoped>\n    .dataframe tbody tr th:only-of-type {\n        vertical-align: middle;\n    }\n\n    .dataframe tbody tr th {\n        vertical-align: top;\n    }\n\n    .dataframe thead th {\n        text-align: right;\n    }\n</style>\n<table border=\"1\" class=\"dataframe\">\n  <thead>\n    <tr style=\"text-align: right;\">\n      <th></th>\n      <th>dt</th>\n      <th>sunrise</th>\n      <th>sunset</th>\n      <th>temp</th>\n      <th>feels_like</th>\n      <th>pressure</th>\n      <th>humidity</th>\n      <th>dew_point</th>\n      <th>clouds</th>\n      <th>visibility</th>\n      <th>wind_speed</th>\n      <th>wind_deg</th>\n      <th>weather</th>\n      <th>rain</th>\n      <th>wind_gust</th>\n    </tr>\n  </thead>\n  <tbody>\n    <tr>\n      <th>0</th>\n      <td>2013-12-31</td>\n      <td>05:22:42</td>\n      <td>18:56:21</td>\n      <td>26.70</td>\n      <td>27.77</td>\n      <td>1014</td>\n      <td>61</td>\n      <td>18.56</td>\n      <td>40</td>\n      <td>10000.0</td>\n      <td>4.12</td>\n      <td>330</td>\n      <td>{'id': 802, 'main': 'Clouds', 'description': '...</td>\n      <td>NaN</td>\n      <td>NaN</td>\n    </tr>\n    <tr>\n      <th>1</th>\n      <td>2014-01-01</td>\n      <td>05:23:20</td>\n      <td>18:56:38</td>\n      <td>24.70</td>\n      <td>25.16</td>\n      <td>1015</td>\n      <td>74</td>\n      <td>19.76</td>\n      <td>75</td>\n      <td>10000.0</td>\n      <td>3.60</td>\n      <td>310</td>\n      <td>{'id': 500, 'main': 'Rain', 'description': 'li...</td>\n      <td>NaN</td>\n      <td>NaN</td>\n    </tr>\n    <tr>\n      <th>2</th>\n      <td>2014-01-02</td>\n      <td>05:23:59</td>\n      <td>18:56:54</td>\n      <td>28.70</td>\n      <td>29.75</td>\n      <td>1013</td>\n      <td>54</td>\n      <td>18.48</td>\n      <td>0</td>\n      <td>10000.0</td>\n      <td>5.14</td>\n      <td>330</td>\n      <td>{'id': 800, 'main': 'Clear', 'description': 'c...</td>\n      <td>NaN</td>\n      <td>NaN</td>\n    </tr>\n    <tr>\n      <th>3</th>\n      <td>2014-01-03</td>\n      <td>05:24:38</td>\n      <td>18:57:09</td>\n      <td>26.70</td>\n      <td>28.36</td>\n      <td>1016</td>\n      <td>70</td>\n      <td>20.78</td>\n      <td>0</td>\n      <td>10000.0</td>\n      <td>3.10</td>\n      <td>150</td>\n      <td>{'id': 800, 'main': 'Clear', 'description': 'c...</td>\n      <td>NaN</td>\n      <td>NaN</td>\n    </tr>\n    <tr>\n      <th>4</th>\n      <td>2014-01-04</td>\n      <td>05:25:18</td>\n      <td>18:57:23</td>\n      <td>20.70</td>\n      <td>21.12</td>\n      <td>1021</td>\n      <td>88</td>\n      <td>18.64</td>\n      <td>100</td>\n      <td>NaN</td>\n      <td>7.72</td>\n      <td>180</td>\n      <td>{'id': 500, 'main': 'Rain', 'description': 'li...</td>\n      <td>{'1h': 0.31}</td>\n      <td>NaN</td>\n    </tr>\n    <tr>\n      <th>...</th>\n      <td>...</td>\n      <td>...</td>\n      <td>...</td>\n      <td>...</td>\n      <td>...</td>\n      <td>...</td>\n      <td>...</td>\n      <td>...</td>\n      <td>...</td>\n      <td>...</td>\n      <td>...</td>\n      <td>...</td>\n      <td>...</td>\n      <td>...</td>\n      <td>...</td>\n    </tr>\n    <tr>\n      <th>171</th>\n      <td>2020-12-26</td>\n      <td>05:19:51</td>\n      <td>18:54:40</td>\n      <td>19.83</td>\n      <td>20.01</td>\n      <td>1016</td>\n      <td>82</td>\n      <td>16.67</td>\n      <td>75</td>\n      <td>6000.0</td>\n      <td>3.60</td>\n      <td>140</td>\n      <td>{'id': 701, 'main': 'Mist', 'description': 'mi...</td>\n      <td>NaN</td>\n      <td>NaN</td>\n    </tr>\n    <tr>\n      <th>172</th>\n      <td>2020-12-27</td>\n      <td>05:20:25</td>\n      <td>18:55:03</td>\n      <td>20.83</td>\n      <td>21.19</td>\n      <td>1017</td>\n      <td>85</td>\n      <td>18.22</td>\n      <td>20</td>\n      <td>8000.0</td>\n      <td>1.50</td>\n      <td>70</td>\n      <td>{'id': 701, 'main': 'Mist', 'description': 'mi...</td>\n      <td>NaN</td>\n      <td>NaN</td>\n    </tr>\n    <tr>\n      <th>173</th>\n      <td>2020-12-28</td>\n      <td>05:21:00</td>\n      <td>18:55:25</td>\n      <td>20.50</td>\n      <td>20.93</td>\n      <td>1018</td>\n      <td>89</td>\n      <td>18.63</td>\n      <td>75</td>\n      <td>3000.0</td>\n      <td>2.10</td>\n      <td>20</td>\n      <td>{'id': 502, 'main': 'Rain', 'description': 'he...</td>\n      <td>{'1h': 11.94}</td>\n      <td>NaN</td>\n    </tr>\n    <tr>\n      <th>174</th>\n      <td>2020-12-29</td>\n      <td>05:21:36</td>\n      <td>18:55:46</td>\n      <td>20.46</td>\n      <td>20.91</td>\n      <td>1016</td>\n      <td>90</td>\n      <td>18.76</td>\n      <td>75</td>\n      <td>10000.0</td>\n      <td>1.00</td>\n      <td>100</td>\n      <td>{'id': 701, 'main': 'Mist', 'description': 'mi...</td>\n      <td>NaN</td>\n      <td>NaN</td>\n    </tr>\n    <tr>\n      <th>175</th>\n      <td>2020-12-30</td>\n      <td>05:22:12</td>\n      <td>18:56:06</td>\n      <td>24.94</td>\n      <td>25.11</td>\n      <td>1014</td>\n      <td>62</td>\n      <td>17.16</td>\n      <td>20</td>\n      <td>10000.0</td>\n      <td>5.10</td>\n      <td>360</td>\n      <td>{'id': 721, 'main': 'Haze', 'description': 'ha...</td>\n      <td>NaN</td>\n      <td>NaN</td>\n    </tr>\n  </tbody>\n</table>\n<p>2557 rows × 15 columns</p>\n</div>"
     },
     "execution_count": 153,
     "metadata": {},
     "output_type": "execute_result"
    }
   ],
   "source": [
    "folder_path = \"data/\"\n",
    "\n",
    "# Get a list of CSV files in the folder that start with \"20\"\n",
    "csv_files = get_csv_files(folder_path)\n",
    "\n",
    "# Read and concatenate the CSV files into a single DataFrame\n",
    "combined_dataframe = read_and_combine_csv_files(folder_path, csv_files)\n",
    "\n",
    "# Convert unix timestamp to datetime and consider the timezone, Brazil is UTC-3\n",
    "combined_dataframe.dt = pd.to_datetime(combined_dataframe.dt, unit='s') - pd.Timedelta(days=1)\n",
    "combined_dataframe.sunrise = pd.to_datetime(combined_dataframe.sunrise, unit='s') - pd.Timedelta(hours=3)\n",
    "combined_dataframe.sunset = pd.to_datetime(combined_dataframe.sunset, unit='s') - pd.Timedelta(hours=3)\n",
    "\n",
    "# Get only the time for sunrise and sunset\n",
    "combined_dataframe.sunrise = combined_dataframe.sunrise.dt.time\n",
    "combined_dataframe.sunset = combined_dataframe.sunset.dt.time\n",
    "\n",
    "\n",
    "# Convert the weather column to dicts\n",
    "combined_dataframe.weather = combined_dataframe.weather.apply(pd.Series)\\\n",
    "    .apply(lambda x: eval(x.to_list()[0])[0], axis=1)\n",
    "\n",
    "# Drop duplicates\n",
    "combined_dataframe.drop_duplicates(subset=['dt'], keep='first', inplace=True)\n",
    "\n",
    "# Print the combined DataFrame\n",
    "combined_dataframe"
   ],
   "metadata": {
    "collapsed": false
   }
  },
  {
   "cell_type": "code",
   "execution_count": 154,
   "outputs": [
    {
     "data": {
      "text/plain": "         min        max\n0 2013-12-31 2020-12-30",
      "text/html": "<div>\n<style scoped>\n    .dataframe tbody tr th:only-of-type {\n        vertical-align: middle;\n    }\n\n    .dataframe tbody tr th {\n        vertical-align: top;\n    }\n\n    .dataframe thead th {\n        text-align: right;\n    }\n</style>\n<table border=\"1\" class=\"dataframe\">\n  <thead>\n    <tr style=\"text-align: right;\">\n      <th></th>\n      <th>min</th>\n      <th>max</th>\n    </tr>\n  </thead>\n  <tbody>\n    <tr>\n      <th>0</th>\n      <td>2013-12-31</td>\n      <td>2020-12-30</td>\n    </tr>\n  </tbody>\n</table>\n</div>"
     },
     "execution_count": 154,
     "metadata": {},
     "output_type": "execute_result"
    }
   ],
   "source": [
    "def find_complete_intervals(df, date_column):\n",
    "    # Calculate the differences between consecutive dates\n",
    "    df['Diff'] = df[date_column].diff().dt.days\n",
    "\n",
    "    # Create a new column to group continuous intervals\n",
    "    df['Group'] = (df['Diff'] > 1).cumsum()\n",
    "\n",
    "    # Calculate start and end dates for each group\n",
    "    intervals = df.groupby('Group')[date_column].agg(['min', 'max']).reset_index(drop=True)\n",
    "\n",
    "    # Remove single date intervals\n",
    "    intervals = intervals[intervals['max'] - intervals['min'] > pd.Timedelta(days=0)]\n",
    "\n",
    "    # Remove auxiliar columns\n",
    "    df.drop(['Diff', 'Group'], axis=1, inplace=True)\n",
    "\n",
    "    return intervals\n",
    "\n",
    "\n",
    "find_complete_intervals(combined_dataframe, 'dt')"
   ],
   "metadata": {
    "collapsed": false
   }
  },
  {
   "cell_type": "code",
   "execution_count": 155,
   "outputs": [
    {
     "data": {
      "text/plain": "            dt   sunrise    sunset   temp  feels_like  pressure  humidity  \\\n0   2013-12-31  05:22:42  18:56:21  26.70       27.77      1014        61   \n1   2014-01-01  05:23:20  18:56:38  24.70       25.16      1015        74   \n2   2014-01-02  05:23:59  18:56:54  28.70       29.75      1013        54   \n3   2014-01-03  05:24:38  18:57:09  26.70       28.36      1016        70   \n4   2014-01-04  05:25:18  18:57:23  20.70       21.12      1021        88   \n..         ...       ...       ...    ...         ...       ...       ...   \n171 2020-12-26  05:19:51  18:54:40  19.83       20.01      1016        82   \n172 2020-12-27  05:20:25  18:55:03  20.83       21.19      1017        85   \n173 2020-12-28  05:21:00  18:55:25  20.50       20.93      1018        89   \n174 2020-12-29  05:21:36  18:55:46  20.46       20.91      1016        90   \n175 2020-12-30  05:22:12  18:56:06  24.94       25.11      1014        62   \n\n     dew_point  clouds  visibility  wind_speed  wind_deg  \\\n0        18.56      40     10000.0        4.12       330   \n1        19.76      75     10000.0        3.60       310   \n2        18.48       0     10000.0        5.14       330   \n3        20.78       0     10000.0        3.10       150   \n4        18.64     100         NaN        7.72       180   \n..         ...     ...         ...         ...       ...   \n171      16.67      75      6000.0        3.60       140   \n172      18.22      20      8000.0        1.50        70   \n173      18.63      75      3000.0        2.10        20   \n174      18.76      75     10000.0        1.00       100   \n175      17.16      20     10000.0        5.10       360   \n\n                                               weather           rain  \\\n0    {'id': 802, 'main': 'Clouds', 'description': '...            NaN   \n1    {'id': 500, 'main': 'Rain', 'description': 'li...            NaN   \n2    {'id': 800, 'main': 'Clear', 'description': 'c...            NaN   \n3    {'id': 800, 'main': 'Clear', 'description': 'c...            NaN   \n4    {'id': 500, 'main': 'Rain', 'description': 'li...   {'1h': 0.31}   \n..                                                 ...            ...   \n171  {'id': 701, 'main': 'Mist', 'description': 'mi...            NaN   \n172  {'id': 701, 'main': 'Mist', 'description': 'mi...            NaN   \n173  {'id': 502, 'main': 'Rain', 'description': 'he...  {'1h': 11.94}   \n174  {'id': 701, 'main': 'Mist', 'description': 'mi...            NaN   \n175  {'id': 721, 'main': 'Haze', 'description': 'ha...            NaN   \n\n     wind_gust  \n0          NaN  \n1          NaN  \n2          NaN  \n3          NaN  \n4          NaN  \n..         ...  \n171        NaN  \n172        NaN  \n173        NaN  \n174        NaN  \n175        NaN  \n\n[2557 rows x 15 columns]",
      "text/html": "<div>\n<style scoped>\n    .dataframe tbody tr th:only-of-type {\n        vertical-align: middle;\n    }\n\n    .dataframe tbody tr th {\n        vertical-align: top;\n    }\n\n    .dataframe thead th {\n        text-align: right;\n    }\n</style>\n<table border=\"1\" class=\"dataframe\">\n  <thead>\n    <tr style=\"text-align: right;\">\n      <th></th>\n      <th>dt</th>\n      <th>sunrise</th>\n      <th>sunset</th>\n      <th>temp</th>\n      <th>feels_like</th>\n      <th>pressure</th>\n      <th>humidity</th>\n      <th>dew_point</th>\n      <th>clouds</th>\n      <th>visibility</th>\n      <th>wind_speed</th>\n      <th>wind_deg</th>\n      <th>weather</th>\n      <th>rain</th>\n      <th>wind_gust</th>\n    </tr>\n  </thead>\n  <tbody>\n    <tr>\n      <th>0</th>\n      <td>2013-12-31</td>\n      <td>05:22:42</td>\n      <td>18:56:21</td>\n      <td>26.70</td>\n      <td>27.77</td>\n      <td>1014</td>\n      <td>61</td>\n      <td>18.56</td>\n      <td>40</td>\n      <td>10000.0</td>\n      <td>4.12</td>\n      <td>330</td>\n      <td>{'id': 802, 'main': 'Clouds', 'description': '...</td>\n      <td>NaN</td>\n      <td>NaN</td>\n    </tr>\n    <tr>\n      <th>1</th>\n      <td>2014-01-01</td>\n      <td>05:23:20</td>\n      <td>18:56:38</td>\n      <td>24.70</td>\n      <td>25.16</td>\n      <td>1015</td>\n      <td>74</td>\n      <td>19.76</td>\n      <td>75</td>\n      <td>10000.0</td>\n      <td>3.60</td>\n      <td>310</td>\n      <td>{'id': 500, 'main': 'Rain', 'description': 'li...</td>\n      <td>NaN</td>\n      <td>NaN</td>\n    </tr>\n    <tr>\n      <th>2</th>\n      <td>2014-01-02</td>\n      <td>05:23:59</td>\n      <td>18:56:54</td>\n      <td>28.70</td>\n      <td>29.75</td>\n      <td>1013</td>\n      <td>54</td>\n      <td>18.48</td>\n      <td>0</td>\n      <td>10000.0</td>\n      <td>5.14</td>\n      <td>330</td>\n      <td>{'id': 800, 'main': 'Clear', 'description': 'c...</td>\n      <td>NaN</td>\n      <td>NaN</td>\n    </tr>\n    <tr>\n      <th>3</th>\n      <td>2014-01-03</td>\n      <td>05:24:38</td>\n      <td>18:57:09</td>\n      <td>26.70</td>\n      <td>28.36</td>\n      <td>1016</td>\n      <td>70</td>\n      <td>20.78</td>\n      <td>0</td>\n      <td>10000.0</td>\n      <td>3.10</td>\n      <td>150</td>\n      <td>{'id': 800, 'main': 'Clear', 'description': 'c...</td>\n      <td>NaN</td>\n      <td>NaN</td>\n    </tr>\n    <tr>\n      <th>4</th>\n      <td>2014-01-04</td>\n      <td>05:25:18</td>\n      <td>18:57:23</td>\n      <td>20.70</td>\n      <td>21.12</td>\n      <td>1021</td>\n      <td>88</td>\n      <td>18.64</td>\n      <td>100</td>\n      <td>NaN</td>\n      <td>7.72</td>\n      <td>180</td>\n      <td>{'id': 500, 'main': 'Rain', 'description': 'li...</td>\n      <td>{'1h': 0.31}</td>\n      <td>NaN</td>\n    </tr>\n    <tr>\n      <th>...</th>\n      <td>...</td>\n      <td>...</td>\n      <td>...</td>\n      <td>...</td>\n      <td>...</td>\n      <td>...</td>\n      <td>...</td>\n      <td>...</td>\n      <td>...</td>\n      <td>...</td>\n      <td>...</td>\n      <td>...</td>\n      <td>...</td>\n      <td>...</td>\n      <td>...</td>\n    </tr>\n    <tr>\n      <th>171</th>\n      <td>2020-12-26</td>\n      <td>05:19:51</td>\n      <td>18:54:40</td>\n      <td>19.83</td>\n      <td>20.01</td>\n      <td>1016</td>\n      <td>82</td>\n      <td>16.67</td>\n      <td>75</td>\n      <td>6000.0</td>\n      <td>3.60</td>\n      <td>140</td>\n      <td>{'id': 701, 'main': 'Mist', 'description': 'mi...</td>\n      <td>NaN</td>\n      <td>NaN</td>\n    </tr>\n    <tr>\n      <th>172</th>\n      <td>2020-12-27</td>\n      <td>05:20:25</td>\n      <td>18:55:03</td>\n      <td>20.83</td>\n      <td>21.19</td>\n      <td>1017</td>\n      <td>85</td>\n      <td>18.22</td>\n      <td>20</td>\n      <td>8000.0</td>\n      <td>1.50</td>\n      <td>70</td>\n      <td>{'id': 701, 'main': 'Mist', 'description': 'mi...</td>\n      <td>NaN</td>\n      <td>NaN</td>\n    </tr>\n    <tr>\n      <th>173</th>\n      <td>2020-12-28</td>\n      <td>05:21:00</td>\n      <td>18:55:25</td>\n      <td>20.50</td>\n      <td>20.93</td>\n      <td>1018</td>\n      <td>89</td>\n      <td>18.63</td>\n      <td>75</td>\n      <td>3000.0</td>\n      <td>2.10</td>\n      <td>20</td>\n      <td>{'id': 502, 'main': 'Rain', 'description': 'he...</td>\n      <td>{'1h': 11.94}</td>\n      <td>NaN</td>\n    </tr>\n    <tr>\n      <th>174</th>\n      <td>2020-12-29</td>\n      <td>05:21:36</td>\n      <td>18:55:46</td>\n      <td>20.46</td>\n      <td>20.91</td>\n      <td>1016</td>\n      <td>90</td>\n      <td>18.76</td>\n      <td>75</td>\n      <td>10000.0</td>\n      <td>1.00</td>\n      <td>100</td>\n      <td>{'id': 701, 'main': 'Mist', 'description': 'mi...</td>\n      <td>NaN</td>\n      <td>NaN</td>\n    </tr>\n    <tr>\n      <th>175</th>\n      <td>2020-12-30</td>\n      <td>05:22:12</td>\n      <td>18:56:06</td>\n      <td>24.94</td>\n      <td>25.11</td>\n      <td>1014</td>\n      <td>62</td>\n      <td>17.16</td>\n      <td>20</td>\n      <td>10000.0</td>\n      <td>5.10</td>\n      <td>360</td>\n      <td>{'id': 721, 'main': 'Haze', 'description': 'ha...</td>\n      <td>NaN</td>\n      <td>NaN</td>\n    </tr>\n  </tbody>\n</table>\n<p>2557 rows × 15 columns</p>\n</div>"
     },
     "execution_count": 155,
     "metadata": {},
     "output_type": "execute_result"
    }
   ],
   "source": [
    "combined_dataframe"
   ],
   "metadata": {
    "collapsed": false
   }
  },
  {
   "cell_type": "code",
   "execution_count": 156,
   "outputs": [
    {
     "data": {
      "text/plain": "     id          main                   description icon\n0   802        Clouds              scattered clouds  03n\n1   500          Rain                    light rain  10n\n2   800         Clear                     clear sky  01n\n3   200  Thunderstorm  thunderstorm with light rain  11n\n4   721          Haze                          haze  50n\n5   701          Mist                          mist  50n\n6   201  Thunderstorm        thunderstorm with rain  11n\n7   803        Clouds                 broken clouds  04n\n8   211  Thunderstorm                  thunderstorm  11n\n9   804        Clouds               overcast clouds  04n\n10  801        Clouds                    few clouds  02n\n11  501          Rain                 moderate rain  10n\n12  300       Drizzle       light intensity drizzle  09n\n13  301       Drizzle                       drizzle  09n\n14  502          Rain          heavy intensity rain  10n\n15  202  Thunderstorm  thunderstorm with heavy rain  11n",
      "text/html": "<div>\n<style scoped>\n    .dataframe tbody tr th:only-of-type {\n        vertical-align: middle;\n    }\n\n    .dataframe tbody tr th {\n        vertical-align: top;\n    }\n\n    .dataframe thead th {\n        text-align: right;\n    }\n</style>\n<table border=\"1\" class=\"dataframe\">\n  <thead>\n    <tr style=\"text-align: right;\">\n      <th></th>\n      <th>id</th>\n      <th>main</th>\n      <th>description</th>\n      <th>icon</th>\n    </tr>\n  </thead>\n  <tbody>\n    <tr>\n      <th>0</th>\n      <td>802</td>\n      <td>Clouds</td>\n      <td>scattered clouds</td>\n      <td>03n</td>\n    </tr>\n    <tr>\n      <th>1</th>\n      <td>500</td>\n      <td>Rain</td>\n      <td>light rain</td>\n      <td>10n</td>\n    </tr>\n    <tr>\n      <th>2</th>\n      <td>800</td>\n      <td>Clear</td>\n      <td>clear sky</td>\n      <td>01n</td>\n    </tr>\n    <tr>\n      <th>3</th>\n      <td>200</td>\n      <td>Thunderstorm</td>\n      <td>thunderstorm with light rain</td>\n      <td>11n</td>\n    </tr>\n    <tr>\n      <th>4</th>\n      <td>721</td>\n      <td>Haze</td>\n      <td>haze</td>\n      <td>50n</td>\n    </tr>\n    <tr>\n      <th>5</th>\n      <td>701</td>\n      <td>Mist</td>\n      <td>mist</td>\n      <td>50n</td>\n    </tr>\n    <tr>\n      <th>6</th>\n      <td>201</td>\n      <td>Thunderstorm</td>\n      <td>thunderstorm with rain</td>\n      <td>11n</td>\n    </tr>\n    <tr>\n      <th>7</th>\n      <td>803</td>\n      <td>Clouds</td>\n      <td>broken clouds</td>\n      <td>04n</td>\n    </tr>\n    <tr>\n      <th>8</th>\n      <td>211</td>\n      <td>Thunderstorm</td>\n      <td>thunderstorm</td>\n      <td>11n</td>\n    </tr>\n    <tr>\n      <th>9</th>\n      <td>804</td>\n      <td>Clouds</td>\n      <td>overcast clouds</td>\n      <td>04n</td>\n    </tr>\n    <tr>\n      <th>10</th>\n      <td>801</td>\n      <td>Clouds</td>\n      <td>few clouds</td>\n      <td>02n</td>\n    </tr>\n    <tr>\n      <th>11</th>\n      <td>501</td>\n      <td>Rain</td>\n      <td>moderate rain</td>\n      <td>10n</td>\n    </tr>\n    <tr>\n      <th>12</th>\n      <td>300</td>\n      <td>Drizzle</td>\n      <td>light intensity drizzle</td>\n      <td>09n</td>\n    </tr>\n    <tr>\n      <th>13</th>\n      <td>301</td>\n      <td>Drizzle</td>\n      <td>drizzle</td>\n      <td>09n</td>\n    </tr>\n    <tr>\n      <th>14</th>\n      <td>502</td>\n      <td>Rain</td>\n      <td>heavy intensity rain</td>\n      <td>10n</td>\n    </tr>\n    <tr>\n      <th>15</th>\n      <td>202</td>\n      <td>Thunderstorm</td>\n      <td>thunderstorm with heavy rain</td>\n      <td>11n</td>\n    </tr>\n  </tbody>\n</table>\n</div>"
     },
     "execution_count": 156,
     "metadata": {},
     "output_type": "execute_result"
    }
   ],
   "source": [
    "# Extract all diferent weather conditions\n",
    "pd.DataFrame(combined_dataframe.weather.drop_duplicates().to_list())"
   ],
   "metadata": {
    "collapsed": false
   }
  },
  {
   "cell_type": "code",
   "execution_count": 157,
   "outputs": [
    {
     "data": {
      "text/plain": "            dt   sunrise    sunset   temp  feels_like  pressure  humidity  \\\n0   2013-12-31  05:22:42  18:56:21  26.70       27.77      1014        61   \n1   2014-01-01  05:23:20  18:56:38  24.70       25.16      1015        74   \n2   2014-01-02  05:23:59  18:56:54  28.70       29.75      1013        54   \n3   2014-01-03  05:24:38  18:57:09  26.70       28.36      1016        70   \n4   2014-01-04  05:25:18  18:57:23  20.70       21.12      1021        88   \n..         ...       ...       ...    ...         ...       ...       ...   \n171 2020-12-26  05:19:51  18:54:40  19.83       20.01      1016        82   \n172 2020-12-27  05:20:25  18:55:03  20.83       21.19      1017        85   \n173 2020-12-28  05:21:00  18:55:25  20.50       20.93      1018        89   \n174 2020-12-29  05:21:36  18:55:46  20.46       20.91      1016        90   \n175 2020-12-30  05:22:12  18:56:06  24.94       25.11      1014        62   \n\n     dew_point  clouds  visibility  wind_speed  wind_deg  \\\n0        18.56      40     10000.0        4.12       330   \n1        19.76      75     10000.0        3.60       310   \n2        18.48       0     10000.0        5.14       330   \n3        20.78       0     10000.0        3.10       150   \n4        18.64     100         NaN        7.72       180   \n..         ...     ...         ...         ...       ...   \n171      16.67      75      6000.0        3.60       140   \n172      18.22      20      8000.0        1.50        70   \n173      18.63      75      3000.0        2.10        20   \n174      18.76      75     10000.0        1.00       100   \n175      17.16      20     10000.0        5.10       360   \n\n                                               weather           rain  \\\n0    {'id': 802, 'main': 'Clouds', 'description': '...            NaN   \n1    {'id': 500, 'main': 'Rain', 'description': 'li...            NaN   \n2    {'id': 800, 'main': 'Clear', 'description': 'c...            NaN   \n3    {'id': 800, 'main': 'Clear', 'description': 'c...            NaN   \n4    {'id': 500, 'main': 'Rain', 'description': 'li...   {'1h': 0.31}   \n..                                                 ...            ...   \n171  {'id': 701, 'main': 'Mist', 'description': 'mi...            NaN   \n172  {'id': 701, 'main': 'Mist', 'description': 'mi...            NaN   \n173  {'id': 502, 'main': 'Rain', 'description': 'he...  {'1h': 11.94}   \n174  {'id': 701, 'main': 'Mist', 'description': 'mi...            NaN   \n175  {'id': 721, 'main': 'Haze', 'description': 'ha...            NaN   \n\n     wind_gust  weather_id  \n0          NaN         802  \n1          NaN         500  \n2          NaN         800  \n3          NaN         800  \n4          NaN         500  \n..         ...         ...  \n171        NaN         701  \n172        NaN         701  \n173        NaN         502  \n174        NaN         701  \n175        NaN         721  \n\n[2557 rows x 16 columns]",
      "text/html": "<div>\n<style scoped>\n    .dataframe tbody tr th:only-of-type {\n        vertical-align: middle;\n    }\n\n    .dataframe tbody tr th {\n        vertical-align: top;\n    }\n\n    .dataframe thead th {\n        text-align: right;\n    }\n</style>\n<table border=\"1\" class=\"dataframe\">\n  <thead>\n    <tr style=\"text-align: right;\">\n      <th></th>\n      <th>dt</th>\n      <th>sunrise</th>\n      <th>sunset</th>\n      <th>temp</th>\n      <th>feels_like</th>\n      <th>pressure</th>\n      <th>humidity</th>\n      <th>dew_point</th>\n      <th>clouds</th>\n      <th>visibility</th>\n      <th>wind_speed</th>\n      <th>wind_deg</th>\n      <th>weather</th>\n      <th>rain</th>\n      <th>wind_gust</th>\n      <th>weather_id</th>\n    </tr>\n  </thead>\n  <tbody>\n    <tr>\n      <th>0</th>\n      <td>2013-12-31</td>\n      <td>05:22:42</td>\n      <td>18:56:21</td>\n      <td>26.70</td>\n      <td>27.77</td>\n      <td>1014</td>\n      <td>61</td>\n      <td>18.56</td>\n      <td>40</td>\n      <td>10000.0</td>\n      <td>4.12</td>\n      <td>330</td>\n      <td>{'id': 802, 'main': 'Clouds', 'description': '...</td>\n      <td>NaN</td>\n      <td>NaN</td>\n      <td>802</td>\n    </tr>\n    <tr>\n      <th>1</th>\n      <td>2014-01-01</td>\n      <td>05:23:20</td>\n      <td>18:56:38</td>\n      <td>24.70</td>\n      <td>25.16</td>\n      <td>1015</td>\n      <td>74</td>\n      <td>19.76</td>\n      <td>75</td>\n      <td>10000.0</td>\n      <td>3.60</td>\n      <td>310</td>\n      <td>{'id': 500, 'main': 'Rain', 'description': 'li...</td>\n      <td>NaN</td>\n      <td>NaN</td>\n      <td>500</td>\n    </tr>\n    <tr>\n      <th>2</th>\n      <td>2014-01-02</td>\n      <td>05:23:59</td>\n      <td>18:56:54</td>\n      <td>28.70</td>\n      <td>29.75</td>\n      <td>1013</td>\n      <td>54</td>\n      <td>18.48</td>\n      <td>0</td>\n      <td>10000.0</td>\n      <td>5.14</td>\n      <td>330</td>\n      <td>{'id': 800, 'main': 'Clear', 'description': 'c...</td>\n      <td>NaN</td>\n      <td>NaN</td>\n      <td>800</td>\n    </tr>\n    <tr>\n      <th>3</th>\n      <td>2014-01-03</td>\n      <td>05:24:38</td>\n      <td>18:57:09</td>\n      <td>26.70</td>\n      <td>28.36</td>\n      <td>1016</td>\n      <td>70</td>\n      <td>20.78</td>\n      <td>0</td>\n      <td>10000.0</td>\n      <td>3.10</td>\n      <td>150</td>\n      <td>{'id': 800, 'main': 'Clear', 'description': 'c...</td>\n      <td>NaN</td>\n      <td>NaN</td>\n      <td>800</td>\n    </tr>\n    <tr>\n      <th>4</th>\n      <td>2014-01-04</td>\n      <td>05:25:18</td>\n      <td>18:57:23</td>\n      <td>20.70</td>\n      <td>21.12</td>\n      <td>1021</td>\n      <td>88</td>\n      <td>18.64</td>\n      <td>100</td>\n      <td>NaN</td>\n      <td>7.72</td>\n      <td>180</td>\n      <td>{'id': 500, 'main': 'Rain', 'description': 'li...</td>\n      <td>{'1h': 0.31}</td>\n      <td>NaN</td>\n      <td>500</td>\n    </tr>\n    <tr>\n      <th>...</th>\n      <td>...</td>\n      <td>...</td>\n      <td>...</td>\n      <td>...</td>\n      <td>...</td>\n      <td>...</td>\n      <td>...</td>\n      <td>...</td>\n      <td>...</td>\n      <td>...</td>\n      <td>...</td>\n      <td>...</td>\n      <td>...</td>\n      <td>...</td>\n      <td>...</td>\n      <td>...</td>\n    </tr>\n    <tr>\n      <th>171</th>\n      <td>2020-12-26</td>\n      <td>05:19:51</td>\n      <td>18:54:40</td>\n      <td>19.83</td>\n      <td>20.01</td>\n      <td>1016</td>\n      <td>82</td>\n      <td>16.67</td>\n      <td>75</td>\n      <td>6000.0</td>\n      <td>3.60</td>\n      <td>140</td>\n      <td>{'id': 701, 'main': 'Mist', 'description': 'mi...</td>\n      <td>NaN</td>\n      <td>NaN</td>\n      <td>701</td>\n    </tr>\n    <tr>\n      <th>172</th>\n      <td>2020-12-27</td>\n      <td>05:20:25</td>\n      <td>18:55:03</td>\n      <td>20.83</td>\n      <td>21.19</td>\n      <td>1017</td>\n      <td>85</td>\n      <td>18.22</td>\n      <td>20</td>\n      <td>8000.0</td>\n      <td>1.50</td>\n      <td>70</td>\n      <td>{'id': 701, 'main': 'Mist', 'description': 'mi...</td>\n      <td>NaN</td>\n      <td>NaN</td>\n      <td>701</td>\n    </tr>\n    <tr>\n      <th>173</th>\n      <td>2020-12-28</td>\n      <td>05:21:00</td>\n      <td>18:55:25</td>\n      <td>20.50</td>\n      <td>20.93</td>\n      <td>1018</td>\n      <td>89</td>\n      <td>18.63</td>\n      <td>75</td>\n      <td>3000.0</td>\n      <td>2.10</td>\n      <td>20</td>\n      <td>{'id': 502, 'main': 'Rain', 'description': 'he...</td>\n      <td>{'1h': 11.94}</td>\n      <td>NaN</td>\n      <td>502</td>\n    </tr>\n    <tr>\n      <th>174</th>\n      <td>2020-12-29</td>\n      <td>05:21:36</td>\n      <td>18:55:46</td>\n      <td>20.46</td>\n      <td>20.91</td>\n      <td>1016</td>\n      <td>90</td>\n      <td>18.76</td>\n      <td>75</td>\n      <td>10000.0</td>\n      <td>1.00</td>\n      <td>100</td>\n      <td>{'id': 701, 'main': 'Mist', 'description': 'mi...</td>\n      <td>NaN</td>\n      <td>NaN</td>\n      <td>701</td>\n    </tr>\n    <tr>\n      <th>175</th>\n      <td>2020-12-30</td>\n      <td>05:22:12</td>\n      <td>18:56:06</td>\n      <td>24.94</td>\n      <td>25.11</td>\n      <td>1014</td>\n      <td>62</td>\n      <td>17.16</td>\n      <td>20</td>\n      <td>10000.0</td>\n      <td>5.10</td>\n      <td>360</td>\n      <td>{'id': 721, 'main': 'Haze', 'description': 'ha...</td>\n      <td>NaN</td>\n      <td>NaN</td>\n      <td>721</td>\n    </tr>\n  </tbody>\n</table>\n<p>2557 rows × 16 columns</p>\n</div>"
     },
     "execution_count": 157,
     "metadata": {},
     "output_type": "execute_result"
    }
   ],
   "source": [
    "combined_dataframe[\"weather_id\"] = combined_dataframe.weather.apply(lambda x: x['id'])\n",
    "combined_dataframe"
   ],
   "metadata": {
    "collapsed": false
   }
  }
 ],
 "metadata": {
  "kernelspec": {
   "display_name": "Python 3",
   "language": "python",
   "name": "python3"
  },
  "language_info": {
   "codemirror_mode": {
    "name": "ipython",
    "version": 2
   },
   "file_extension": ".py",
   "mimetype": "text/x-python",
   "name": "python",
   "nbconvert_exporter": "python",
   "pygments_lexer": "ipython2",
   "version": "2.7.6"
  }
 },
 "nbformat": 4,
 "nbformat_minor": 0
}
