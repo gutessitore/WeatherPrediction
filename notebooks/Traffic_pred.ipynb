{
 "cells": [
  {
   "cell_type": "code",
   "execution_count": 30,
   "metadata": {
    "ExecuteTime": {
     "start_time": "2023-04-22T14:37:28.307108Z",
     "end_time": "2023-04-22T14:37:28.458877Z"
    }
   },
   "outputs": [],
   "source": [
    "import pandas as pd\n",
    "import numpy as np\n",
    "import tensorflow as tf\n",
    "import matplotlib.pyplot as plt\n",
    "import seaborn as sns\n",
    "import os\n",
    "import plotly.express as px\n",
    "path = '../data/traffic_sp/'\n",
    "\n",
    "files = os.listdir(path)"
   ]
  },
  {
   "cell_type": "markdown",
   "metadata": {},
   "source": [
    "### Define helper funcs to clean and concat data"
   ]
  },
  {
   "cell_type": "code",
   "execution_count": 31,
   "metadata": {
    "ExecuteTime": {
     "start_time": "2023-04-22T14:37:28.323111Z",
     "end_time": "2023-04-22T14:37:28.501880Z"
    }
   },
   "outputs": [],
   "source": [
    "def delete_columns(df, column_list):\n",
    "    df.drop(column_list, axis=1, inplace=True)\n",
    "    return df"
   ]
  },
  {
   "cell_type": "code",
   "execution_count": 32,
   "metadata": {
    "ExecuteTime": {
     "start_time": "2023-04-22T14:37:28.325623Z",
     "end_time": "2023-04-22T14:37:28.548421Z"
    }
   },
   "outputs": [],
   "source": [
    "def concat_dfs(df_list):\n",
    "    df = pd.concat(df_list, axis=0)\n",
    "    return df"
   ]
  },
  {
   "cell_type": "code",
   "execution_count": 33,
   "metadata": {
    "ExecuteTime": {
     "start_time": "2023-04-22T14:37:28.329471Z",
     "end_time": "2023-04-22T14:37:28.726533Z"
    }
   },
   "outputs": [],
   "source": [
    "def rename_columns(df, column_list):\n",
    "    df.columns = column_list\n",
    "    return df"
   ]
  },
  {
   "cell_type": "markdown",
   "metadata": {},
   "source": [
    "### Concatenating and Renaming (2010-2011)"
   ]
  },
  {
   "cell_type": "code",
   "execution_count": 34,
   "metadata": {
    "ExecuteTime": {
     "start_time": "2023-04-22T14:37:28.334205Z",
     "end_time": "2023-04-22T14:37:28.960958Z"
    }
   },
   "outputs": [],
   "source": [
    "df2010 = pd.read_csv(path + 'lentidaotrechos2010.csv', sep=';', encoding='ISO-8859-1')\n",
    "df2011 = pd.read_csv(path + 'lentidaotrechos2011.csv', sep=';', encoding='ISO-8859-1')\n",
    "df_list = [df2010, df2011]"
   ]
  },
  {
   "cell_type": "code",
   "execution_count": 35,
   "metadata": {
    "ExecuteTime": {
     "start_time": "2023-04-22T14:37:28.930959Z",
     "end_time": "2023-04-22T14:37:28.989478Z"
    }
   },
   "outputs": [
    {
     "data": {
      "text/plain": "           Data                                  Corredor  \\\n0  2/1/10 18:00  Marginal Tietê                             \n1  2/1/10 18:00  Vale/P.Maia/Tirad/S.Dumont                 \n2  2/1/10 18:30  Vitor Manzini, Av                          \n3  2/1/10 18:30  Marginal Tietê                             \n4  2/1/10 19:00  Marginal Tietê                             \n\n                                    Sentido Pista  \\\n0  A.Senna/Castelo Branco                       A   \n1  Santana/Aeroporto                          NaN   \n2  Centro/Bairro                              NaN   \n3  A.Senna/Castelo Branco                       A   \n4  Castelo/A.Senna                              A   \n\n                                              Trecho  Valor  Região  \n0                            De BANDEIRAS até  COROA   1090   LESTE  \n1  De BANDEIRAS Término da Pte até  BANDEIRAS Tér...    410  CENTRO  \n2         De SOCORRO Inicio Pte até  WASHINGTON LUIS    550     SUL  \n3                  De BANDEIRAS até  CRUZEIRO DO SUL    500   LESTE  \n4                           De CASA VERDE até  LIMAO   1290   LESTE  ",
      "text/html": "<div>\n<style scoped>\n    .dataframe tbody tr th:only-of-type {\n        vertical-align: middle;\n    }\n\n    .dataframe tbody tr th {\n        vertical-align: top;\n    }\n\n    .dataframe thead th {\n        text-align: right;\n    }\n</style>\n<table border=\"1\" class=\"dataframe\">\n  <thead>\n    <tr style=\"text-align: right;\">\n      <th></th>\n      <th>Data</th>\n      <th>Corredor</th>\n      <th>Sentido</th>\n      <th>Pista</th>\n      <th>Trecho</th>\n      <th>Valor</th>\n      <th>Região</th>\n    </tr>\n  </thead>\n  <tbody>\n    <tr>\n      <th>0</th>\n      <td>2/1/10 18:00</td>\n      <td>Marginal Tietê</td>\n      <td>A.Senna/Castelo Branco</td>\n      <td>A</td>\n      <td>De BANDEIRAS até  COROA</td>\n      <td>1090</td>\n      <td>LESTE</td>\n    </tr>\n    <tr>\n      <th>1</th>\n      <td>2/1/10 18:00</td>\n      <td>Vale/P.Maia/Tirad/S.Dumont</td>\n      <td>Santana/Aeroporto</td>\n      <td>NaN</td>\n      <td>De BANDEIRAS Término da Pte até  BANDEIRAS Tér...</td>\n      <td>410</td>\n      <td>CENTRO</td>\n    </tr>\n    <tr>\n      <th>2</th>\n      <td>2/1/10 18:30</td>\n      <td>Vitor Manzini, Av</td>\n      <td>Centro/Bairro</td>\n      <td>NaN</td>\n      <td>De SOCORRO Inicio Pte até  WASHINGTON LUIS</td>\n      <td>550</td>\n      <td>SUL</td>\n    </tr>\n    <tr>\n      <th>3</th>\n      <td>2/1/10 18:30</td>\n      <td>Marginal Tietê</td>\n      <td>A.Senna/Castelo Branco</td>\n      <td>A</td>\n      <td>De BANDEIRAS até  CRUZEIRO DO SUL</td>\n      <td>500</td>\n      <td>LESTE</td>\n    </tr>\n    <tr>\n      <th>4</th>\n      <td>2/1/10 19:00</td>\n      <td>Marginal Tietê</td>\n      <td>Castelo/A.Senna</td>\n      <td>A</td>\n      <td>De CASA VERDE até  LIMAO</td>\n      <td>1290</td>\n      <td>LESTE</td>\n    </tr>\n  </tbody>\n</table>\n</div>"
     },
     "execution_count": 35,
     "metadata": {},
     "output_type": "execute_result"
    }
   ],
   "source": [
    "df_2010_2011 = concat_dfs(df_list)\n",
    "df_2010_2011.head()"
   ]
  },
  {
   "cell_type": "code",
   "execution_count": 36,
   "metadata": {
    "ExecuteTime": {
     "start_time": "2023-04-22T14:37:28.968156Z",
     "end_time": "2023-04-22T14:37:28.989478Z"
    }
   },
   "outputs": [
    {
     "data": {
      "text/plain": "           data                                  corredor  \\\n0  2/1/10 18:00  Marginal Tietê                             \n1  2/1/10 18:00  Vale/P.Maia/Tirad/S.Dumont                 \n2  2/1/10 18:30  Vitor Manzini, Av                          \n3  2/1/10 18:30  Marginal Tietê                             \n4  2/1/10 19:00  Marginal Tietê                             \n\n                                    sentido pista  \\\n0  A.Senna/Castelo Branco                       A   \n1  Santana/Aeroporto                          NaN   \n2  Centro/Bairro                              NaN   \n3  A.Senna/Castelo Branco                       A   \n4  Castelo/A.Senna                              A   \n\n                                              trecho  valor  regiao  \n0                            De BANDEIRAS até  COROA   1090   LESTE  \n1  De BANDEIRAS Término da Pte até  BANDEIRAS Tér...    410  CENTRO  \n2         De SOCORRO Inicio Pte até  WASHINGTON LUIS    550     SUL  \n3                  De BANDEIRAS até  CRUZEIRO DO SUL    500   LESTE  \n4                           De CASA VERDE até  LIMAO   1290   LESTE  ",
      "text/html": "<div>\n<style scoped>\n    .dataframe tbody tr th:only-of-type {\n        vertical-align: middle;\n    }\n\n    .dataframe tbody tr th {\n        vertical-align: top;\n    }\n\n    .dataframe thead th {\n        text-align: right;\n    }\n</style>\n<table border=\"1\" class=\"dataframe\">\n  <thead>\n    <tr style=\"text-align: right;\">\n      <th></th>\n      <th>data</th>\n      <th>corredor</th>\n      <th>sentido</th>\n      <th>pista</th>\n      <th>trecho</th>\n      <th>valor</th>\n      <th>regiao</th>\n    </tr>\n  </thead>\n  <tbody>\n    <tr>\n      <th>0</th>\n      <td>2/1/10 18:00</td>\n      <td>Marginal Tietê</td>\n      <td>A.Senna/Castelo Branco</td>\n      <td>A</td>\n      <td>De BANDEIRAS até  COROA</td>\n      <td>1090</td>\n      <td>LESTE</td>\n    </tr>\n    <tr>\n      <th>1</th>\n      <td>2/1/10 18:00</td>\n      <td>Vale/P.Maia/Tirad/S.Dumont</td>\n      <td>Santana/Aeroporto</td>\n      <td>NaN</td>\n      <td>De BANDEIRAS Término da Pte até  BANDEIRAS Tér...</td>\n      <td>410</td>\n      <td>CENTRO</td>\n    </tr>\n    <tr>\n      <th>2</th>\n      <td>2/1/10 18:30</td>\n      <td>Vitor Manzini, Av</td>\n      <td>Centro/Bairro</td>\n      <td>NaN</td>\n      <td>De SOCORRO Inicio Pte até  WASHINGTON LUIS</td>\n      <td>550</td>\n      <td>SUL</td>\n    </tr>\n    <tr>\n      <th>3</th>\n      <td>2/1/10 18:30</td>\n      <td>Marginal Tietê</td>\n      <td>A.Senna/Castelo Branco</td>\n      <td>A</td>\n      <td>De BANDEIRAS até  CRUZEIRO DO SUL</td>\n      <td>500</td>\n      <td>LESTE</td>\n    </tr>\n    <tr>\n      <th>4</th>\n      <td>2/1/10 19:00</td>\n      <td>Marginal Tietê</td>\n      <td>Castelo/A.Senna</td>\n      <td>A</td>\n      <td>De CASA VERDE até  LIMAO</td>\n      <td>1290</td>\n      <td>LESTE</td>\n    </tr>\n  </tbody>\n</table>\n</div>"
     },
     "execution_count": 36,
     "metadata": {},
     "output_type": "execute_result"
    }
   ],
   "source": [
    "df_2010_2011 = rename_columns(df_2010_2011, ['data', 'corredor', 'sentido', 'pista', 'trecho', 'valor', 'regiao'])\n",
    "df_2010_2011.head()\n"
   ]
  },
  {
   "cell_type": "markdown",
   "metadata": {},
   "source": [
    "### Concatenating and Renaming (2012 - 2013)"
   ]
  },
  {
   "cell_type": "code",
   "execution_count": 37,
   "metadata": {
    "ExecuteTime": {
     "start_time": "2023-04-22T14:37:28.975459Z",
     "end_time": "2023-04-22T14:37:29.803166Z"
    }
   },
   "outputs": [],
   "source": [
    "df2012 = pd.read_csv(path + 'lentidaotrechos2012.csv', sep=';', encoding='ISO-8859-1')\n",
    "df2013 = pd.read_csv(path + 'lentidaotrechos2013.csv', sep=';', encoding='ISO-8859-1')\n",
    "df_list2 = [df2012, df2013]"
   ]
  },
  {
   "cell_type": "code",
   "execution_count": 38,
   "metadata": {
    "ExecuteTime": {
     "start_time": "2023-04-22T14:37:29.803166Z",
     "end_time": "2023-04-22T14:37:29.854305Z"
    }
   },
   "outputs": [
    {
     "data": {
      "text/plain": "               data                                  corredor  \\\n0  01/01/2012 21:30  Paulista, Av                               \n1  01/01/2012 21:30  Pedro Alvares Cabral, Av                   \n2  01/01/2012 22:00  Paulista, Av                               \n3  01/01/2012 22:30  Paulista, Av                               \n4  01/01/2012 23:00  Paulista, Av                               \n\n                                    sentido expressa  \\\n0  Paraiso/Consolação                            NaN   \n1  Vila Mariana/Pinheiros                        NaN   \n2  Paraiso/Consolação                            NaN   \n3  Paraiso/Consolação                            NaN   \n4  Paraiso/Consolação                            NaN   \n\n                                         descricao  tamanho nome_regiao  \n0          De OTAVIO MENDES até  TEIXEIRA DA SILVA     1300      CENTRO  \n1  De ARMANDO DE SALES OLIVEIRA até  ABILIO SOARES      460         SUL  \n2          De OTAVIO MENDES até  TEIXEIRA DA SILVA     1300      CENTRO  \n3          De OTAVIO MENDES até  TEIXEIRA DA SILVA     1300      CENTRO  \n4          De OTAVIO MENDES até  TEIXEIRA DA SILVA     1300      CENTRO  ",
      "text/html": "<div>\n<style scoped>\n    .dataframe tbody tr th:only-of-type {\n        vertical-align: middle;\n    }\n\n    .dataframe tbody tr th {\n        vertical-align: top;\n    }\n\n    .dataframe thead th {\n        text-align: right;\n    }\n</style>\n<table border=\"1\" class=\"dataframe\">\n  <thead>\n    <tr style=\"text-align: right;\">\n      <th></th>\n      <th>data</th>\n      <th>corredor</th>\n      <th>sentido</th>\n      <th>expressa</th>\n      <th>descricao</th>\n      <th>tamanho</th>\n      <th>nome_regiao</th>\n    </tr>\n  </thead>\n  <tbody>\n    <tr>\n      <th>0</th>\n      <td>01/01/2012 21:30</td>\n      <td>Paulista, Av</td>\n      <td>Paraiso/Consolação</td>\n      <td>NaN</td>\n      <td>De OTAVIO MENDES até  TEIXEIRA DA SILVA</td>\n      <td>1300</td>\n      <td>CENTRO</td>\n    </tr>\n    <tr>\n      <th>1</th>\n      <td>01/01/2012 21:30</td>\n      <td>Pedro Alvares Cabral, Av</td>\n      <td>Vila Mariana/Pinheiros</td>\n      <td>NaN</td>\n      <td>De ARMANDO DE SALES OLIVEIRA até  ABILIO SOARES</td>\n      <td>460</td>\n      <td>SUL</td>\n    </tr>\n    <tr>\n      <th>2</th>\n      <td>01/01/2012 22:00</td>\n      <td>Paulista, Av</td>\n      <td>Paraiso/Consolação</td>\n      <td>NaN</td>\n      <td>De OTAVIO MENDES até  TEIXEIRA DA SILVA</td>\n      <td>1300</td>\n      <td>CENTRO</td>\n    </tr>\n    <tr>\n      <th>3</th>\n      <td>01/01/2012 22:30</td>\n      <td>Paulista, Av</td>\n      <td>Paraiso/Consolação</td>\n      <td>NaN</td>\n      <td>De OTAVIO MENDES até  TEIXEIRA DA SILVA</td>\n      <td>1300</td>\n      <td>CENTRO</td>\n    </tr>\n    <tr>\n      <th>4</th>\n      <td>01/01/2012 23:00</td>\n      <td>Paulista, Av</td>\n      <td>Paraiso/Consolação</td>\n      <td>NaN</td>\n      <td>De OTAVIO MENDES até  TEIXEIRA DA SILVA</td>\n      <td>1300</td>\n      <td>CENTRO</td>\n    </tr>\n  </tbody>\n</table>\n</div>"
     },
     "execution_count": 38,
     "metadata": {},
     "output_type": "execute_result"
    }
   ],
   "source": [
    "df_2012_2013 = concat_dfs(df_list2)\n",
    "df_2012_2013.head()"
   ]
  },
  {
   "cell_type": "code",
   "execution_count": 39,
   "metadata": {
    "ExecuteTime": {
     "start_time": "2023-04-22T14:37:29.848023Z",
     "end_time": "2023-04-22T14:37:29.859305Z"
    }
   },
   "outputs": [
    {
     "data": {
      "text/plain": "               data                                  corredor  \\\n0  01/01/2012 21:30  Paulista, Av                               \n1  01/01/2012 21:30  Pedro Alvares Cabral, Av                   \n2  01/01/2012 22:00  Paulista, Av                               \n3  01/01/2012 22:30  Paulista, Av                               \n4  01/01/2012 23:00  Paulista, Av                               \n\n                                    sentido pista  \\\n0  Paraiso/Consolação                         NaN   \n1  Vila Mariana/Pinheiros                     NaN   \n2  Paraiso/Consolação                         NaN   \n3  Paraiso/Consolação                         NaN   \n4  Paraiso/Consolação                         NaN   \n\n                                            trecho  valor  regiao  \n0          De OTAVIO MENDES até  TEIXEIRA DA SILVA   1300  CENTRO  \n1  De ARMANDO DE SALES OLIVEIRA até  ABILIO SOARES    460     SUL  \n2          De OTAVIO MENDES até  TEIXEIRA DA SILVA   1300  CENTRO  \n3          De OTAVIO MENDES até  TEIXEIRA DA SILVA   1300  CENTRO  \n4          De OTAVIO MENDES até  TEIXEIRA DA SILVA   1300  CENTRO  ",
      "text/html": "<div>\n<style scoped>\n    .dataframe tbody tr th:only-of-type {\n        vertical-align: middle;\n    }\n\n    .dataframe tbody tr th {\n        vertical-align: top;\n    }\n\n    .dataframe thead th {\n        text-align: right;\n    }\n</style>\n<table border=\"1\" class=\"dataframe\">\n  <thead>\n    <tr style=\"text-align: right;\">\n      <th></th>\n      <th>data</th>\n      <th>corredor</th>\n      <th>sentido</th>\n      <th>pista</th>\n      <th>trecho</th>\n      <th>valor</th>\n      <th>regiao</th>\n    </tr>\n  </thead>\n  <tbody>\n    <tr>\n      <th>0</th>\n      <td>01/01/2012 21:30</td>\n      <td>Paulista, Av</td>\n      <td>Paraiso/Consolação</td>\n      <td>NaN</td>\n      <td>De OTAVIO MENDES até  TEIXEIRA DA SILVA</td>\n      <td>1300</td>\n      <td>CENTRO</td>\n    </tr>\n    <tr>\n      <th>1</th>\n      <td>01/01/2012 21:30</td>\n      <td>Pedro Alvares Cabral, Av</td>\n      <td>Vila Mariana/Pinheiros</td>\n      <td>NaN</td>\n      <td>De ARMANDO DE SALES OLIVEIRA até  ABILIO SOARES</td>\n      <td>460</td>\n      <td>SUL</td>\n    </tr>\n    <tr>\n      <th>2</th>\n      <td>01/01/2012 22:00</td>\n      <td>Paulista, Av</td>\n      <td>Paraiso/Consolação</td>\n      <td>NaN</td>\n      <td>De OTAVIO MENDES até  TEIXEIRA DA SILVA</td>\n      <td>1300</td>\n      <td>CENTRO</td>\n    </tr>\n    <tr>\n      <th>3</th>\n      <td>01/01/2012 22:30</td>\n      <td>Paulista, Av</td>\n      <td>Paraiso/Consolação</td>\n      <td>NaN</td>\n      <td>De OTAVIO MENDES até  TEIXEIRA DA SILVA</td>\n      <td>1300</td>\n      <td>CENTRO</td>\n    </tr>\n    <tr>\n      <th>4</th>\n      <td>01/01/2012 23:00</td>\n      <td>Paulista, Av</td>\n      <td>Paraiso/Consolação</td>\n      <td>NaN</td>\n      <td>De OTAVIO MENDES até  TEIXEIRA DA SILVA</td>\n      <td>1300</td>\n      <td>CENTRO</td>\n    </tr>\n  </tbody>\n</table>\n</div>"
     },
     "execution_count": 39,
     "metadata": {},
     "output_type": "execute_result"
    }
   ],
   "source": [
    "df_2012_2013 = rename_columns(df_2012_2013, ['data', 'corredor', 'sentido', 'pista', 'trecho', 'valor', 'regiao'])\n",
    "df_2012_2013.head()"
   ]
  },
  {
   "cell_type": "markdown",
   "metadata": {},
   "source": [
    "###  Renaming (2014)"
   ]
  },
  {
   "cell_type": "code",
   "execution_count": 40,
   "metadata": {
    "ExecuteTime": {
     "start_time": "2023-04-22T14:37:29.855306Z",
     "end_time": "2023-04-22T14:37:30.217534Z"
    }
   },
   "outputs": [
    {
     "data": {
      "text/plain": "          data/hora                                  corredor  \\\n0  02/01/2014 07:00  Bandeirantes, Av dos                       \n1  02/01/2014 07:00  Interlagos, Av  I                          \n2  02/01/2014 07:30  Bandeirantes, Av dos                       \n3  02/01/2014 08:00  Bandeirantes, Av dos                       \n4  02/01/2014 08:30  Bandeirantes, Av dos                       \n\n                                    sentido expressa  \\\n0  Imigrantes/Marginal                           NaN   \n1  Bairro/Centro                                 NaN   \n2  Imigrantes/Marginal                           NaN   \n3  Imigrantes/Marginal                           NaN   \n4  Imigrantes/Marginal                           NaN   \n\n                                           Trecho  tamanho (metros)  \\\n0   De JABAQUARA Vd até  ALIOMAR BALEEIRO Término              1100   \n1  De JURUBATUBA Término até  JOAO PAULO DA SILVA               910   \n2         De MIRUNA até  ALIOMAR BALEEIRO Término              2130   \n3         De MIRUNA até  ALIOMAR BALEEIRO Término              2130   \n4         De MIRUNA até  ALIOMAR BALEEIRO Término              2130   \n\n  nome_regiao  \n0         SUL  \n1         SUL  \n2         SUL  \n3         SUL  \n4         SUL  ",
      "text/html": "<div>\n<style scoped>\n    .dataframe tbody tr th:only-of-type {\n        vertical-align: middle;\n    }\n\n    .dataframe tbody tr th {\n        vertical-align: top;\n    }\n\n    .dataframe thead th {\n        text-align: right;\n    }\n</style>\n<table border=\"1\" class=\"dataframe\">\n  <thead>\n    <tr style=\"text-align: right;\">\n      <th></th>\n      <th>data/hora</th>\n      <th>corredor</th>\n      <th>sentido</th>\n      <th>expressa</th>\n      <th>Trecho</th>\n      <th>tamanho (metros)</th>\n      <th>nome_regiao</th>\n    </tr>\n  </thead>\n  <tbody>\n    <tr>\n      <th>0</th>\n      <td>02/01/2014 07:00</td>\n      <td>Bandeirantes, Av dos</td>\n      <td>Imigrantes/Marginal</td>\n      <td>NaN</td>\n      <td>De JABAQUARA Vd até  ALIOMAR BALEEIRO Término</td>\n      <td>1100</td>\n      <td>SUL</td>\n    </tr>\n    <tr>\n      <th>1</th>\n      <td>02/01/2014 07:00</td>\n      <td>Interlagos, Av  I</td>\n      <td>Bairro/Centro</td>\n      <td>NaN</td>\n      <td>De JURUBATUBA Término até  JOAO PAULO DA SILVA</td>\n      <td>910</td>\n      <td>SUL</td>\n    </tr>\n    <tr>\n      <th>2</th>\n      <td>02/01/2014 07:30</td>\n      <td>Bandeirantes, Av dos</td>\n      <td>Imigrantes/Marginal</td>\n      <td>NaN</td>\n      <td>De MIRUNA até  ALIOMAR BALEEIRO Término</td>\n      <td>2130</td>\n      <td>SUL</td>\n    </tr>\n    <tr>\n      <th>3</th>\n      <td>02/01/2014 08:00</td>\n      <td>Bandeirantes, Av dos</td>\n      <td>Imigrantes/Marginal</td>\n      <td>NaN</td>\n      <td>De MIRUNA até  ALIOMAR BALEEIRO Término</td>\n      <td>2130</td>\n      <td>SUL</td>\n    </tr>\n    <tr>\n      <th>4</th>\n      <td>02/01/2014 08:30</td>\n      <td>Bandeirantes, Av dos</td>\n      <td>Imigrantes/Marginal</td>\n      <td>NaN</td>\n      <td>De MIRUNA até  ALIOMAR BALEEIRO Término</td>\n      <td>2130</td>\n      <td>SUL</td>\n    </tr>\n  </tbody>\n</table>\n</div>"
     },
     "execution_count": 40,
     "metadata": {},
     "output_type": "execute_result"
    }
   ],
   "source": [
    "df_2014 = pd.read_csv(path + 'lentidaotrechos2014.csv', sep=';', encoding='ISO-8859-1')\n",
    "df_2014.head()"
   ]
  },
  {
   "cell_type": "code",
   "execution_count": 41,
   "metadata": {
    "ExecuteTime": {
     "start_time": "2023-04-22T14:37:30.218534Z",
     "end_time": "2023-04-22T14:37:30.224510Z"
    }
   },
   "outputs": [
    {
     "data": {
      "text/plain": "               data                                  corredor  \\\n0  02/01/2014 07:00  Bandeirantes, Av dos                       \n1  02/01/2014 07:00  Interlagos, Av  I                          \n2  02/01/2014 07:30  Bandeirantes, Av dos                       \n3  02/01/2014 08:00  Bandeirantes, Av dos                       \n4  02/01/2014 08:30  Bandeirantes, Av dos                       \n\n                                    sentido pista  \\\n0  Imigrantes/Marginal                        NaN   \n1  Bairro/Centro                              NaN   \n2  Imigrantes/Marginal                        NaN   \n3  Imigrantes/Marginal                        NaN   \n4  Imigrantes/Marginal                        NaN   \n\n                                           trecho  valor regiao  \n0   De JABAQUARA Vd até  ALIOMAR BALEEIRO Término   1100    SUL  \n1  De JURUBATUBA Término até  JOAO PAULO DA SILVA    910    SUL  \n2         De MIRUNA até  ALIOMAR BALEEIRO Término   2130    SUL  \n3         De MIRUNA até  ALIOMAR BALEEIRO Término   2130    SUL  \n4         De MIRUNA até  ALIOMAR BALEEIRO Término   2130    SUL  ",
      "text/html": "<div>\n<style scoped>\n    .dataframe tbody tr th:only-of-type {\n        vertical-align: middle;\n    }\n\n    .dataframe tbody tr th {\n        vertical-align: top;\n    }\n\n    .dataframe thead th {\n        text-align: right;\n    }\n</style>\n<table border=\"1\" class=\"dataframe\">\n  <thead>\n    <tr style=\"text-align: right;\">\n      <th></th>\n      <th>data</th>\n      <th>corredor</th>\n      <th>sentido</th>\n      <th>pista</th>\n      <th>trecho</th>\n      <th>valor</th>\n      <th>regiao</th>\n    </tr>\n  </thead>\n  <tbody>\n    <tr>\n      <th>0</th>\n      <td>02/01/2014 07:00</td>\n      <td>Bandeirantes, Av dos</td>\n      <td>Imigrantes/Marginal</td>\n      <td>NaN</td>\n      <td>De JABAQUARA Vd até  ALIOMAR BALEEIRO Término</td>\n      <td>1100</td>\n      <td>SUL</td>\n    </tr>\n    <tr>\n      <th>1</th>\n      <td>02/01/2014 07:00</td>\n      <td>Interlagos, Av  I</td>\n      <td>Bairro/Centro</td>\n      <td>NaN</td>\n      <td>De JURUBATUBA Término até  JOAO PAULO DA SILVA</td>\n      <td>910</td>\n      <td>SUL</td>\n    </tr>\n    <tr>\n      <th>2</th>\n      <td>02/01/2014 07:30</td>\n      <td>Bandeirantes, Av dos</td>\n      <td>Imigrantes/Marginal</td>\n      <td>NaN</td>\n      <td>De MIRUNA até  ALIOMAR BALEEIRO Término</td>\n      <td>2130</td>\n      <td>SUL</td>\n    </tr>\n    <tr>\n      <th>3</th>\n      <td>02/01/2014 08:00</td>\n      <td>Bandeirantes, Av dos</td>\n      <td>Imigrantes/Marginal</td>\n      <td>NaN</td>\n      <td>De MIRUNA até  ALIOMAR BALEEIRO Término</td>\n      <td>2130</td>\n      <td>SUL</td>\n    </tr>\n    <tr>\n      <th>4</th>\n      <td>02/01/2014 08:30</td>\n      <td>Bandeirantes, Av dos</td>\n      <td>Imigrantes/Marginal</td>\n      <td>NaN</td>\n      <td>De MIRUNA até  ALIOMAR BALEEIRO Término</td>\n      <td>2130</td>\n      <td>SUL</td>\n    </tr>\n  </tbody>\n</table>\n</div>"
     },
     "execution_count": 41,
     "metadata": {},
     "output_type": "execute_result"
    }
   ],
   "source": [
    "df_2014 = rename_columns(df_2014, ['data', 'corredor', 'sentido', 'pista', 'trecho', 'valor', 'regiao'])\n",
    "df_2014.head()"
   ]
  },
  {
   "cell_type": "markdown",
   "metadata": {},
   "source": [
    "### Concatenating and Renaming (2015 - 2016)"
   ]
  },
  {
   "cell_type": "code",
   "execution_count": 42,
   "metadata": {
    "ExecuteTime": {
     "start_time": "2023-04-22T14:37:30.224510Z",
     "end_time": "2023-04-22T14:37:31.082361Z"
    }
   },
   "outputs": [],
   "source": [
    "df_2015 = pd.read_csv(path + 'lentidaotrechos2015.csv', sep=';', encoding='ISO-8859-1')\n",
    "df_2016 = pd.read_csv(path + 'lentidaotrechos2016.csv', sep=';', encoding='ISO-8859-1')\n",
    "df_list3 = [df_2015, df_2016]"
   ]
  },
  {
   "cell_type": "code",
   "execution_count": 43,
   "metadata": {
    "ExecuteTime": {
     "start_time": "2023-04-22T14:37:31.084362Z",
     "end_time": "2023-04-22T14:37:31.139078Z"
    }
   },
   "outputs": [
    {
     "data": {
      "text/plain": "          data/hora                                  corredor  \\\n0  04/01/2015 14:30  Jânio Quadros, Túnel                       \n1  04/01/2015 14:30  Juscelino Kubitschek, Av Pres              \n2  04/01/2015 15:00  Jânio Quadros, Túnel                       \n3  04/01/2015 15:00  Juscelino Kubitschek, Av Pres              \n4  04/01/2015 15:30  Jânio Quadros, Túnel                       \n\n                                    sentido expressa  \\\n0  unico//                                       NaN   \n1  Ibirapuera/Pinheiros                          NaN   \n2  unico//                                       NaN   \n3  Ibirapuera/Pinheiros                          NaN   \n4  unico//                                       NaN   \n\n                                             Trechos  tamanho nome_regiao  \n0       De OSCAR AMERICANO até  JUSCELINO KUBITSCHEK      799       OESTE  \n1  De  Emboque Túnel Jânio Quadros até 290 m depo...      260         SUL  \n2       De OSCAR AMERICANO até  JUSCELINO KUBITSCHEK      799       OESTE  \n3  De  Emboque Túnel Jânio Quadros até 290 m depo...      260         SUL  \n4       De OSCAR AMERICANO até  JUSCELINO KUBITSCHEK      799       OESTE  ",
      "text/html": "<div>\n<style scoped>\n    .dataframe tbody tr th:only-of-type {\n        vertical-align: middle;\n    }\n\n    .dataframe tbody tr th {\n        vertical-align: top;\n    }\n\n    .dataframe thead th {\n        text-align: right;\n    }\n</style>\n<table border=\"1\" class=\"dataframe\">\n  <thead>\n    <tr style=\"text-align: right;\">\n      <th></th>\n      <th>data/hora</th>\n      <th>corredor</th>\n      <th>sentido</th>\n      <th>expressa</th>\n      <th>Trechos</th>\n      <th>tamanho</th>\n      <th>nome_regiao</th>\n    </tr>\n  </thead>\n  <tbody>\n    <tr>\n      <th>0</th>\n      <td>04/01/2015 14:30</td>\n      <td>Jânio Quadros, Túnel</td>\n      <td>unico//</td>\n      <td>NaN</td>\n      <td>De OSCAR AMERICANO até  JUSCELINO KUBITSCHEK</td>\n      <td>799</td>\n      <td>OESTE</td>\n    </tr>\n    <tr>\n      <th>1</th>\n      <td>04/01/2015 14:30</td>\n      <td>Juscelino Kubitschek, Av Pres</td>\n      <td>Ibirapuera/Pinheiros</td>\n      <td>NaN</td>\n      <td>De  Emboque Túnel Jânio Quadros até 290 m depo...</td>\n      <td>260</td>\n      <td>SUL</td>\n    </tr>\n    <tr>\n      <th>2</th>\n      <td>04/01/2015 15:00</td>\n      <td>Jânio Quadros, Túnel</td>\n      <td>unico//</td>\n      <td>NaN</td>\n      <td>De OSCAR AMERICANO até  JUSCELINO KUBITSCHEK</td>\n      <td>799</td>\n      <td>OESTE</td>\n    </tr>\n    <tr>\n      <th>3</th>\n      <td>04/01/2015 15:00</td>\n      <td>Juscelino Kubitschek, Av Pres</td>\n      <td>Ibirapuera/Pinheiros</td>\n      <td>NaN</td>\n      <td>De  Emboque Túnel Jânio Quadros até 290 m depo...</td>\n      <td>260</td>\n      <td>SUL</td>\n    </tr>\n    <tr>\n      <th>4</th>\n      <td>04/01/2015 15:30</td>\n      <td>Jânio Quadros, Túnel</td>\n      <td>unico//</td>\n      <td>NaN</td>\n      <td>De OSCAR AMERICANO até  JUSCELINO KUBITSCHEK</td>\n      <td>799</td>\n      <td>OESTE</td>\n    </tr>\n  </tbody>\n</table>\n</div>"
     },
     "execution_count": 43,
     "metadata": {},
     "output_type": "execute_result"
    }
   ],
   "source": [
    "df_2015_2016 = concat_dfs(df_list3)\n",
    "df_2015_2016.head()"
   ]
  },
  {
   "cell_type": "code",
   "execution_count": 44,
   "metadata": {
    "ExecuteTime": {
     "start_time": "2023-04-22T14:37:31.141326Z",
     "end_time": "2023-04-22T14:37:31.147849Z"
    }
   },
   "outputs": [
    {
     "data": {
      "text/plain": "               data                                  corredor  \\\n0  04/01/2015 14:30  Jânio Quadros, Túnel                       \n1  04/01/2015 14:30  Juscelino Kubitschek, Av Pres              \n2  04/01/2015 15:00  Jânio Quadros, Túnel                       \n3  04/01/2015 15:00  Juscelino Kubitschek, Av Pres              \n4  04/01/2015 15:30  Jânio Quadros, Túnel                       \n\n                                    sentido pista  \\\n0  unico//                                    NaN   \n1  Ibirapuera/Pinheiros                       NaN   \n2  unico//                                    NaN   \n3  Ibirapuera/Pinheiros                       NaN   \n4  unico//                                    NaN   \n\n                                              trecho  valor regiao  \n0       De OSCAR AMERICANO até  JUSCELINO KUBITSCHEK    799  OESTE  \n1  De  Emboque Túnel Jânio Quadros até 290 m depo...    260    SUL  \n2       De OSCAR AMERICANO até  JUSCELINO KUBITSCHEK    799  OESTE  \n3  De  Emboque Túnel Jânio Quadros até 290 m depo...    260    SUL  \n4       De OSCAR AMERICANO até  JUSCELINO KUBITSCHEK    799  OESTE  ",
      "text/html": "<div>\n<style scoped>\n    .dataframe tbody tr th:only-of-type {\n        vertical-align: middle;\n    }\n\n    .dataframe tbody tr th {\n        vertical-align: top;\n    }\n\n    .dataframe thead th {\n        text-align: right;\n    }\n</style>\n<table border=\"1\" class=\"dataframe\">\n  <thead>\n    <tr style=\"text-align: right;\">\n      <th></th>\n      <th>data</th>\n      <th>corredor</th>\n      <th>sentido</th>\n      <th>pista</th>\n      <th>trecho</th>\n      <th>valor</th>\n      <th>regiao</th>\n    </tr>\n  </thead>\n  <tbody>\n    <tr>\n      <th>0</th>\n      <td>04/01/2015 14:30</td>\n      <td>Jânio Quadros, Túnel</td>\n      <td>unico//</td>\n      <td>NaN</td>\n      <td>De OSCAR AMERICANO até  JUSCELINO KUBITSCHEK</td>\n      <td>799</td>\n      <td>OESTE</td>\n    </tr>\n    <tr>\n      <th>1</th>\n      <td>04/01/2015 14:30</td>\n      <td>Juscelino Kubitschek, Av Pres</td>\n      <td>Ibirapuera/Pinheiros</td>\n      <td>NaN</td>\n      <td>De  Emboque Túnel Jânio Quadros até 290 m depo...</td>\n      <td>260</td>\n      <td>SUL</td>\n    </tr>\n    <tr>\n      <th>2</th>\n      <td>04/01/2015 15:00</td>\n      <td>Jânio Quadros, Túnel</td>\n      <td>unico//</td>\n      <td>NaN</td>\n      <td>De OSCAR AMERICANO até  JUSCELINO KUBITSCHEK</td>\n      <td>799</td>\n      <td>OESTE</td>\n    </tr>\n    <tr>\n      <th>3</th>\n      <td>04/01/2015 15:00</td>\n      <td>Juscelino Kubitschek, Av Pres</td>\n      <td>Ibirapuera/Pinheiros</td>\n      <td>NaN</td>\n      <td>De  Emboque Túnel Jânio Quadros até 290 m depo...</td>\n      <td>260</td>\n      <td>SUL</td>\n    </tr>\n    <tr>\n      <th>4</th>\n      <td>04/01/2015 15:30</td>\n      <td>Jânio Quadros, Túnel</td>\n      <td>unico//</td>\n      <td>NaN</td>\n      <td>De OSCAR AMERICANO até  JUSCELINO KUBITSCHEK</td>\n      <td>799</td>\n      <td>OESTE</td>\n    </tr>\n  </tbody>\n</table>\n</div>"
     },
     "execution_count": 44,
     "metadata": {},
     "output_type": "execute_result"
    }
   ],
   "source": [
    "df_2015_2016 = rename_columns(df_2015_2016, ['data', 'corredor', 'sentido', 'pista', 'trecho', 'valor', 'regiao'])\n",
    "df_2015_2016.head()"
   ]
  },
  {
   "cell_type": "markdown",
   "metadata": {},
   "source": [
    "###  Renaming 2017 "
   ]
  },
  {
   "cell_type": "code",
   "execution_count": 45,
   "metadata": {
    "ExecuteTime": {
     "start_time": "2023-04-22T14:37:31.147849Z",
     "end_time": "2023-04-22T14:37:31.450639Z"
    }
   },
   "outputs": [],
   "source": [
    "df_2017 = pd.read_csv(path + 'lentidaotrechos2017.csv', sep=';', encoding='ISO-8859-1')"
   ]
  },
  {
   "cell_type": "code",
   "execution_count": 46,
   "metadata": {
    "ExecuteTime": {
     "start_time": "2023-04-22T14:37:31.454643Z",
     "end_time": "2023-04-22T14:37:31.458372Z"
    }
   },
   "outputs": [
    {
     "data": {
      "text/plain": "               data                                  corredor  \\\n0  02/01/2017 06:30  Nove de Julho, Av                          \n1  02/01/2017 06:30  Cidade Jardim / Europa / Colômbia          \n2  02/01/2017 07:00  Nove de Julho, Av                          \n3  02/01/2017 07:00  Cidade Jardim / Europa / Colômbia          \n4  02/01/2017 07:30  Nove de Julho, Av                          \n\n                                    sentido pista  \\\n0  Centro/Bairro                              NaN   \n1  Bairro/Centro                              NaN   \n2  Centro/Bairro                              NaN   \n3  Bairro/Centro                              NaN   \n4  Centro/Bairro                              NaN   \n\n                                              trecho  valor  regiao  \n0                    De BARATA RIBEIRO até  BANDEIRA   1370  CENTRO  \n1  De CIDADE JARDIM Término até  CIDADE JARDIM In...    300   OESTE  \n2                    De BARATA RIBEIRO até  BANDEIRA   1370  CENTRO  \n3         De MARIO FERRAZ até  CIDADE JARDIM Término    596   OESTE  \n4                    De BARATA RIBEIRO até  BANDEIRA   1370  CENTRO  ",
      "text/html": "<div>\n<style scoped>\n    .dataframe tbody tr th:only-of-type {\n        vertical-align: middle;\n    }\n\n    .dataframe tbody tr th {\n        vertical-align: top;\n    }\n\n    .dataframe thead th {\n        text-align: right;\n    }\n</style>\n<table border=\"1\" class=\"dataframe\">\n  <thead>\n    <tr style=\"text-align: right;\">\n      <th></th>\n      <th>data</th>\n      <th>corredor</th>\n      <th>sentido</th>\n      <th>pista</th>\n      <th>trecho</th>\n      <th>valor</th>\n      <th>regiao</th>\n    </tr>\n  </thead>\n  <tbody>\n    <tr>\n      <th>0</th>\n      <td>02/01/2017 06:30</td>\n      <td>Nove de Julho, Av</td>\n      <td>Centro/Bairro</td>\n      <td>NaN</td>\n      <td>De BARATA RIBEIRO até  BANDEIRA</td>\n      <td>1370</td>\n      <td>CENTRO</td>\n    </tr>\n    <tr>\n      <th>1</th>\n      <td>02/01/2017 06:30</td>\n      <td>Cidade Jardim / Europa / Colômbia</td>\n      <td>Bairro/Centro</td>\n      <td>NaN</td>\n      <td>De CIDADE JARDIM Término até  CIDADE JARDIM In...</td>\n      <td>300</td>\n      <td>OESTE</td>\n    </tr>\n    <tr>\n      <th>2</th>\n      <td>02/01/2017 07:00</td>\n      <td>Nove de Julho, Av</td>\n      <td>Centro/Bairro</td>\n      <td>NaN</td>\n      <td>De BARATA RIBEIRO até  BANDEIRA</td>\n      <td>1370</td>\n      <td>CENTRO</td>\n    </tr>\n    <tr>\n      <th>3</th>\n      <td>02/01/2017 07:00</td>\n      <td>Cidade Jardim / Europa / Colômbia</td>\n      <td>Bairro/Centro</td>\n      <td>NaN</td>\n      <td>De MARIO FERRAZ até  CIDADE JARDIM Término</td>\n      <td>596</td>\n      <td>OESTE</td>\n    </tr>\n    <tr>\n      <th>4</th>\n      <td>02/01/2017 07:30</td>\n      <td>Nove de Julho, Av</td>\n      <td>Centro/Bairro</td>\n      <td>NaN</td>\n      <td>De BARATA RIBEIRO até  BANDEIRA</td>\n      <td>1370</td>\n      <td>CENTRO</td>\n    </tr>\n  </tbody>\n</table>\n</div>"
     },
     "execution_count": 46,
     "metadata": {},
     "output_type": "execute_result"
    }
   ],
   "source": [
    "df_2107 = rename_columns(df_2017, ['data', 'corredor', 'sentido', 'pista', 'trecho', 'valor', 'regiao'])\n",
    "df_2107.head()"
   ]
  },
  {
   "cell_type": "markdown",
   "metadata": {},
   "source": [
    "### Concatenating and Renaming (2018 - 2022)"
   ]
  },
  {
   "cell_type": "code",
   "execution_count": 47,
   "metadata": {
    "ExecuteTime": {
     "start_time": "2023-04-22T14:37:31.458372Z",
     "end_time": "2023-04-22T14:37:32.506881Z"
    }
   },
   "outputs": [],
   "source": [
    "df2018 = pd.read_csv(path + 'lentidaotrechos2018.csv', sep=';', encoding='ISO-8859-1')\n",
    "df2019 = pd.read_csv(path + 'lentidaotrechos2019.csv', sep=';', encoding='ISO-8859-1')\n",
    "df2020 = pd.read_csv(path + 'lentidaotrechos2020.csv', sep=';', encoding='ISO-8859-1')\n",
    "df2021 = pd.read_csv(path + 'lentidaotrechos2021.csv', sep=';', encoding='ISO-8859-1')\n",
    "df2022 = pd.read_csv(path + 'lentidaotrechos2022.csv', sep=';', encoding='ISO-8859-1')\n",
    "df_list4 = [df2018, df2019, df2020, df2021, df2022]"
   ]
  },
  {
   "cell_type": "code",
   "execution_count": 48,
   "metadata": {
    "ExecuteTime": {
     "start_time": "2023-04-22T14:37:32.506881Z",
     "end_time": "2023-04-22T14:37:32.563940Z"
    }
   },
   "outputs": [
    {
     "data": {
      "text/plain": "           data                                  corredor  \\\n0  1/1/18 18:30  Marginal Tietê                             \n1  1/1/18 19:00  Marginal Tietê                             \n2  2/1/18 11:00  Vinte Três/R Berta/M Guimarães             \n3  2/1/18 12:00  Marginal Tietê                             \n4  2/1/18 12:30  Marginal Tietê                             \n\n                                    sentido expressa  \\\n0  A.Senna/Castelo Branco                          E   \n1  A.Senna/Castelo Branco                          E   \n2  Santana/Aeroporto                             NaN   \n3  A.Senna/Castelo Branco                          E   \n4  A.Senna/Castelo Branco                          E   \n\n                                          descricao  tamanho nome_regiao  \n0                     De CRUZEIRO DO SUL até  COROA      780       LESTE  \n1                     De CRUZEIRO DO SUL até  COROA      780       LESTE  \n2                         De JACEGUAI até  BANDEIRA      832      CENTRO  \n3  De BANDEIRAS até 690 m depois de  ARCO DA SABESP     2110       LESTE  \n4  De BANDEIRAS até 690 m depois de  ARCO DA SABESP     2110       LESTE  ",
      "text/html": "<div>\n<style scoped>\n    .dataframe tbody tr th:only-of-type {\n        vertical-align: middle;\n    }\n\n    .dataframe tbody tr th {\n        vertical-align: top;\n    }\n\n    .dataframe thead th {\n        text-align: right;\n    }\n</style>\n<table border=\"1\" class=\"dataframe\">\n  <thead>\n    <tr style=\"text-align: right;\">\n      <th></th>\n      <th>data</th>\n      <th>corredor</th>\n      <th>sentido</th>\n      <th>expressa</th>\n      <th>descricao</th>\n      <th>tamanho</th>\n      <th>nome_regiao</th>\n    </tr>\n  </thead>\n  <tbody>\n    <tr>\n      <th>0</th>\n      <td>1/1/18 18:30</td>\n      <td>Marginal Tietê</td>\n      <td>A.Senna/Castelo Branco</td>\n      <td>E</td>\n      <td>De CRUZEIRO DO SUL até  COROA</td>\n      <td>780</td>\n      <td>LESTE</td>\n    </tr>\n    <tr>\n      <th>1</th>\n      <td>1/1/18 19:00</td>\n      <td>Marginal Tietê</td>\n      <td>A.Senna/Castelo Branco</td>\n      <td>E</td>\n      <td>De CRUZEIRO DO SUL até  COROA</td>\n      <td>780</td>\n      <td>LESTE</td>\n    </tr>\n    <tr>\n      <th>2</th>\n      <td>2/1/18 11:00</td>\n      <td>Vinte Três/R Berta/M Guimarães</td>\n      <td>Santana/Aeroporto</td>\n      <td>NaN</td>\n      <td>De JACEGUAI até  BANDEIRA</td>\n      <td>832</td>\n      <td>CENTRO</td>\n    </tr>\n    <tr>\n      <th>3</th>\n      <td>2/1/18 12:00</td>\n      <td>Marginal Tietê</td>\n      <td>A.Senna/Castelo Branco</td>\n      <td>E</td>\n      <td>De BANDEIRAS até 690 m depois de  ARCO DA SABESP</td>\n      <td>2110</td>\n      <td>LESTE</td>\n    </tr>\n    <tr>\n      <th>4</th>\n      <td>2/1/18 12:30</td>\n      <td>Marginal Tietê</td>\n      <td>A.Senna/Castelo Branco</td>\n      <td>E</td>\n      <td>De BANDEIRAS até 690 m depois de  ARCO DA SABESP</td>\n      <td>2110</td>\n      <td>LESTE</td>\n    </tr>\n  </tbody>\n</table>\n</div>"
     },
     "execution_count": 48,
     "metadata": {},
     "output_type": "execute_result"
    }
   ],
   "source": [
    "df_2018_2022 = concat_dfs(df_list4)\n",
    "df_2018_2022.head()"
   ]
  },
  {
   "cell_type": "code",
   "execution_count": 49,
   "metadata": {
    "ExecuteTime": {
     "start_time": "2023-04-22T14:37:32.563940Z",
     "end_time": "2023-04-22T14:37:32.571159Z"
    }
   },
   "outputs": [
    {
     "data": {
      "text/plain": "           data                                  corredor  \\\n0  1/1/18 18:30  Marginal Tietê                             \n1  1/1/18 19:00  Marginal Tietê                             \n2  2/1/18 11:00  Vinte Três/R Berta/M Guimarães             \n3  2/1/18 12:00  Marginal Tietê                             \n4  2/1/18 12:30  Marginal Tietê                             \n\n                                    sentido pista  \\\n0  A.Senna/Castelo Branco                       E   \n1  A.Senna/Castelo Branco                       E   \n2  Santana/Aeroporto                          NaN   \n3  A.Senna/Castelo Branco                       E   \n4  A.Senna/Castelo Branco                       E   \n\n                                             trecho  valor  regiao  \n0                     De CRUZEIRO DO SUL até  COROA    780   LESTE  \n1                     De CRUZEIRO DO SUL até  COROA    780   LESTE  \n2                         De JACEGUAI até  BANDEIRA    832  CENTRO  \n3  De BANDEIRAS até 690 m depois de  ARCO DA SABESP   2110   LESTE  \n4  De BANDEIRAS até 690 m depois de  ARCO DA SABESP   2110   LESTE  ",
      "text/html": "<div>\n<style scoped>\n    .dataframe tbody tr th:only-of-type {\n        vertical-align: middle;\n    }\n\n    .dataframe tbody tr th {\n        vertical-align: top;\n    }\n\n    .dataframe thead th {\n        text-align: right;\n    }\n</style>\n<table border=\"1\" class=\"dataframe\">\n  <thead>\n    <tr style=\"text-align: right;\">\n      <th></th>\n      <th>data</th>\n      <th>corredor</th>\n      <th>sentido</th>\n      <th>pista</th>\n      <th>trecho</th>\n      <th>valor</th>\n      <th>regiao</th>\n    </tr>\n  </thead>\n  <tbody>\n    <tr>\n      <th>0</th>\n      <td>1/1/18 18:30</td>\n      <td>Marginal Tietê</td>\n      <td>A.Senna/Castelo Branco</td>\n      <td>E</td>\n      <td>De CRUZEIRO DO SUL até  COROA</td>\n      <td>780</td>\n      <td>LESTE</td>\n    </tr>\n    <tr>\n      <th>1</th>\n      <td>1/1/18 19:00</td>\n      <td>Marginal Tietê</td>\n      <td>A.Senna/Castelo Branco</td>\n      <td>E</td>\n      <td>De CRUZEIRO DO SUL até  COROA</td>\n      <td>780</td>\n      <td>LESTE</td>\n    </tr>\n    <tr>\n      <th>2</th>\n      <td>2/1/18 11:00</td>\n      <td>Vinte Três/R Berta/M Guimarães</td>\n      <td>Santana/Aeroporto</td>\n      <td>NaN</td>\n      <td>De JACEGUAI até  BANDEIRA</td>\n      <td>832</td>\n      <td>CENTRO</td>\n    </tr>\n    <tr>\n      <th>3</th>\n      <td>2/1/18 12:00</td>\n      <td>Marginal Tietê</td>\n      <td>A.Senna/Castelo Branco</td>\n      <td>E</td>\n      <td>De BANDEIRAS até 690 m depois de  ARCO DA SABESP</td>\n      <td>2110</td>\n      <td>LESTE</td>\n    </tr>\n    <tr>\n      <th>4</th>\n      <td>2/1/18 12:30</td>\n      <td>Marginal Tietê</td>\n      <td>A.Senna/Castelo Branco</td>\n      <td>E</td>\n      <td>De BANDEIRAS até 690 m depois de  ARCO DA SABESP</td>\n      <td>2110</td>\n      <td>LESTE</td>\n    </tr>\n  </tbody>\n</table>\n</div>"
     },
     "execution_count": 49,
     "metadata": {},
     "output_type": "execute_result"
    }
   ],
   "source": [
    "df_2018_2022 = rename_columns(df_2018_2022, ['data', 'corredor', 'sentido', 'pista', 'trecho', 'valor', 'regiao'])\n",
    "df_2018_2022.head()"
   ]
  },
  {
   "cell_type": "markdown",
   "metadata": {},
   "source": [
    "### Concat all dfs"
   ]
  },
  {
   "cell_type": "code",
   "execution_count": 50,
   "metadata": {
    "ExecuteTime": {
     "start_time": "2023-04-22T14:37:32.571159Z",
     "end_time": "2023-04-22T14:37:32.735694Z"
    }
   },
   "outputs": [
    {
     "data": {
      "text/plain": "3388136"
     },
     "execution_count": 50,
     "metadata": {},
     "output_type": "execute_result"
    }
   ],
   "source": [
    "df_list_all = [df_2010_2011, df_2012_2013, df_2014, df_2015_2016, df_2017, df_2018_2022]\n",
    "df_concat = concat_dfs(df_list_all)\n",
    "len(df_concat)"
   ]
  },
  {
   "cell_type": "code",
   "execution_count": 51,
   "metadata": {
    "ExecuteTime": {
     "start_time": "2023-04-22T14:37:32.694157Z",
     "end_time": "2023-04-22T14:37:32.735694Z"
    }
   },
   "outputs": [
    {
     "data": {
      "text/plain": "           data                                  corredor  \\\n0  2/1/10 18:00  Marginal Tietê                             \n1  2/1/10 18:00  Vale/P.Maia/Tirad/S.Dumont                 \n2  2/1/10 18:30  Vitor Manzini, Av                          \n3  2/1/10 18:30  Marginal Tietê                             \n4  2/1/10 19:00  Marginal Tietê                             \n\n                                    sentido pista  \\\n0  A.Senna/Castelo Branco                       A   \n1  Santana/Aeroporto                          NaN   \n2  Centro/Bairro                              NaN   \n3  A.Senna/Castelo Branco                       A   \n4  Castelo/A.Senna                              A   \n\n                                              trecho  valor  regiao  \n0                            De BANDEIRAS até  COROA   1090   LESTE  \n1  De BANDEIRAS Término da Pte até  BANDEIRAS Tér...    410  CENTRO  \n2         De SOCORRO Inicio Pte até  WASHINGTON LUIS    550     SUL  \n3                  De BANDEIRAS até  CRUZEIRO DO SUL    500   LESTE  \n4                           De CASA VERDE até  LIMAO   1290   LESTE  ",
      "text/html": "<div>\n<style scoped>\n    .dataframe tbody tr th:only-of-type {\n        vertical-align: middle;\n    }\n\n    .dataframe tbody tr th {\n        vertical-align: top;\n    }\n\n    .dataframe thead th {\n        text-align: right;\n    }\n</style>\n<table border=\"1\" class=\"dataframe\">\n  <thead>\n    <tr style=\"text-align: right;\">\n      <th></th>\n      <th>data</th>\n      <th>corredor</th>\n      <th>sentido</th>\n      <th>pista</th>\n      <th>trecho</th>\n      <th>valor</th>\n      <th>regiao</th>\n    </tr>\n  </thead>\n  <tbody>\n    <tr>\n      <th>0</th>\n      <td>2/1/10 18:00</td>\n      <td>Marginal Tietê</td>\n      <td>A.Senna/Castelo Branco</td>\n      <td>A</td>\n      <td>De BANDEIRAS até  COROA</td>\n      <td>1090</td>\n      <td>LESTE</td>\n    </tr>\n    <tr>\n      <th>1</th>\n      <td>2/1/10 18:00</td>\n      <td>Vale/P.Maia/Tirad/S.Dumont</td>\n      <td>Santana/Aeroporto</td>\n      <td>NaN</td>\n      <td>De BANDEIRAS Término da Pte até  BANDEIRAS Tér...</td>\n      <td>410</td>\n      <td>CENTRO</td>\n    </tr>\n    <tr>\n      <th>2</th>\n      <td>2/1/10 18:30</td>\n      <td>Vitor Manzini, Av</td>\n      <td>Centro/Bairro</td>\n      <td>NaN</td>\n      <td>De SOCORRO Inicio Pte até  WASHINGTON LUIS</td>\n      <td>550</td>\n      <td>SUL</td>\n    </tr>\n    <tr>\n      <th>3</th>\n      <td>2/1/10 18:30</td>\n      <td>Marginal Tietê</td>\n      <td>A.Senna/Castelo Branco</td>\n      <td>A</td>\n      <td>De BANDEIRAS até  CRUZEIRO DO SUL</td>\n      <td>500</td>\n      <td>LESTE</td>\n    </tr>\n    <tr>\n      <th>4</th>\n      <td>2/1/10 19:00</td>\n      <td>Marginal Tietê</td>\n      <td>Castelo/A.Senna</td>\n      <td>A</td>\n      <td>De CASA VERDE até  LIMAO</td>\n      <td>1290</td>\n      <td>LESTE</td>\n    </tr>\n  </tbody>\n</table>\n</div>"
     },
     "execution_count": 51,
     "metadata": {},
     "output_type": "execute_result"
    }
   ],
   "source": [
    "df_concat.head()"
   ]
  },
  {
   "cell_type": "markdown",
   "metadata": {},
   "source": [
    "### Analysis of Hours of Congestion"
   ]
  },
  {
   "cell_type": "code",
   "execution_count": 52,
   "metadata": {
    "ExecuteTime": {
     "start_time": "2023-04-22T14:37:32.703138Z",
     "end_time": "2023-04-22T14:37:39.118126Z"
    }
   },
   "outputs": [
    {
     "name": "stderr",
     "output_type": "stream",
     "text": [
      "C:\\Users\\gugat\\AppData\\Local\\Temp\\ipykernel_34520\\432366454.py:1: UserWarning:\n",
      "\n",
      "Parsing dates in DD/MM/YYYY format when dayfirst=False (the default) was specified. This may lead to inconsistently parsed dates! Specify a format to ensure consistent parsing.\n",
      "\n",
      "C:\\Users\\gugat\\AppData\\Local\\Temp\\ipykernel_34520\\432366454.py:2: FutureWarning:\n",
      "\n",
      "The default value of numeric_only in DataFrameGroupBy.sum is deprecated. In a future version, numeric_only will default to False. Either specify numeric_only or select only columns which should be valid for the function.\n",
      "\n"
     ]
    },
    {
     "data": {
      "text/plain": "        Horas  regiao    valor\n0    00:00:00  CENTRO  1145898\n1    00:00:00   LESTE  1347168\n2    00:00:00   NORTE    53424\n3    00:00:00   OESTE  1067432\n4    00:00:00     SUL   540182\n..        ...     ...      ...\n235  23:30:00  CENTRO  1439300\n236  23:30:00   LESTE  1729647\n237  23:30:00   NORTE    64498\n238  23:30:00   OESTE  1414934\n239  23:30:00     SUL   615269\n\n[240 rows x 3 columns]",
      "text/html": "<div>\n<style scoped>\n    .dataframe tbody tr th:only-of-type {\n        vertical-align: middle;\n    }\n\n    .dataframe tbody tr th {\n        vertical-align: top;\n    }\n\n    .dataframe thead th {\n        text-align: right;\n    }\n</style>\n<table border=\"1\" class=\"dataframe\">\n  <thead>\n    <tr style=\"text-align: right;\">\n      <th></th>\n      <th>Horas</th>\n      <th>regiao</th>\n      <th>valor</th>\n    </tr>\n  </thead>\n  <tbody>\n    <tr>\n      <th>0</th>\n      <td>00:00:00</td>\n      <td>CENTRO</td>\n      <td>1145898</td>\n    </tr>\n    <tr>\n      <th>1</th>\n      <td>00:00:00</td>\n      <td>LESTE</td>\n      <td>1347168</td>\n    </tr>\n    <tr>\n      <th>2</th>\n      <td>00:00:00</td>\n      <td>NORTE</td>\n      <td>53424</td>\n    </tr>\n    <tr>\n      <th>3</th>\n      <td>00:00:00</td>\n      <td>OESTE</td>\n      <td>1067432</td>\n    </tr>\n    <tr>\n      <th>4</th>\n      <td>00:00:00</td>\n      <td>SUL</td>\n      <td>540182</td>\n    </tr>\n    <tr>\n      <th>...</th>\n      <td>...</td>\n      <td>...</td>\n      <td>...</td>\n    </tr>\n    <tr>\n      <th>235</th>\n      <td>23:30:00</td>\n      <td>CENTRO</td>\n      <td>1439300</td>\n    </tr>\n    <tr>\n      <th>236</th>\n      <td>23:30:00</td>\n      <td>LESTE</td>\n      <td>1729647</td>\n    </tr>\n    <tr>\n      <th>237</th>\n      <td>23:30:00</td>\n      <td>NORTE</td>\n      <td>64498</td>\n    </tr>\n    <tr>\n      <th>238</th>\n      <td>23:30:00</td>\n      <td>OESTE</td>\n      <td>1414934</td>\n    </tr>\n    <tr>\n      <th>239</th>\n      <td>23:30:00</td>\n      <td>SUL</td>\n      <td>615269</td>\n    </tr>\n  </tbody>\n</table>\n<p>240 rows × 3 columns</p>\n</div>"
     },
     "execution_count": 52,
     "metadata": {},
     "output_type": "execute_result"
    }
   ],
   "source": [
    "df_concat['Horas'] = pd.to_datetime(df_concat['data']).dt.time\n",
    "df_horarios = df_concat.groupby(['Horas', 'regiao']).sum().reset_index()\n",
    "df_horarios"
   ]
  },
  {
   "cell_type": "code",
   "execution_count": 53,
   "metadata": {
    "ExecuteTime": {
     "start_time": "2023-04-22T14:37:39.116128Z",
     "end_time": "2023-04-22T14:37:39.205113Z"
    }
   },
   "outputs": [
    {
     "data": {
      "application/vnd.plotly.v1+json": {
       "data": [
        {
         "hovertemplate": "regiao=CENTRO<br>Horas=%{x}<br>valor=%{y}<extra></extra>",
         "legendgroup": "CENTRO",
         "line": {
          "color": "#636efa",
          "dash": "solid"
         },
         "marker": {
          "symbol": "circle"
         },
         "mode": "lines",
         "name": "CENTRO",
         "orientation": "v",
         "showlegend": true,
         "x": [
          "00:00:00",
          "00:30:00",
          "01:00:00",
          "01:30:00",
          "02:00:00",
          "02:30:00",
          "03:00:00",
          "03:30:00",
          "04:00:00",
          "04:30:00",
          "05:00:00",
          "05:30:00",
          "06:00:00",
          "06:30:00",
          "07:00:00",
          "07:30:00",
          "08:00:00",
          "08:30:00",
          "09:00:00",
          "09:30:00",
          "10:00:00",
          "10:30:00",
          "11:00:00",
          "11:30:00",
          "12:00:00",
          "12:30:00",
          "13:00:00",
          "13:30:00",
          "14:00:00",
          "14:30:00",
          "15:00:00",
          "15:30:00",
          "16:00:00",
          "16:30:00",
          "17:00:00",
          "17:30:00",
          "18:00:00",
          "18:30:00",
          "19:00:00",
          "19:30:00",
          "20:00:00",
          "20:30:00",
          "21:00:00",
          "21:30:00",
          "22:00:00",
          "22:30:00",
          "23:00:00",
          "23:30:00"
         ],
         "xaxis": "x",
         "y": [
          1145898,
          873792,
          773395,
          564020,
          502411,
          386671,
          342745,
          316994,
          307755,
          297461,
          273301,
          237755,
          696209,
          5676160,
          19587371,
          27262038,
          36701484,
          44116855,
          50462658,
          51435548,
          47368105,
          45211640,
          44009065,
          41650919,
          38411192,
          36392930,
          35748683,
          34214660,
          34787279,
          34864586,
          36682180,
          39810394,
          48465184,
          58616573,
          74712030,
          78396989,
          81824303,
          85162870,
          86183207,
          71567456,
          46592187,
          30439907,
          19299521,
          9265944,
          4001689,
          2124302,
          1698041,
          1439300
         ],
         "yaxis": "y",
         "type": "scatter"
        },
        {
         "hovertemplate": "regiao=LESTE<br>Horas=%{x}<br>valor=%{y}<extra></extra>",
         "legendgroup": "LESTE",
         "line": {
          "color": "#EF553B",
          "dash": "solid"
         },
         "marker": {
          "symbol": "circle"
         },
         "mode": "lines",
         "name": "LESTE",
         "orientation": "v",
         "showlegend": true,
         "x": [
          "00:00:00",
          "00:30:00",
          "01:00:00",
          "01:30:00",
          "02:00:00",
          "02:30:00",
          "03:00:00",
          "03:30:00",
          "04:00:00",
          "04:30:00",
          "05:00:00",
          "05:30:00",
          "06:00:00",
          "06:30:00",
          "07:00:00",
          "07:30:00",
          "08:00:00",
          "08:30:00",
          "09:00:00",
          "09:30:00",
          "10:00:00",
          "10:30:00",
          "11:00:00",
          "11:30:00",
          "12:00:00",
          "12:30:00",
          "13:00:00",
          "13:30:00",
          "14:00:00",
          "14:30:00",
          "15:00:00",
          "15:30:00",
          "16:00:00",
          "16:30:00",
          "17:00:00",
          "17:30:00",
          "18:00:00",
          "18:30:00",
          "19:00:00",
          "19:30:00",
          "20:00:00",
          "20:30:00",
          "21:00:00",
          "21:30:00",
          "22:00:00",
          "22:30:00",
          "23:00:00",
          "23:30:00"
         ],
         "xaxis": "x",
         "y": [
          1347168,
          1043479,
          914610,
          719436,
          646584,
          586930,
          517753,
          465420,
          424648,
          425474,
          436827,
          368428,
          1033876,
          9577648,
          25499467,
          32849311,
          38522817,
          39722175,
          39146478,
          36437109,
          34074151,
          35243074,
          39309313,
          41327586,
          38758001,
          35095411,
          30840256,
          27533450,
          27240799,
          29042836,
          32688783,
          37270629,
          44070947,
          51687798,
          62546629,
          64719473,
          66516321,
          68399267,
          67494468,
          55568523,
          34884400,
          21815161,
          13531965,
          7749717,
          4484090,
          2689688,
          2167165,
          1729647
         ],
         "yaxis": "y",
         "type": "scatter"
        },
        {
         "hovertemplate": "regiao=NORTE<br>Horas=%{x}<br>valor=%{y}<extra></extra>",
         "legendgroup": "NORTE",
         "line": {
          "color": "#00cc96",
          "dash": "solid"
         },
         "marker": {
          "symbol": "circle"
         },
         "mode": "lines",
         "name": "NORTE",
         "orientation": "v",
         "showlegend": true,
         "x": [
          "00:00:00",
          "00:30:00",
          "01:00:00",
          "01:30:00",
          "02:00:00",
          "02:30:00",
          "03:00:00",
          "03:30:00",
          "04:00:00",
          "04:30:00",
          "05:00:00",
          "05:30:00",
          "06:00:00",
          "06:30:00",
          "07:00:00",
          "07:30:00",
          "08:00:00",
          "08:30:00",
          "09:00:00",
          "09:30:00",
          "10:00:00",
          "10:30:00",
          "11:00:00",
          "11:30:00",
          "12:00:00",
          "12:30:00",
          "13:00:00",
          "13:30:00",
          "14:00:00",
          "14:30:00",
          "15:00:00",
          "15:30:00",
          "16:00:00",
          "16:30:00",
          "17:00:00",
          "17:30:00",
          "18:00:00",
          "18:30:00",
          "19:00:00",
          "19:30:00",
          "20:00:00",
          "20:30:00",
          "21:00:00",
          "21:30:00",
          "22:00:00",
          "22:30:00",
          "23:00:00",
          "23:30:00"
         ],
         "xaxis": "x",
         "y": [
          53424,
          41745,
          37905,
          30993,
          25663,
          25663,
          23343,
          23343,
          17857,
          17487,
          15121,
          12229,
          15381,
          665631,
          4414842,
          7861971,
          11556386,
          13497623,
          13937410,
          11588259,
          8429308,
          6809992,
          5503711,
          4447565,
          3702631,
          3135397,
          2772839,
          2502041,
          2309361,
          2190577,
          2198876,
          2109957,
          2103316,
          2159842,
          2617024,
          3017536,
          3672544,
          4573551,
          5369817,
          4727375,
          2847047,
          1594846,
          911020,
          378477,
          158294,
          90021,
          74902,
          64498
         ],
         "yaxis": "y",
         "type": "scatter"
        },
        {
         "hovertemplate": "regiao=OESTE<br>Horas=%{x}<br>valor=%{y}<extra></extra>",
         "legendgroup": "OESTE",
         "line": {
          "color": "#ab63fa",
          "dash": "solid"
         },
         "marker": {
          "symbol": "circle"
         },
         "mode": "lines",
         "name": "OESTE",
         "orientation": "v",
         "showlegend": true,
         "x": [
          "00:00:00",
          "00:30:00",
          "01:00:00",
          "01:30:00",
          "02:00:00",
          "02:30:00",
          "03:00:00",
          "03:30:00",
          "04:00:00",
          "04:30:00",
          "05:00:00",
          "05:30:00",
          "06:00:00",
          "06:30:00",
          "07:00:00",
          "07:30:00",
          "08:00:00",
          "08:30:00",
          "09:00:00",
          "09:30:00",
          "10:00:00",
          "10:30:00",
          "11:00:00",
          "11:30:00",
          "12:00:00",
          "12:30:00",
          "13:00:00",
          "13:30:00",
          "14:00:00",
          "14:30:00",
          "15:00:00",
          "15:30:00",
          "16:00:00",
          "16:30:00",
          "17:00:00",
          "17:30:00",
          "18:00:00",
          "18:30:00",
          "19:00:00",
          "19:30:00",
          "20:00:00",
          "20:30:00",
          "21:00:00",
          "21:30:00",
          "22:00:00",
          "22:30:00",
          "23:00:00",
          "23:30:00"
         ],
         "xaxis": "x",
         "y": [
          1067432,
          886581,
          740032,
          613845,
          481425,
          408971,
          367448,
          334830,
          312419,
          283384,
          246553,
          190941,
          730742,
          6897449,
          21339678,
          33353017,
          46739946,
          58067706,
          69075545,
          70446586,
          61572623,
          52970343,
          45811874,
          36369641,
          26832442,
          22476668,
          20989845,
          19458515,
          19383101,
          19682292,
          21103417,
          22207911,
          24835911,
          29848110,
          41142672,
          49729584,
          62666653,
          71762139,
          77533976,
          70425613,
          51805049,
          36761974,
          23486469,
          10872047,
          4392767,
          1944045,
          1674977,
          1414934
         ],
         "yaxis": "y",
         "type": "scatter"
        },
        {
         "hovertemplate": "regiao=SUL<br>Horas=%{x}<br>valor=%{y}<extra></extra>",
         "legendgroup": "SUL",
         "line": {
          "color": "#FFA15A",
          "dash": "solid"
         },
         "marker": {
          "symbol": "circle"
         },
         "mode": "lines",
         "name": "SUL",
         "orientation": "v",
         "showlegend": true,
         "x": [
          "00:00:00",
          "00:30:00",
          "01:00:00",
          "01:30:00",
          "02:00:00",
          "02:30:00",
          "03:00:00",
          "03:30:00",
          "04:00:00",
          "04:30:00",
          "05:00:00",
          "05:30:00",
          "06:00:00",
          "06:30:00",
          "07:00:00",
          "07:30:00",
          "08:00:00",
          "08:30:00",
          "09:00:00",
          "09:30:00",
          "10:00:00",
          "10:30:00",
          "11:00:00",
          "11:30:00",
          "12:00:00",
          "12:30:00",
          "13:00:00",
          "13:30:00",
          "14:00:00",
          "14:30:00",
          "15:00:00",
          "15:30:00",
          "16:00:00",
          "16:30:00",
          "17:00:00",
          "17:30:00",
          "18:00:00",
          "18:30:00",
          "19:00:00",
          "19:30:00",
          "20:00:00",
          "20:30:00",
          "21:00:00",
          "21:30:00",
          "22:00:00",
          "22:30:00",
          "23:00:00",
          "23:30:00"
         ],
         "xaxis": "x",
         "y": [
          540182,
          486353,
          390526,
          314581,
          263682,
          231273,
          222020,
          184992,
          175772,
          158624,
          128724,
          112670,
          394463,
          3842549,
          13903914,
          23876080,
          35499690,
          43172775,
          47300286,
          45975288,
          40365557,
          35434664,
          30502773,
          24553824,
          19005625,
          15927727,
          14949528,
          13996588,
          14134240,
          14172032,
          14974327,
          15823137,
          17178219,
          19112239,
          25916768,
          30203537,
          36994459,
          45670129,
          52716600,
          50860699,
          37544770,
          26236624,
          15465265,
          5859741,
          2148919,
          917961,
          681171,
          615269
         ],
         "yaxis": "y",
         "type": "scatter"
        }
       ],
       "layout": {
        "template": {
         "data": {
          "histogram2dcontour": [
           {
            "type": "histogram2dcontour",
            "colorbar": {
             "outlinewidth": 0,
             "ticks": ""
            },
            "colorscale": [
             [
              0.0,
              "#0d0887"
             ],
             [
              0.1111111111111111,
              "#46039f"
             ],
             [
              0.2222222222222222,
              "#7201a8"
             ],
             [
              0.3333333333333333,
              "#9c179e"
             ],
             [
              0.4444444444444444,
              "#bd3786"
             ],
             [
              0.5555555555555556,
              "#d8576b"
             ],
             [
              0.6666666666666666,
              "#ed7953"
             ],
             [
              0.7777777777777778,
              "#fb9f3a"
             ],
             [
              0.8888888888888888,
              "#fdca26"
             ],
             [
              1.0,
              "#f0f921"
             ]
            ]
           }
          ],
          "choropleth": [
           {
            "type": "choropleth",
            "colorbar": {
             "outlinewidth": 0,
             "ticks": ""
            }
           }
          ],
          "histogram2d": [
           {
            "type": "histogram2d",
            "colorbar": {
             "outlinewidth": 0,
             "ticks": ""
            },
            "colorscale": [
             [
              0.0,
              "#0d0887"
             ],
             [
              0.1111111111111111,
              "#46039f"
             ],
             [
              0.2222222222222222,
              "#7201a8"
             ],
             [
              0.3333333333333333,
              "#9c179e"
             ],
             [
              0.4444444444444444,
              "#bd3786"
             ],
             [
              0.5555555555555556,
              "#d8576b"
             ],
             [
              0.6666666666666666,
              "#ed7953"
             ],
             [
              0.7777777777777778,
              "#fb9f3a"
             ],
             [
              0.8888888888888888,
              "#fdca26"
             ],
             [
              1.0,
              "#f0f921"
             ]
            ]
           }
          ],
          "heatmap": [
           {
            "type": "heatmap",
            "colorbar": {
             "outlinewidth": 0,
             "ticks": ""
            },
            "colorscale": [
             [
              0.0,
              "#0d0887"
             ],
             [
              0.1111111111111111,
              "#46039f"
             ],
             [
              0.2222222222222222,
              "#7201a8"
             ],
             [
              0.3333333333333333,
              "#9c179e"
             ],
             [
              0.4444444444444444,
              "#bd3786"
             ],
             [
              0.5555555555555556,
              "#d8576b"
             ],
             [
              0.6666666666666666,
              "#ed7953"
             ],
             [
              0.7777777777777778,
              "#fb9f3a"
             ],
             [
              0.8888888888888888,
              "#fdca26"
             ],
             [
              1.0,
              "#f0f921"
             ]
            ]
           }
          ],
          "heatmapgl": [
           {
            "type": "heatmapgl",
            "colorbar": {
             "outlinewidth": 0,
             "ticks": ""
            },
            "colorscale": [
             [
              0.0,
              "#0d0887"
             ],
             [
              0.1111111111111111,
              "#46039f"
             ],
             [
              0.2222222222222222,
              "#7201a8"
             ],
             [
              0.3333333333333333,
              "#9c179e"
             ],
             [
              0.4444444444444444,
              "#bd3786"
             ],
             [
              0.5555555555555556,
              "#d8576b"
             ],
             [
              0.6666666666666666,
              "#ed7953"
             ],
             [
              0.7777777777777778,
              "#fb9f3a"
             ],
             [
              0.8888888888888888,
              "#fdca26"
             ],
             [
              1.0,
              "#f0f921"
             ]
            ]
           }
          ],
          "contourcarpet": [
           {
            "type": "contourcarpet",
            "colorbar": {
             "outlinewidth": 0,
             "ticks": ""
            }
           }
          ],
          "contour": [
           {
            "type": "contour",
            "colorbar": {
             "outlinewidth": 0,
             "ticks": ""
            },
            "colorscale": [
             [
              0.0,
              "#0d0887"
             ],
             [
              0.1111111111111111,
              "#46039f"
             ],
             [
              0.2222222222222222,
              "#7201a8"
             ],
             [
              0.3333333333333333,
              "#9c179e"
             ],
             [
              0.4444444444444444,
              "#bd3786"
             ],
             [
              0.5555555555555556,
              "#d8576b"
             ],
             [
              0.6666666666666666,
              "#ed7953"
             ],
             [
              0.7777777777777778,
              "#fb9f3a"
             ],
             [
              0.8888888888888888,
              "#fdca26"
             ],
             [
              1.0,
              "#f0f921"
             ]
            ]
           }
          ],
          "surface": [
           {
            "type": "surface",
            "colorbar": {
             "outlinewidth": 0,
             "ticks": ""
            },
            "colorscale": [
             [
              0.0,
              "#0d0887"
             ],
             [
              0.1111111111111111,
              "#46039f"
             ],
             [
              0.2222222222222222,
              "#7201a8"
             ],
             [
              0.3333333333333333,
              "#9c179e"
             ],
             [
              0.4444444444444444,
              "#bd3786"
             ],
             [
              0.5555555555555556,
              "#d8576b"
             ],
             [
              0.6666666666666666,
              "#ed7953"
             ],
             [
              0.7777777777777778,
              "#fb9f3a"
             ],
             [
              0.8888888888888888,
              "#fdca26"
             ],
             [
              1.0,
              "#f0f921"
             ]
            ]
           }
          ],
          "mesh3d": [
           {
            "type": "mesh3d",
            "colorbar": {
             "outlinewidth": 0,
             "ticks": ""
            }
           }
          ],
          "scatter": [
           {
            "marker": {
             "line": {
              "color": "#283442"
             }
            },
            "type": "scatter"
           }
          ],
          "parcoords": [
           {
            "type": "parcoords",
            "line": {
             "colorbar": {
              "outlinewidth": 0,
              "ticks": ""
             }
            }
           }
          ],
          "scatterpolargl": [
           {
            "type": "scatterpolargl",
            "marker": {
             "colorbar": {
              "outlinewidth": 0,
              "ticks": ""
             }
            }
           }
          ],
          "bar": [
           {
            "error_x": {
             "color": "#f2f5fa"
            },
            "error_y": {
             "color": "#f2f5fa"
            },
            "marker": {
             "line": {
              "color": "rgb(17,17,17)",
              "width": 0.5
             },
             "pattern": {
              "fillmode": "overlay",
              "size": 10,
              "solidity": 0.2
             }
            },
            "type": "bar"
           }
          ],
          "scattergeo": [
           {
            "type": "scattergeo",
            "marker": {
             "colorbar": {
              "outlinewidth": 0,
              "ticks": ""
             }
            }
           }
          ],
          "scatterpolar": [
           {
            "type": "scatterpolar",
            "marker": {
             "colorbar": {
              "outlinewidth": 0,
              "ticks": ""
             }
            }
           }
          ],
          "histogram": [
           {
            "marker": {
             "pattern": {
              "fillmode": "overlay",
              "size": 10,
              "solidity": 0.2
             }
            },
            "type": "histogram"
           }
          ],
          "scattergl": [
           {
            "marker": {
             "line": {
              "color": "#283442"
             }
            },
            "type": "scattergl"
           }
          ],
          "scatter3d": [
           {
            "type": "scatter3d",
            "line": {
             "colorbar": {
              "outlinewidth": 0,
              "ticks": ""
             }
            },
            "marker": {
             "colorbar": {
              "outlinewidth": 0,
              "ticks": ""
             }
            }
           }
          ],
          "scattermapbox": [
           {
            "type": "scattermapbox",
            "marker": {
             "colorbar": {
              "outlinewidth": 0,
              "ticks": ""
             }
            }
           }
          ],
          "scatterternary": [
           {
            "type": "scatterternary",
            "marker": {
             "colorbar": {
              "outlinewidth": 0,
              "ticks": ""
             }
            }
           }
          ],
          "scattercarpet": [
           {
            "type": "scattercarpet",
            "marker": {
             "colorbar": {
              "outlinewidth": 0,
              "ticks": ""
             }
            }
           }
          ],
          "carpet": [
           {
            "aaxis": {
             "endlinecolor": "#A2B1C6",
             "gridcolor": "#506784",
             "linecolor": "#506784",
             "minorgridcolor": "#506784",
             "startlinecolor": "#A2B1C6"
            },
            "baxis": {
             "endlinecolor": "#A2B1C6",
             "gridcolor": "#506784",
             "linecolor": "#506784",
             "minorgridcolor": "#506784",
             "startlinecolor": "#A2B1C6"
            },
            "type": "carpet"
           }
          ],
          "table": [
           {
            "cells": {
             "fill": {
              "color": "#506784"
             },
             "line": {
              "color": "rgb(17,17,17)"
             }
            },
            "header": {
             "fill": {
              "color": "#2a3f5f"
             },
             "line": {
              "color": "rgb(17,17,17)"
             }
            },
            "type": "table"
           }
          ],
          "barpolar": [
           {
            "marker": {
             "line": {
              "color": "rgb(17,17,17)",
              "width": 0.5
             },
             "pattern": {
              "fillmode": "overlay",
              "size": 10,
              "solidity": 0.2
             }
            },
            "type": "barpolar"
           }
          ],
          "pie": [
           {
            "automargin": true,
            "type": "pie"
           }
          ]
         },
         "layout": {
          "autotypenumbers": "strict",
          "colorway": [
           "#636efa",
           "#EF553B",
           "#00cc96",
           "#ab63fa",
           "#FFA15A",
           "#19d3f3",
           "#FF6692",
           "#B6E880",
           "#FF97FF",
           "#FECB52"
          ],
          "font": {
           "color": "#f2f5fa"
          },
          "hovermode": "closest",
          "hoverlabel": {
           "align": "left"
          },
          "paper_bgcolor": "rgb(17,17,17)",
          "plot_bgcolor": "rgb(17,17,17)",
          "polar": {
           "bgcolor": "rgb(17,17,17)",
           "angularaxis": {
            "gridcolor": "#506784",
            "linecolor": "#506784",
            "ticks": ""
           },
           "radialaxis": {
            "gridcolor": "#506784",
            "linecolor": "#506784",
            "ticks": ""
           }
          },
          "ternary": {
           "bgcolor": "rgb(17,17,17)",
           "aaxis": {
            "gridcolor": "#506784",
            "linecolor": "#506784",
            "ticks": ""
           },
           "baxis": {
            "gridcolor": "#506784",
            "linecolor": "#506784",
            "ticks": ""
           },
           "caxis": {
            "gridcolor": "#506784",
            "linecolor": "#506784",
            "ticks": ""
           }
          },
          "coloraxis": {
           "colorbar": {
            "outlinewidth": 0,
            "ticks": ""
           }
          },
          "colorscale": {
           "sequential": [
            [
             0.0,
             "#0d0887"
            ],
            [
             0.1111111111111111,
             "#46039f"
            ],
            [
             0.2222222222222222,
             "#7201a8"
            ],
            [
             0.3333333333333333,
             "#9c179e"
            ],
            [
             0.4444444444444444,
             "#bd3786"
            ],
            [
             0.5555555555555556,
             "#d8576b"
            ],
            [
             0.6666666666666666,
             "#ed7953"
            ],
            [
             0.7777777777777778,
             "#fb9f3a"
            ],
            [
             0.8888888888888888,
             "#fdca26"
            ],
            [
             1.0,
             "#f0f921"
            ]
           ],
           "sequentialminus": [
            [
             0.0,
             "#0d0887"
            ],
            [
             0.1111111111111111,
             "#46039f"
            ],
            [
             0.2222222222222222,
             "#7201a8"
            ],
            [
             0.3333333333333333,
             "#9c179e"
            ],
            [
             0.4444444444444444,
             "#bd3786"
            ],
            [
             0.5555555555555556,
             "#d8576b"
            ],
            [
             0.6666666666666666,
             "#ed7953"
            ],
            [
             0.7777777777777778,
             "#fb9f3a"
            ],
            [
             0.8888888888888888,
             "#fdca26"
            ],
            [
             1.0,
             "#f0f921"
            ]
           ],
           "diverging": [
            [
             0,
             "#8e0152"
            ],
            [
             0.1,
             "#c51b7d"
            ],
            [
             0.2,
             "#de77ae"
            ],
            [
             0.3,
             "#f1b6da"
            ],
            [
             0.4,
             "#fde0ef"
            ],
            [
             0.5,
             "#f7f7f7"
            ],
            [
             0.6,
             "#e6f5d0"
            ],
            [
             0.7,
             "#b8e186"
            ],
            [
             0.8,
             "#7fbc41"
            ],
            [
             0.9,
             "#4d9221"
            ],
            [
             1,
             "#276419"
            ]
           ]
          },
          "xaxis": {
           "gridcolor": "#283442",
           "linecolor": "#506784",
           "ticks": "",
           "title": {
            "standoff": 15
           },
           "zerolinecolor": "#283442",
           "automargin": true,
           "zerolinewidth": 2
          },
          "yaxis": {
           "gridcolor": "#283442",
           "linecolor": "#506784",
           "ticks": "",
           "title": {
            "standoff": 15
           },
           "zerolinecolor": "#283442",
           "automargin": true,
           "zerolinewidth": 2
          },
          "scene": {
           "xaxis": {
            "backgroundcolor": "rgb(17,17,17)",
            "gridcolor": "#506784",
            "linecolor": "#506784",
            "showbackground": true,
            "ticks": "",
            "zerolinecolor": "#C8D4E3",
            "gridwidth": 2
           },
           "yaxis": {
            "backgroundcolor": "rgb(17,17,17)",
            "gridcolor": "#506784",
            "linecolor": "#506784",
            "showbackground": true,
            "ticks": "",
            "zerolinecolor": "#C8D4E3",
            "gridwidth": 2
           },
           "zaxis": {
            "backgroundcolor": "rgb(17,17,17)",
            "gridcolor": "#506784",
            "linecolor": "#506784",
            "showbackground": true,
            "ticks": "",
            "zerolinecolor": "#C8D4E3",
            "gridwidth": 2
           }
          },
          "shapedefaults": {
           "line": {
            "color": "#f2f5fa"
           }
          },
          "annotationdefaults": {
           "arrowcolor": "#f2f5fa",
           "arrowhead": 0,
           "arrowwidth": 1
          },
          "geo": {
           "bgcolor": "rgb(17,17,17)",
           "landcolor": "rgb(17,17,17)",
           "subunitcolor": "#506784",
           "showland": true,
           "showlakes": true,
           "lakecolor": "rgb(17,17,17)"
          },
          "title": {
           "x": 0.05
          },
          "updatemenudefaults": {
           "bgcolor": "#506784",
           "borderwidth": 0
          },
          "sliderdefaults": {
           "bgcolor": "#C8D4E3",
           "borderwidth": 1,
           "bordercolor": "rgb(17,17,17)",
           "tickwidth": 0
          },
          "mapbox": {
           "style": "dark"
          }
         }
        },
        "xaxis": {
         "anchor": "y",
         "domain": [
          0.0,
          1.0
         ],
         "title": {
          "text": "Horas"
         }
        },
        "yaxis": {
         "anchor": "x",
         "domain": [
          0.0,
          1.0
         ],
         "title": {
          "text": "valor"
         }
        },
        "legend": {
         "title": {
          "text": "regiao"
         },
         "tracegroupgap": 0
        },
        "margin": {
         "t": 60
        }
       },
       "config": {
        "plotlyServerURL": "https://plot.ly"
       }
      },
      "text/html": "<div>                            <div id=\"f4ae036f-197b-4ab5-a269-533a76dee795\" class=\"plotly-graph-div\" style=\"height:525px; width:100%;\"></div>            <script type=\"text/javascript\">                require([\"plotly\"], function(Plotly) {                    window.PLOTLYENV=window.PLOTLYENV || {};                                    if (document.getElementById(\"f4ae036f-197b-4ab5-a269-533a76dee795\")) {                    Plotly.newPlot(                        \"f4ae036f-197b-4ab5-a269-533a76dee795\",                        [{\"hovertemplate\":\"regiao=CENTRO<br>Horas=%{x}<br>valor=%{y}<extra></extra>\",\"legendgroup\":\"CENTRO\",\"line\":{\"color\":\"#636efa\",\"dash\":\"solid\"},\"marker\":{\"symbol\":\"circle\"},\"mode\":\"lines\",\"name\":\"CENTRO\",\"orientation\":\"v\",\"showlegend\":true,\"x\":[\"00:00:00\",\"00:30:00\",\"01:00:00\",\"01:30:00\",\"02:00:00\",\"02:30:00\",\"03:00:00\",\"03:30:00\",\"04:00:00\",\"04:30:00\",\"05:00:00\",\"05:30:00\",\"06:00:00\",\"06:30:00\",\"07:00:00\",\"07:30:00\",\"08:00:00\",\"08:30:00\",\"09:00:00\",\"09:30:00\",\"10:00:00\",\"10:30:00\",\"11:00:00\",\"11:30:00\",\"12:00:00\",\"12:30:00\",\"13:00:00\",\"13:30:00\",\"14:00:00\",\"14:30:00\",\"15:00:00\",\"15:30:00\",\"16:00:00\",\"16:30:00\",\"17:00:00\",\"17:30:00\",\"18:00:00\",\"18:30:00\",\"19:00:00\",\"19:30:00\",\"20:00:00\",\"20:30:00\",\"21:00:00\",\"21:30:00\",\"22:00:00\",\"22:30:00\",\"23:00:00\",\"23:30:00\"],\"xaxis\":\"x\",\"y\":[1145898,873792,773395,564020,502411,386671,342745,316994,307755,297461,273301,237755,696209,5676160,19587371,27262038,36701484,44116855,50462658,51435548,47368105,45211640,44009065,41650919,38411192,36392930,35748683,34214660,34787279,34864586,36682180,39810394,48465184,58616573,74712030,78396989,81824303,85162870,86183207,71567456,46592187,30439907,19299521,9265944,4001689,2124302,1698041,1439300],\"yaxis\":\"y\",\"type\":\"scatter\"},{\"hovertemplate\":\"regiao=LESTE<br>Horas=%{x}<br>valor=%{y}<extra></extra>\",\"legendgroup\":\"LESTE\",\"line\":{\"color\":\"#EF553B\",\"dash\":\"solid\"},\"marker\":{\"symbol\":\"circle\"},\"mode\":\"lines\",\"name\":\"LESTE\",\"orientation\":\"v\",\"showlegend\":true,\"x\":[\"00:00:00\",\"00:30:00\",\"01:00:00\",\"01:30:00\",\"02:00:00\",\"02:30:00\",\"03:00:00\",\"03:30:00\",\"04:00:00\",\"04:30:00\",\"05:00:00\",\"05:30:00\",\"06:00:00\",\"06:30:00\",\"07:00:00\",\"07:30:00\",\"08:00:00\",\"08:30:00\",\"09:00:00\",\"09:30:00\",\"10:00:00\",\"10:30:00\",\"11:00:00\",\"11:30:00\",\"12:00:00\",\"12:30:00\",\"13:00:00\",\"13:30:00\",\"14:00:00\",\"14:30:00\",\"15:00:00\",\"15:30:00\",\"16:00:00\",\"16:30:00\",\"17:00:00\",\"17:30:00\",\"18:00:00\",\"18:30:00\",\"19:00:00\",\"19:30:00\",\"20:00:00\",\"20:30:00\",\"21:00:00\",\"21:30:00\",\"22:00:00\",\"22:30:00\",\"23:00:00\",\"23:30:00\"],\"xaxis\":\"x\",\"y\":[1347168,1043479,914610,719436,646584,586930,517753,465420,424648,425474,436827,368428,1033876,9577648,25499467,32849311,38522817,39722175,39146478,36437109,34074151,35243074,39309313,41327586,38758001,35095411,30840256,27533450,27240799,29042836,32688783,37270629,44070947,51687798,62546629,64719473,66516321,68399267,67494468,55568523,34884400,21815161,13531965,7749717,4484090,2689688,2167165,1729647],\"yaxis\":\"y\",\"type\":\"scatter\"},{\"hovertemplate\":\"regiao=NORTE<br>Horas=%{x}<br>valor=%{y}<extra></extra>\",\"legendgroup\":\"NORTE\",\"line\":{\"color\":\"#00cc96\",\"dash\":\"solid\"},\"marker\":{\"symbol\":\"circle\"},\"mode\":\"lines\",\"name\":\"NORTE\",\"orientation\":\"v\",\"showlegend\":true,\"x\":[\"00:00:00\",\"00:30:00\",\"01:00:00\",\"01:30:00\",\"02:00:00\",\"02:30:00\",\"03:00:00\",\"03:30:00\",\"04:00:00\",\"04:30:00\",\"05:00:00\",\"05:30:00\",\"06:00:00\",\"06:30:00\",\"07:00:00\",\"07:30:00\",\"08:00:00\",\"08:30:00\",\"09:00:00\",\"09:30:00\",\"10:00:00\",\"10:30:00\",\"11:00:00\",\"11:30:00\",\"12:00:00\",\"12:30:00\",\"13:00:00\",\"13:30:00\",\"14:00:00\",\"14:30:00\",\"15:00:00\",\"15:30:00\",\"16:00:00\",\"16:30:00\",\"17:00:00\",\"17:30:00\",\"18:00:00\",\"18:30:00\",\"19:00:00\",\"19:30:00\",\"20:00:00\",\"20:30:00\",\"21:00:00\",\"21:30:00\",\"22:00:00\",\"22:30:00\",\"23:00:00\",\"23:30:00\"],\"xaxis\":\"x\",\"y\":[53424,41745,37905,30993,25663,25663,23343,23343,17857,17487,15121,12229,15381,665631,4414842,7861971,11556386,13497623,13937410,11588259,8429308,6809992,5503711,4447565,3702631,3135397,2772839,2502041,2309361,2190577,2198876,2109957,2103316,2159842,2617024,3017536,3672544,4573551,5369817,4727375,2847047,1594846,911020,378477,158294,90021,74902,64498],\"yaxis\":\"y\",\"type\":\"scatter\"},{\"hovertemplate\":\"regiao=OESTE<br>Horas=%{x}<br>valor=%{y}<extra></extra>\",\"legendgroup\":\"OESTE\",\"line\":{\"color\":\"#ab63fa\",\"dash\":\"solid\"},\"marker\":{\"symbol\":\"circle\"},\"mode\":\"lines\",\"name\":\"OESTE\",\"orientation\":\"v\",\"showlegend\":true,\"x\":[\"00:00:00\",\"00:30:00\",\"01:00:00\",\"01:30:00\",\"02:00:00\",\"02:30:00\",\"03:00:00\",\"03:30:00\",\"04:00:00\",\"04:30:00\",\"05:00:00\",\"05:30:00\",\"06:00:00\",\"06:30:00\",\"07:00:00\",\"07:30:00\",\"08:00:00\",\"08:30:00\",\"09:00:00\",\"09:30:00\",\"10:00:00\",\"10:30:00\",\"11:00:00\",\"11:30:00\",\"12:00:00\",\"12:30:00\",\"13:00:00\",\"13:30:00\",\"14:00:00\",\"14:30:00\",\"15:00:00\",\"15:30:00\",\"16:00:00\",\"16:30:00\",\"17:00:00\",\"17:30:00\",\"18:00:00\",\"18:30:00\",\"19:00:00\",\"19:30:00\",\"20:00:00\",\"20:30:00\",\"21:00:00\",\"21:30:00\",\"22:00:00\",\"22:30:00\",\"23:00:00\",\"23:30:00\"],\"xaxis\":\"x\",\"y\":[1067432,886581,740032,613845,481425,408971,367448,334830,312419,283384,246553,190941,730742,6897449,21339678,33353017,46739946,58067706,69075545,70446586,61572623,52970343,45811874,36369641,26832442,22476668,20989845,19458515,19383101,19682292,21103417,22207911,24835911,29848110,41142672,49729584,62666653,71762139,77533976,70425613,51805049,36761974,23486469,10872047,4392767,1944045,1674977,1414934],\"yaxis\":\"y\",\"type\":\"scatter\"},{\"hovertemplate\":\"regiao=SUL<br>Horas=%{x}<br>valor=%{y}<extra></extra>\",\"legendgroup\":\"SUL\",\"line\":{\"color\":\"#FFA15A\",\"dash\":\"solid\"},\"marker\":{\"symbol\":\"circle\"},\"mode\":\"lines\",\"name\":\"SUL\",\"orientation\":\"v\",\"showlegend\":true,\"x\":[\"00:00:00\",\"00:30:00\",\"01:00:00\",\"01:30:00\",\"02:00:00\",\"02:30:00\",\"03:00:00\",\"03:30:00\",\"04:00:00\",\"04:30:00\",\"05:00:00\",\"05:30:00\",\"06:00:00\",\"06:30:00\",\"07:00:00\",\"07:30:00\",\"08:00:00\",\"08:30:00\",\"09:00:00\",\"09:30:00\",\"10:00:00\",\"10:30:00\",\"11:00:00\",\"11:30:00\",\"12:00:00\",\"12:30:00\",\"13:00:00\",\"13:30:00\",\"14:00:00\",\"14:30:00\",\"15:00:00\",\"15:30:00\",\"16:00:00\",\"16:30:00\",\"17:00:00\",\"17:30:00\",\"18:00:00\",\"18:30:00\",\"19:00:00\",\"19:30:00\",\"20:00:00\",\"20:30:00\",\"21:00:00\",\"21:30:00\",\"22:00:00\",\"22:30:00\",\"23:00:00\",\"23:30:00\"],\"xaxis\":\"x\",\"y\":[540182,486353,390526,314581,263682,231273,222020,184992,175772,158624,128724,112670,394463,3842549,13903914,23876080,35499690,43172775,47300286,45975288,40365557,35434664,30502773,24553824,19005625,15927727,14949528,13996588,14134240,14172032,14974327,15823137,17178219,19112239,25916768,30203537,36994459,45670129,52716600,50860699,37544770,26236624,15465265,5859741,2148919,917961,681171,615269],\"yaxis\":\"y\",\"type\":\"scatter\"}],                        {\"template\":{\"data\":{\"histogram2dcontour\":[{\"type\":\"histogram2dcontour\",\"colorbar\":{\"outlinewidth\":0,\"ticks\":\"\"},\"colorscale\":[[0.0,\"#0d0887\"],[0.1111111111111111,\"#46039f\"],[0.2222222222222222,\"#7201a8\"],[0.3333333333333333,\"#9c179e\"],[0.4444444444444444,\"#bd3786\"],[0.5555555555555556,\"#d8576b\"],[0.6666666666666666,\"#ed7953\"],[0.7777777777777778,\"#fb9f3a\"],[0.8888888888888888,\"#fdca26\"],[1.0,\"#f0f921\"]]}],\"choropleth\":[{\"type\":\"choropleth\",\"colorbar\":{\"outlinewidth\":0,\"ticks\":\"\"}}],\"histogram2d\":[{\"type\":\"histogram2d\",\"colorbar\":{\"outlinewidth\":0,\"ticks\":\"\"},\"colorscale\":[[0.0,\"#0d0887\"],[0.1111111111111111,\"#46039f\"],[0.2222222222222222,\"#7201a8\"],[0.3333333333333333,\"#9c179e\"],[0.4444444444444444,\"#bd3786\"],[0.5555555555555556,\"#d8576b\"],[0.6666666666666666,\"#ed7953\"],[0.7777777777777778,\"#fb9f3a\"],[0.8888888888888888,\"#fdca26\"],[1.0,\"#f0f921\"]]}],\"heatmap\":[{\"type\":\"heatmap\",\"colorbar\":{\"outlinewidth\":0,\"ticks\":\"\"},\"colorscale\":[[0.0,\"#0d0887\"],[0.1111111111111111,\"#46039f\"],[0.2222222222222222,\"#7201a8\"],[0.3333333333333333,\"#9c179e\"],[0.4444444444444444,\"#bd3786\"],[0.5555555555555556,\"#d8576b\"],[0.6666666666666666,\"#ed7953\"],[0.7777777777777778,\"#fb9f3a\"],[0.8888888888888888,\"#fdca26\"],[1.0,\"#f0f921\"]]}],\"heatmapgl\":[{\"type\":\"heatmapgl\",\"colorbar\":{\"outlinewidth\":0,\"ticks\":\"\"},\"colorscale\":[[0.0,\"#0d0887\"],[0.1111111111111111,\"#46039f\"],[0.2222222222222222,\"#7201a8\"],[0.3333333333333333,\"#9c179e\"],[0.4444444444444444,\"#bd3786\"],[0.5555555555555556,\"#d8576b\"],[0.6666666666666666,\"#ed7953\"],[0.7777777777777778,\"#fb9f3a\"],[0.8888888888888888,\"#fdca26\"],[1.0,\"#f0f921\"]]}],\"contourcarpet\":[{\"type\":\"contourcarpet\",\"colorbar\":{\"outlinewidth\":0,\"ticks\":\"\"}}],\"contour\":[{\"type\":\"contour\",\"colorbar\":{\"outlinewidth\":0,\"ticks\":\"\"},\"colorscale\":[[0.0,\"#0d0887\"],[0.1111111111111111,\"#46039f\"],[0.2222222222222222,\"#7201a8\"],[0.3333333333333333,\"#9c179e\"],[0.4444444444444444,\"#bd3786\"],[0.5555555555555556,\"#d8576b\"],[0.6666666666666666,\"#ed7953\"],[0.7777777777777778,\"#fb9f3a\"],[0.8888888888888888,\"#fdca26\"],[1.0,\"#f0f921\"]]}],\"surface\":[{\"type\":\"surface\",\"colorbar\":{\"outlinewidth\":0,\"ticks\":\"\"},\"colorscale\":[[0.0,\"#0d0887\"],[0.1111111111111111,\"#46039f\"],[0.2222222222222222,\"#7201a8\"],[0.3333333333333333,\"#9c179e\"],[0.4444444444444444,\"#bd3786\"],[0.5555555555555556,\"#d8576b\"],[0.6666666666666666,\"#ed7953\"],[0.7777777777777778,\"#fb9f3a\"],[0.8888888888888888,\"#fdca26\"],[1.0,\"#f0f921\"]]}],\"mesh3d\":[{\"type\":\"mesh3d\",\"colorbar\":{\"outlinewidth\":0,\"ticks\":\"\"}}],\"scatter\":[{\"marker\":{\"line\":{\"color\":\"#283442\"}},\"type\":\"scatter\"}],\"parcoords\":[{\"type\":\"parcoords\",\"line\":{\"colorbar\":{\"outlinewidth\":0,\"ticks\":\"\"}}}],\"scatterpolargl\":[{\"type\":\"scatterpolargl\",\"marker\":{\"colorbar\":{\"outlinewidth\":0,\"ticks\":\"\"}}}],\"bar\":[{\"error_x\":{\"color\":\"#f2f5fa\"},\"error_y\":{\"color\":\"#f2f5fa\"},\"marker\":{\"line\":{\"color\":\"rgb(17,17,17)\",\"width\":0.5},\"pattern\":{\"fillmode\":\"overlay\",\"size\":10,\"solidity\":0.2}},\"type\":\"bar\"}],\"scattergeo\":[{\"type\":\"scattergeo\",\"marker\":{\"colorbar\":{\"outlinewidth\":0,\"ticks\":\"\"}}}],\"scatterpolar\":[{\"type\":\"scatterpolar\",\"marker\":{\"colorbar\":{\"outlinewidth\":0,\"ticks\":\"\"}}}],\"histogram\":[{\"marker\":{\"pattern\":{\"fillmode\":\"overlay\",\"size\":10,\"solidity\":0.2}},\"type\":\"histogram\"}],\"scattergl\":[{\"marker\":{\"line\":{\"color\":\"#283442\"}},\"type\":\"scattergl\"}],\"scatter3d\":[{\"type\":\"scatter3d\",\"line\":{\"colorbar\":{\"outlinewidth\":0,\"ticks\":\"\"}},\"marker\":{\"colorbar\":{\"outlinewidth\":0,\"ticks\":\"\"}}}],\"scattermapbox\":[{\"type\":\"scattermapbox\",\"marker\":{\"colorbar\":{\"outlinewidth\":0,\"ticks\":\"\"}}}],\"scatterternary\":[{\"type\":\"scatterternary\",\"marker\":{\"colorbar\":{\"outlinewidth\":0,\"ticks\":\"\"}}}],\"scattercarpet\":[{\"type\":\"scattercarpet\",\"marker\":{\"colorbar\":{\"outlinewidth\":0,\"ticks\":\"\"}}}],\"carpet\":[{\"aaxis\":{\"endlinecolor\":\"#A2B1C6\",\"gridcolor\":\"#506784\",\"linecolor\":\"#506784\",\"minorgridcolor\":\"#506784\",\"startlinecolor\":\"#A2B1C6\"},\"baxis\":{\"endlinecolor\":\"#A2B1C6\",\"gridcolor\":\"#506784\",\"linecolor\":\"#506784\",\"minorgridcolor\":\"#506784\",\"startlinecolor\":\"#A2B1C6\"},\"type\":\"carpet\"}],\"table\":[{\"cells\":{\"fill\":{\"color\":\"#506784\"},\"line\":{\"color\":\"rgb(17,17,17)\"}},\"header\":{\"fill\":{\"color\":\"#2a3f5f\"},\"line\":{\"color\":\"rgb(17,17,17)\"}},\"type\":\"table\"}],\"barpolar\":[{\"marker\":{\"line\":{\"color\":\"rgb(17,17,17)\",\"width\":0.5},\"pattern\":{\"fillmode\":\"overlay\",\"size\":10,\"solidity\":0.2}},\"type\":\"barpolar\"}],\"pie\":[{\"automargin\":true,\"type\":\"pie\"}]},\"layout\":{\"autotypenumbers\":\"strict\",\"colorway\":[\"#636efa\",\"#EF553B\",\"#00cc96\",\"#ab63fa\",\"#FFA15A\",\"#19d3f3\",\"#FF6692\",\"#B6E880\",\"#FF97FF\",\"#FECB52\"],\"font\":{\"color\":\"#f2f5fa\"},\"hovermode\":\"closest\",\"hoverlabel\":{\"align\":\"left\"},\"paper_bgcolor\":\"rgb(17,17,17)\",\"plot_bgcolor\":\"rgb(17,17,17)\",\"polar\":{\"bgcolor\":\"rgb(17,17,17)\",\"angularaxis\":{\"gridcolor\":\"#506784\",\"linecolor\":\"#506784\",\"ticks\":\"\"},\"radialaxis\":{\"gridcolor\":\"#506784\",\"linecolor\":\"#506784\",\"ticks\":\"\"}},\"ternary\":{\"bgcolor\":\"rgb(17,17,17)\",\"aaxis\":{\"gridcolor\":\"#506784\",\"linecolor\":\"#506784\",\"ticks\":\"\"},\"baxis\":{\"gridcolor\":\"#506784\",\"linecolor\":\"#506784\",\"ticks\":\"\"},\"caxis\":{\"gridcolor\":\"#506784\",\"linecolor\":\"#506784\",\"ticks\":\"\"}},\"coloraxis\":{\"colorbar\":{\"outlinewidth\":0,\"ticks\":\"\"}},\"colorscale\":{\"sequential\":[[0.0,\"#0d0887\"],[0.1111111111111111,\"#46039f\"],[0.2222222222222222,\"#7201a8\"],[0.3333333333333333,\"#9c179e\"],[0.4444444444444444,\"#bd3786\"],[0.5555555555555556,\"#d8576b\"],[0.6666666666666666,\"#ed7953\"],[0.7777777777777778,\"#fb9f3a\"],[0.8888888888888888,\"#fdca26\"],[1.0,\"#f0f921\"]],\"sequentialminus\":[[0.0,\"#0d0887\"],[0.1111111111111111,\"#46039f\"],[0.2222222222222222,\"#7201a8\"],[0.3333333333333333,\"#9c179e\"],[0.4444444444444444,\"#bd3786\"],[0.5555555555555556,\"#d8576b\"],[0.6666666666666666,\"#ed7953\"],[0.7777777777777778,\"#fb9f3a\"],[0.8888888888888888,\"#fdca26\"],[1.0,\"#f0f921\"]],\"diverging\":[[0,\"#8e0152\"],[0.1,\"#c51b7d\"],[0.2,\"#de77ae\"],[0.3,\"#f1b6da\"],[0.4,\"#fde0ef\"],[0.5,\"#f7f7f7\"],[0.6,\"#e6f5d0\"],[0.7,\"#b8e186\"],[0.8,\"#7fbc41\"],[0.9,\"#4d9221\"],[1,\"#276419\"]]},\"xaxis\":{\"gridcolor\":\"#283442\",\"linecolor\":\"#506784\",\"ticks\":\"\",\"title\":{\"standoff\":15},\"zerolinecolor\":\"#283442\",\"automargin\":true,\"zerolinewidth\":2},\"yaxis\":{\"gridcolor\":\"#283442\",\"linecolor\":\"#506784\",\"ticks\":\"\",\"title\":{\"standoff\":15},\"zerolinecolor\":\"#283442\",\"automargin\":true,\"zerolinewidth\":2},\"scene\":{\"xaxis\":{\"backgroundcolor\":\"rgb(17,17,17)\",\"gridcolor\":\"#506784\",\"linecolor\":\"#506784\",\"showbackground\":true,\"ticks\":\"\",\"zerolinecolor\":\"#C8D4E3\",\"gridwidth\":2},\"yaxis\":{\"backgroundcolor\":\"rgb(17,17,17)\",\"gridcolor\":\"#506784\",\"linecolor\":\"#506784\",\"showbackground\":true,\"ticks\":\"\",\"zerolinecolor\":\"#C8D4E3\",\"gridwidth\":2},\"zaxis\":{\"backgroundcolor\":\"rgb(17,17,17)\",\"gridcolor\":\"#506784\",\"linecolor\":\"#506784\",\"showbackground\":true,\"ticks\":\"\",\"zerolinecolor\":\"#C8D4E3\",\"gridwidth\":2}},\"shapedefaults\":{\"line\":{\"color\":\"#f2f5fa\"}},\"annotationdefaults\":{\"arrowcolor\":\"#f2f5fa\",\"arrowhead\":0,\"arrowwidth\":1},\"geo\":{\"bgcolor\":\"rgb(17,17,17)\",\"landcolor\":\"rgb(17,17,17)\",\"subunitcolor\":\"#506784\",\"showland\":true,\"showlakes\":true,\"lakecolor\":\"rgb(17,17,17)\"},\"title\":{\"x\":0.05},\"updatemenudefaults\":{\"bgcolor\":\"#506784\",\"borderwidth\":0},\"sliderdefaults\":{\"bgcolor\":\"#C8D4E3\",\"borderwidth\":1,\"bordercolor\":\"rgb(17,17,17)\",\"tickwidth\":0},\"mapbox\":{\"style\":\"dark\"}}},\"xaxis\":{\"anchor\":\"y\",\"domain\":[0.0,1.0],\"title\":{\"text\":\"Horas\"}},\"yaxis\":{\"anchor\":\"x\",\"domain\":[0.0,1.0],\"title\":{\"text\":\"valor\"}},\"legend\":{\"title\":{\"text\":\"regiao\"},\"tracegroupgap\":0},\"margin\":{\"t\":60}},                        {\"responsive\": true}                    ).then(function(){\n                            \nvar gd = document.getElementById('f4ae036f-197b-4ab5-a269-533a76dee795');\nvar x = new MutationObserver(function (mutations, observer) {{\n        var display = window.getComputedStyle(gd).display;\n        if (!display || display === 'none') {{\n            console.log([gd, 'removed!']);\n            Plotly.purge(gd);\n            observer.disconnect();\n        }}\n}});\n\n// Listen for the removal of the full notebook cells\nvar notebookContainer = gd.closest('#notebook-container');\nif (notebookContainer) {{\n    x.observe(notebookContainer, {childList: true});\n}}\n\n// Listen for the clearing of the current output cell\nvar outputEl = gd.closest('.output');\nif (outputEl) {{\n    x.observe(outputEl, {childList: true});\n}}\n\n                        })                };                });            </script>        </div>"
     },
     "metadata": {},
     "output_type": "display_data"
    }
   ],
   "source": [
    "#Gráfico para visualizar horários com mais transito por região\n",
    "fig = px.line(df_horarios, x=\"Horas\", y='valor',color = 'regiao')\n",
    "fig.show()"
   ]
  },
  {
   "cell_type": "code",
   "execution_count": 54,
   "metadata": {
    "ExecuteTime": {
     "start_time": "2023-04-22T14:37:39.150005Z",
     "end_time": "2023-04-22T14:37:40.724313Z"
    }
   },
   "outputs": [
    {
     "name": "stderr",
     "output_type": "stream",
     "text": [
      "C:\\Users\\gugat\\AppData\\Local\\Temp\\ipykernel_34520\\1053971755.py:5: FutureWarning:\n",
      "\n",
      "The default value of numeric_only in DataFrameGroupBy.sum is deprecated. In a future version, numeric_only will default to False. Either specify numeric_only or select only columns which should be valid for the function.\n",
      "\n",
      "C:\\Users\\gugat\\AppData\\Local\\Temp\\ipykernel_34520\\1053971755.py:5: FutureWarning:\n",
      "\n",
      "The default value of numeric_only in DataFrameGroupBy.sum is deprecated. In a future version, numeric_only will default to False. Either specify numeric_only or select only columns which should be valid for the function.\n",
      "\n",
      "C:\\Users\\gugat\\AppData\\Local\\Temp\\ipykernel_34520\\1053971755.py:5: FutureWarning:\n",
      "\n",
      "The default value of numeric_only in DataFrameGroupBy.sum is deprecated. In a future version, numeric_only will default to False. Either specify numeric_only or select only columns which should be valid for the function.\n",
      "\n",
      "C:\\Users\\gugat\\AppData\\Local\\Temp\\ipykernel_34520\\1053971755.py:5: FutureWarning:\n",
      "\n",
      "The default value of numeric_only in DataFrameGroupBy.sum is deprecated. In a future version, numeric_only will default to False. Either specify numeric_only or select only columns which should be valid for the function.\n",
      "\n",
      "C:\\Users\\gugat\\AppData\\Local\\Temp\\ipykernel_34520\\1053971755.py:5: FutureWarning:\n",
      "\n",
      "The default value of numeric_only in DataFrameGroupBy.sum is deprecated. In a future version, numeric_only will default to False. Either specify numeric_only or select only columns which should be valid for the function.\n",
      "\n"
     ]
    },
    {
     "data": {
      "text/plain": "       Horas  % do congestionamento total CENTRO  \\\n0   00:00:00                            0.081217   \n1   00:30:00                            0.061931   \n2   01:00:00                            0.054816   \n3   01:30:00                            0.039976   \n4   02:00:00                            0.035609   \n5   02:30:00                            0.027406   \n6   03:00:00                            0.024293   \n7   03:30:00                            0.022467   \n8   04:00:00                            0.021813   \n9   04:30:00                            0.021083   \n10  05:00:00                            0.019371   \n11  05:30:00                            0.016851   \n12  06:00:00                            0.049345   \n13  06:30:00                            0.402307   \n14  07:00:00                            1.388287   \n15  07:30:00                            1.932242   \n16  08:00:00                            2.601279   \n17  08:30:00                            3.126855   \n18  09:00:00                            3.576625   \n19  09:30:00                            3.645580   \n20  10:00:00                            3.357293   \n21  10:30:00                            3.204450   \n22  11:00:00                            3.119216   \n23  11:30:00                            2.952078   \n24  12:00:00                            2.722457   \n25  12:30:00                            2.579409   \n26  13:00:00                            2.533747   \n27  13:30:00                            2.425021   \n28  14:00:00                            2.465606   \n29  14:30:00                            2.471085   \n30  15:00:00                            2.599910   \n31  15:30:00                            2.821628   \n32  16:00:00                            3.435050   \n33  16:30:00                            4.154547   \n34  17:00:00                            5.295339   \n35  17:30:00                            5.556517   \n36  18:00:00                            5.799433   \n37  18:30:00                            6.036060   \n38  19:00:00                            6.108378   \n39  19:30:00                            5.072462   \n40  20:00:00                            3.302299   \n41  20:30:00                            2.157479   \n42  21:00:00                            1.367886   \n43  21:30:00                            0.656739   \n44  22:00:00                            0.283626   \n45  22:30:00                            0.150563   \n46  23:00:00                            0.120351   \n47  23:30:00                            0.102013   \n\n    % do congestionamento total OESTE  % do congestionamento total LESTE  \\\n0                            0.085963                           0.111413   \n1                            0.071398                           0.086297   \n2                            0.059596                           0.075640   \n3                            0.049434                           0.059499   \n4                            0.038770                           0.053474   \n5                            0.032935                           0.048540   \n6                            0.029591                           0.042819   \n7                            0.026965                           0.038491   \n8                            0.025160                           0.035119   \n9                            0.022822                           0.035187   \n10                           0.019855                           0.036126   \n11                           0.015377                           0.030470   \n12                           0.058848                           0.085503   \n13                           0.555466                           0.792088   \n14                           1.718530                           2.108849   \n15                           2.685990                           2.716693   \n16                           3.764068                           3.185902   \n17                           4.676317                           3.285091   \n18                           5.562802                           3.237480   \n19                           5.673215                           3.013410   \n20                           4.958576                           2.817990   \n21                           4.265816                           2.914662   \n22                           3.689329                           3.250946   \n23                           2.928925                           3.417861   \n24                           2.160874                           3.205352   \n25                           1.810094                           2.902450   \n26                           1.690357                           2.550541   \n27                           1.567036                           2.277063   \n28                           1.560963                           2.252860   \n29                           1.585057                           2.401892   \n30                           1.699504                           2.703417   \n31                           1.788451                           3.082344   \n32                           2.000089                           3.644742   \n33                           2.403732                           4.274668   \n34                           3.313308                           5.172712   \n35                           4.004830                           5.352410   \n36                           5.046680                           5.501012   \n37                           5.779159                           5.656735   \n38                           6.243978                           5.581906   \n39                           5.671526                           4.595611   \n40                           4.171972                           2.884999   \n41                           2.960521                           1.804151   \n42                           1.891416                           1.119116   \n43                           0.875549                           0.640915   \n44                           0.353759                           0.370842   \n45                           0.156558                           0.222442   \n46                           0.134889                           0.179228   \n47                           0.113948                           0.143045   \n\n    % do congestionamento total SUL  % do congestionamento total NORTE  \n0                          0.064374                           0.037014  \n1                          0.057959                           0.028922  \n2                          0.046539                           0.026262  \n3                          0.037489                           0.021473  \n4                          0.031423                           0.017780  \n5                          0.027561                           0.017780  \n6                          0.026458                           0.016173  \n7                          0.022046                           0.016173  \n8                          0.020947                           0.012372  \n9                          0.018903                           0.012116  \n10                         0.015340                           0.010476  \n11                         0.013427                           0.008473  \n12                         0.047008                           0.010656  \n13                         0.457917                           0.461172  \n14                         1.656930                           3.058754  \n15                         2.845314                           5.447044  \n16                         4.230501                           8.006661  \n17                         5.144903                           9.351617  \n18                         5.636779                           9.656317  \n19                         5.478879                           8.028744  \n20                         4.810366                           5.840114  \n21                         4.222752                           4.718197  \n22                         3.635018                           3.813160  \n23                         2.926081                           3.081426  \n24                         2.264902                           2.565310  \n25                         1.898108                           2.172311  \n26                         1.781536                           1.921118  \n27                         1.667974                           1.733500  \n28                         1.684378                           1.600005  \n29                         1.688882                           1.517707  \n30                         1.784492                           1.523457  \n31                         1.885644                           1.461851  \n32                         2.047130                           1.457250  \n33                         2.277607                           1.496413  \n34                         3.088503                           1.813164  \n35                         3.599358                           2.090653  \n36                         4.408632                           2.544465  \n37                         5.442513                           3.168713  \n38                         6.282241                           3.720394  \n39                         6.061073                           3.275288  \n40                         4.474213                           1.972532  \n41                         3.126620                           1.104964  \n42                         1.842997                           0.631186  \n43                         0.698306                           0.262222  \n44                         0.256087                           0.109672  \n45                         0.109393                           0.062370  \n46                         0.081175                           0.051895  \n47                         0.073322                           0.044686  ",
      "text/html": "<div>\n<style scoped>\n    .dataframe tbody tr th:only-of-type {\n        vertical-align: middle;\n    }\n\n    .dataframe tbody tr th {\n        vertical-align: top;\n    }\n\n    .dataframe thead th {\n        text-align: right;\n    }\n</style>\n<table border=\"1\" class=\"dataframe\">\n  <thead>\n    <tr style=\"text-align: right;\">\n      <th></th>\n      <th>Horas</th>\n      <th>% do congestionamento total CENTRO</th>\n      <th>% do congestionamento total OESTE</th>\n      <th>% do congestionamento total LESTE</th>\n      <th>% do congestionamento total SUL</th>\n      <th>% do congestionamento total NORTE</th>\n    </tr>\n  </thead>\n  <tbody>\n    <tr>\n      <th>0</th>\n      <td>00:00:00</td>\n      <td>0.081217</td>\n      <td>0.085963</td>\n      <td>0.111413</td>\n      <td>0.064374</td>\n      <td>0.037014</td>\n    </tr>\n    <tr>\n      <th>1</th>\n      <td>00:30:00</td>\n      <td>0.061931</td>\n      <td>0.071398</td>\n      <td>0.086297</td>\n      <td>0.057959</td>\n      <td>0.028922</td>\n    </tr>\n    <tr>\n      <th>2</th>\n      <td>01:00:00</td>\n      <td>0.054816</td>\n      <td>0.059596</td>\n      <td>0.075640</td>\n      <td>0.046539</td>\n      <td>0.026262</td>\n    </tr>\n    <tr>\n      <th>3</th>\n      <td>01:30:00</td>\n      <td>0.039976</td>\n      <td>0.049434</td>\n      <td>0.059499</td>\n      <td>0.037489</td>\n      <td>0.021473</td>\n    </tr>\n    <tr>\n      <th>4</th>\n      <td>02:00:00</td>\n      <td>0.035609</td>\n      <td>0.038770</td>\n      <td>0.053474</td>\n      <td>0.031423</td>\n      <td>0.017780</td>\n    </tr>\n    <tr>\n      <th>5</th>\n      <td>02:30:00</td>\n      <td>0.027406</td>\n      <td>0.032935</td>\n      <td>0.048540</td>\n      <td>0.027561</td>\n      <td>0.017780</td>\n    </tr>\n    <tr>\n      <th>6</th>\n      <td>03:00:00</td>\n      <td>0.024293</td>\n      <td>0.029591</td>\n      <td>0.042819</td>\n      <td>0.026458</td>\n      <td>0.016173</td>\n    </tr>\n    <tr>\n      <th>7</th>\n      <td>03:30:00</td>\n      <td>0.022467</td>\n      <td>0.026965</td>\n      <td>0.038491</td>\n      <td>0.022046</td>\n      <td>0.016173</td>\n    </tr>\n    <tr>\n      <th>8</th>\n      <td>04:00:00</td>\n      <td>0.021813</td>\n      <td>0.025160</td>\n      <td>0.035119</td>\n      <td>0.020947</td>\n      <td>0.012372</td>\n    </tr>\n    <tr>\n      <th>9</th>\n      <td>04:30:00</td>\n      <td>0.021083</td>\n      <td>0.022822</td>\n      <td>0.035187</td>\n      <td>0.018903</td>\n      <td>0.012116</td>\n    </tr>\n    <tr>\n      <th>10</th>\n      <td>05:00:00</td>\n      <td>0.019371</td>\n      <td>0.019855</td>\n      <td>0.036126</td>\n      <td>0.015340</td>\n      <td>0.010476</td>\n    </tr>\n    <tr>\n      <th>11</th>\n      <td>05:30:00</td>\n      <td>0.016851</td>\n      <td>0.015377</td>\n      <td>0.030470</td>\n      <td>0.013427</td>\n      <td>0.008473</td>\n    </tr>\n    <tr>\n      <th>12</th>\n      <td>06:00:00</td>\n      <td>0.049345</td>\n      <td>0.058848</td>\n      <td>0.085503</td>\n      <td>0.047008</td>\n      <td>0.010656</td>\n    </tr>\n    <tr>\n      <th>13</th>\n      <td>06:30:00</td>\n      <td>0.402307</td>\n      <td>0.555466</td>\n      <td>0.792088</td>\n      <td>0.457917</td>\n      <td>0.461172</td>\n    </tr>\n    <tr>\n      <th>14</th>\n      <td>07:00:00</td>\n      <td>1.388287</td>\n      <td>1.718530</td>\n      <td>2.108849</td>\n      <td>1.656930</td>\n      <td>3.058754</td>\n    </tr>\n    <tr>\n      <th>15</th>\n      <td>07:30:00</td>\n      <td>1.932242</td>\n      <td>2.685990</td>\n      <td>2.716693</td>\n      <td>2.845314</td>\n      <td>5.447044</td>\n    </tr>\n    <tr>\n      <th>16</th>\n      <td>08:00:00</td>\n      <td>2.601279</td>\n      <td>3.764068</td>\n      <td>3.185902</td>\n      <td>4.230501</td>\n      <td>8.006661</td>\n    </tr>\n    <tr>\n      <th>17</th>\n      <td>08:30:00</td>\n      <td>3.126855</td>\n      <td>4.676317</td>\n      <td>3.285091</td>\n      <td>5.144903</td>\n      <td>9.351617</td>\n    </tr>\n    <tr>\n      <th>18</th>\n      <td>09:00:00</td>\n      <td>3.576625</td>\n      <td>5.562802</td>\n      <td>3.237480</td>\n      <td>5.636779</td>\n      <td>9.656317</td>\n    </tr>\n    <tr>\n      <th>19</th>\n      <td>09:30:00</td>\n      <td>3.645580</td>\n      <td>5.673215</td>\n      <td>3.013410</td>\n      <td>5.478879</td>\n      <td>8.028744</td>\n    </tr>\n    <tr>\n      <th>20</th>\n      <td>10:00:00</td>\n      <td>3.357293</td>\n      <td>4.958576</td>\n      <td>2.817990</td>\n      <td>4.810366</td>\n      <td>5.840114</td>\n    </tr>\n    <tr>\n      <th>21</th>\n      <td>10:30:00</td>\n      <td>3.204450</td>\n      <td>4.265816</td>\n      <td>2.914662</td>\n      <td>4.222752</td>\n      <td>4.718197</td>\n    </tr>\n    <tr>\n      <th>22</th>\n      <td>11:00:00</td>\n      <td>3.119216</td>\n      <td>3.689329</td>\n      <td>3.250946</td>\n      <td>3.635018</td>\n      <td>3.813160</td>\n    </tr>\n    <tr>\n      <th>23</th>\n      <td>11:30:00</td>\n      <td>2.952078</td>\n      <td>2.928925</td>\n      <td>3.417861</td>\n      <td>2.926081</td>\n      <td>3.081426</td>\n    </tr>\n    <tr>\n      <th>24</th>\n      <td>12:00:00</td>\n      <td>2.722457</td>\n      <td>2.160874</td>\n      <td>3.205352</td>\n      <td>2.264902</td>\n      <td>2.565310</td>\n    </tr>\n    <tr>\n      <th>25</th>\n      <td>12:30:00</td>\n      <td>2.579409</td>\n      <td>1.810094</td>\n      <td>2.902450</td>\n      <td>1.898108</td>\n      <td>2.172311</td>\n    </tr>\n    <tr>\n      <th>26</th>\n      <td>13:00:00</td>\n      <td>2.533747</td>\n      <td>1.690357</td>\n      <td>2.550541</td>\n      <td>1.781536</td>\n      <td>1.921118</td>\n    </tr>\n    <tr>\n      <th>27</th>\n      <td>13:30:00</td>\n      <td>2.425021</td>\n      <td>1.567036</td>\n      <td>2.277063</td>\n      <td>1.667974</td>\n      <td>1.733500</td>\n    </tr>\n    <tr>\n      <th>28</th>\n      <td>14:00:00</td>\n      <td>2.465606</td>\n      <td>1.560963</td>\n      <td>2.252860</td>\n      <td>1.684378</td>\n      <td>1.600005</td>\n    </tr>\n    <tr>\n      <th>29</th>\n      <td>14:30:00</td>\n      <td>2.471085</td>\n      <td>1.585057</td>\n      <td>2.401892</td>\n      <td>1.688882</td>\n      <td>1.517707</td>\n    </tr>\n    <tr>\n      <th>30</th>\n      <td>15:00:00</td>\n      <td>2.599910</td>\n      <td>1.699504</td>\n      <td>2.703417</td>\n      <td>1.784492</td>\n      <td>1.523457</td>\n    </tr>\n    <tr>\n      <th>31</th>\n      <td>15:30:00</td>\n      <td>2.821628</td>\n      <td>1.788451</td>\n      <td>3.082344</td>\n      <td>1.885644</td>\n      <td>1.461851</td>\n    </tr>\n    <tr>\n      <th>32</th>\n      <td>16:00:00</td>\n      <td>3.435050</td>\n      <td>2.000089</td>\n      <td>3.644742</td>\n      <td>2.047130</td>\n      <td>1.457250</td>\n    </tr>\n    <tr>\n      <th>33</th>\n      <td>16:30:00</td>\n      <td>4.154547</td>\n      <td>2.403732</td>\n      <td>4.274668</td>\n      <td>2.277607</td>\n      <td>1.496413</td>\n    </tr>\n    <tr>\n      <th>34</th>\n      <td>17:00:00</td>\n      <td>5.295339</td>\n      <td>3.313308</td>\n      <td>5.172712</td>\n      <td>3.088503</td>\n      <td>1.813164</td>\n    </tr>\n    <tr>\n      <th>35</th>\n      <td>17:30:00</td>\n      <td>5.556517</td>\n      <td>4.004830</td>\n      <td>5.352410</td>\n      <td>3.599358</td>\n      <td>2.090653</td>\n    </tr>\n    <tr>\n      <th>36</th>\n      <td>18:00:00</td>\n      <td>5.799433</td>\n      <td>5.046680</td>\n      <td>5.501012</td>\n      <td>4.408632</td>\n      <td>2.544465</td>\n    </tr>\n    <tr>\n      <th>37</th>\n      <td>18:30:00</td>\n      <td>6.036060</td>\n      <td>5.779159</td>\n      <td>5.656735</td>\n      <td>5.442513</td>\n      <td>3.168713</td>\n    </tr>\n    <tr>\n      <th>38</th>\n      <td>19:00:00</td>\n      <td>6.108378</td>\n      <td>6.243978</td>\n      <td>5.581906</td>\n      <td>6.282241</td>\n      <td>3.720394</td>\n    </tr>\n    <tr>\n      <th>39</th>\n      <td>19:30:00</td>\n      <td>5.072462</td>\n      <td>5.671526</td>\n      <td>4.595611</td>\n      <td>6.061073</td>\n      <td>3.275288</td>\n    </tr>\n    <tr>\n      <th>40</th>\n      <td>20:00:00</td>\n      <td>3.302299</td>\n      <td>4.171972</td>\n      <td>2.884999</td>\n      <td>4.474213</td>\n      <td>1.972532</td>\n    </tr>\n    <tr>\n      <th>41</th>\n      <td>20:30:00</td>\n      <td>2.157479</td>\n      <td>2.960521</td>\n      <td>1.804151</td>\n      <td>3.126620</td>\n      <td>1.104964</td>\n    </tr>\n    <tr>\n      <th>42</th>\n      <td>21:00:00</td>\n      <td>1.367886</td>\n      <td>1.891416</td>\n      <td>1.119116</td>\n      <td>1.842997</td>\n      <td>0.631186</td>\n    </tr>\n    <tr>\n      <th>43</th>\n      <td>21:30:00</td>\n      <td>0.656739</td>\n      <td>0.875549</td>\n      <td>0.640915</td>\n      <td>0.698306</td>\n      <td>0.262222</td>\n    </tr>\n    <tr>\n      <th>44</th>\n      <td>22:00:00</td>\n      <td>0.283626</td>\n      <td>0.353759</td>\n      <td>0.370842</td>\n      <td>0.256087</td>\n      <td>0.109672</td>\n    </tr>\n    <tr>\n      <th>45</th>\n      <td>22:30:00</td>\n      <td>0.150563</td>\n      <td>0.156558</td>\n      <td>0.222442</td>\n      <td>0.109393</td>\n      <td>0.062370</td>\n    </tr>\n    <tr>\n      <th>46</th>\n      <td>23:00:00</td>\n      <td>0.120351</td>\n      <td>0.134889</td>\n      <td>0.179228</td>\n      <td>0.081175</td>\n      <td>0.051895</td>\n    </tr>\n    <tr>\n      <th>47</th>\n      <td>23:30:00</td>\n      <td>0.102013</td>\n      <td>0.113948</td>\n      <td>0.143045</td>\n      <td>0.073322</td>\n      <td>0.044686</td>\n    </tr>\n  </tbody>\n</table>\n</div>"
     },
     "execution_count": 54,
     "metadata": {},
     "output_type": "execute_result"
    }
   ],
   "source": [
    "#Criando uma tabela da distribuição de transito em porcentagem por zona de SP\n",
    "df_porcentagem_do_total = pd.DataFrame()\n",
    "for região in df_concat['regiao'].unique():\n",
    "    regiões = df_concat[df_concat['regiao']== região]\n",
    "    df_horas = regiões.groupby('Horas').sum().reset_index()\n",
    "    df_horas[f'% do congestionamento total {região}'] = df_horas['valor']/df_horas['valor'].sum() *100\n",
    "    df_porcentagem_do_total[f'% do congestionamento total {região}'] = df_horas[f'% do congestionamento total {região}']\n",
    "     \n",
    "df_porcentagem_do_total['Horas'] = df_horas['Horas']\n",
    "df_porcentagem_do_total = df_porcentagem_do_total[['Horas', '% do congestionamento total CENTRO', '% do congestionamento total OESTE', '% do congestionamento total LESTE','% do congestionamento total SUL','% do congestionamento total NORTE']]\n",
    "df_porcentagem_do_total"
   ]
  },
  {
   "cell_type": "markdown",
   "metadata": {},
   "source": [
    "### Cleaning New Dataframe\n"
   ]
  },
  {
   "cell_type": "code",
   "execution_count": 55,
   "metadata": {
    "ExecuteTime": {
     "start_time": "2023-04-22T14:37:40.723312Z",
     "end_time": "2023-04-22T14:37:40.832272Z"
    }
   },
   "outputs": [],
   "source": [
    "df = delete_columns(df_concat, ['corredor', 'sentido', 'pista', 'trecho'])"
   ]
  },
  {
   "cell_type": "code",
   "execution_count": 56,
   "metadata": {
    "ExecuteTime": {
     "start_time": "2023-04-22T14:37:40.816756Z",
     "end_time": "2023-04-22T14:37:47.001140Z"
    }
   },
   "outputs": [
    {
     "name": "stderr",
     "output_type": "stream",
     "text": [
      "C:\\Users\\gugat\\AppData\\Local\\Temp\\ipykernel_34520\\1530094262.py:2: UserWarning:\n",
      "\n",
      "Parsing dates in DD/MM/YYYY format when dayfirst=False (the default) was specified. This may lead to inconsistently parsed dates! Specify a format to ensure consistent parsing.\n",
      "\n",
      "C:\\Users\\gugat\\AppData\\Local\\Temp\\ipykernel_34520\\1530094262.py:3: FutureWarning:\n",
      "\n",
      "The default value of numeric_only in DataFrameGroupBy.sum is deprecated. In a future version, numeric_only will default to False. Either specify numeric_only or select only columns which should be valid for the function.\n",
      "\n"
     ]
    },
    {
     "data": {
      "text/plain": "         data  regiao   valor\n0  2010-01-02  CENTRO  369829\n1  2010-01-02   LESTE  423644\n2  2010-01-02   NORTE   87830\n3  2010-01-02   OESTE  340640\n4  2010-01-02     SUL  294580",
      "text/html": "<div>\n<style scoped>\n    .dataframe tbody tr th:only-of-type {\n        vertical-align: middle;\n    }\n\n    .dataframe tbody tr th {\n        vertical-align: top;\n    }\n\n    .dataframe thead th {\n        text-align: right;\n    }\n</style>\n<table border=\"1\" class=\"dataframe\">\n  <thead>\n    <tr style=\"text-align: right;\">\n      <th></th>\n      <th>data</th>\n      <th>regiao</th>\n      <th>valor</th>\n    </tr>\n  </thead>\n  <tbody>\n    <tr>\n      <th>0</th>\n      <td>2010-01-02</td>\n      <td>CENTRO</td>\n      <td>369829</td>\n    </tr>\n    <tr>\n      <th>1</th>\n      <td>2010-01-02</td>\n      <td>LESTE</td>\n      <td>423644</td>\n    </tr>\n    <tr>\n      <th>2</th>\n      <td>2010-01-02</td>\n      <td>NORTE</td>\n      <td>87830</td>\n    </tr>\n    <tr>\n      <th>3</th>\n      <td>2010-01-02</td>\n      <td>OESTE</td>\n      <td>340640</td>\n    </tr>\n    <tr>\n      <th>4</th>\n      <td>2010-01-02</td>\n      <td>SUL</td>\n      <td>294580</td>\n    </tr>\n  </tbody>\n</table>\n</div>"
     },
     "execution_count": 56,
     "metadata": {},
     "output_type": "execute_result"
    }
   ],
   "source": [
    "# remove time from date column and sum all values for each day by region\n",
    "df['data'] = pd.to_datetime(df['data']).dt.date\n",
    "df = df.groupby(['data', 'regiao']).sum().reset_index()\n",
    "df.head()"
   ]
  },
  {
   "cell_type": "code",
   "execution_count": 57,
   "metadata": {
    "ExecuteTime": {
     "start_time": "2023-04-22T14:37:47.003139Z",
     "end_time": "2023-04-22T14:37:47.007851Z"
    }
   },
   "outputs": [
    {
     "data": {
      "text/plain": "         data  regiao    valor\n0  2010-01-02  CENTRO  369.829\n1  2010-01-02   LESTE  423.644\n2  2010-01-02   NORTE   87.830\n3  2010-01-02   OESTE  340.640\n4  2010-01-02     SUL  294.580",
      "text/html": "<div>\n<style scoped>\n    .dataframe tbody tr th:only-of-type {\n        vertical-align: middle;\n    }\n\n    .dataframe tbody tr th {\n        vertical-align: top;\n    }\n\n    .dataframe thead th {\n        text-align: right;\n    }\n</style>\n<table border=\"1\" class=\"dataframe\">\n  <thead>\n    <tr style=\"text-align: right;\">\n      <th></th>\n      <th>data</th>\n      <th>regiao</th>\n      <th>valor</th>\n    </tr>\n  </thead>\n  <tbody>\n    <tr>\n      <th>0</th>\n      <td>2010-01-02</td>\n      <td>CENTRO</td>\n      <td>369.829</td>\n    </tr>\n    <tr>\n      <th>1</th>\n      <td>2010-01-02</td>\n      <td>LESTE</td>\n      <td>423.644</td>\n    </tr>\n    <tr>\n      <th>2</th>\n      <td>2010-01-02</td>\n      <td>NORTE</td>\n      <td>87.830</td>\n    </tr>\n    <tr>\n      <th>3</th>\n      <td>2010-01-02</td>\n      <td>OESTE</td>\n      <td>340.640</td>\n    </tr>\n    <tr>\n      <th>4</th>\n      <td>2010-01-02</td>\n      <td>SUL</td>\n      <td>294.580</td>\n    </tr>\n  </tbody>\n</table>\n</div>"
     },
     "execution_count": 57,
     "metadata": {},
     "output_type": "execute_result"
    }
   ],
   "source": [
    "#turn valor column into km\n",
    "df['valor'] = df['valor']/1000\n",
    "df.head()"
   ]
  },
  {
   "cell_type": "markdown",
   "metadata": {},
   "source": [
    "### Splitting weather data from 2010 onward and joining with traffic data"
   ]
  },
  {
   "cell_type": "code",
   "execution_count": 58,
   "metadata": {
    "ExecuteTime": {
     "start_time": "2023-04-22T14:37:47.006848Z",
     "end_time": "2023-04-22T14:37:47.093304Z"
    }
   },
   "outputs": [
    {
     "data": {
      "text/plain": "           dt   sunrise    sunset  temp ºC  feels_like ºC  pressure  \\\n0  2001-12-31  05:22:45  18:56:22    21.84          22.09      1010   \n1  2002-01-01  05:23:23  18:56:40    20.75          20.94      1010   \n2  2002-01-02  05:24:02  18:56:56    21.54          21.34      1011   \n3  2002-01-03  05:24:41  18:57:11    21.30          21.44      1013   \n4  2002-01-04  05:25:21  18:57:24    20.59          20.69      1015   \n\n   humidity %  atmospheric temperature  clouds %  visibility  wind_speed m/s  \\\n0          77                    17.63        40     10000.0             0.0   \n1          79                    16.98        40     10000.0             2.1   \n2          61                    13.71        20     10000.0             0.0   \n3          75                    16.69        75      9000.0             2.6   \n4          76                    16.21        20      7000.0             5.1   \n\n   wind_deg                                            weather  \\\n0         0  {'id': 802, 'main': 'Clouds', 'description': '...   \n1       290  {'id': 802, 'main': 'Clouds', 'description': '...   \n2         0  {'id': 801, 'main': 'Clouds', 'description': '...   \n3       130  {'id': 721, 'main': 'Haze', 'description': 'ha...   \n4       150  {'id': 721, 'main': 'Haze', 'description': 'ha...   \n\n  rain_precipitation  wind_gust  uvi  weather_id  \n0                NaN        NaN  NaN         802  \n1                NaN        NaN  NaN         802  \n2                NaN        NaN  NaN         801  \n3                NaN        NaN  NaN         721  \n4                NaN        NaN  NaN         721  ",
      "text/html": "<div>\n<style scoped>\n    .dataframe tbody tr th:only-of-type {\n        vertical-align: middle;\n    }\n\n    .dataframe tbody tr th {\n        vertical-align: top;\n    }\n\n    .dataframe thead th {\n        text-align: right;\n    }\n</style>\n<table border=\"1\" class=\"dataframe\">\n  <thead>\n    <tr style=\"text-align: right;\">\n      <th></th>\n      <th>dt</th>\n      <th>sunrise</th>\n      <th>sunset</th>\n      <th>temp ºC</th>\n      <th>feels_like ºC</th>\n      <th>pressure</th>\n      <th>humidity %</th>\n      <th>atmospheric temperature</th>\n      <th>clouds %</th>\n      <th>visibility</th>\n      <th>wind_speed m/s</th>\n      <th>wind_deg</th>\n      <th>weather</th>\n      <th>rain_precipitation</th>\n      <th>wind_gust</th>\n      <th>uvi</th>\n      <th>weather_id</th>\n    </tr>\n  </thead>\n  <tbody>\n    <tr>\n      <th>0</th>\n      <td>2001-12-31</td>\n      <td>05:22:45</td>\n      <td>18:56:22</td>\n      <td>21.84</td>\n      <td>22.09</td>\n      <td>1010</td>\n      <td>77</td>\n      <td>17.63</td>\n      <td>40</td>\n      <td>10000.0</td>\n      <td>0.0</td>\n      <td>0</td>\n      <td>{'id': 802, 'main': 'Clouds', 'description': '...</td>\n      <td>NaN</td>\n      <td>NaN</td>\n      <td>NaN</td>\n      <td>802</td>\n    </tr>\n    <tr>\n      <th>1</th>\n      <td>2002-01-01</td>\n      <td>05:23:23</td>\n      <td>18:56:40</td>\n      <td>20.75</td>\n      <td>20.94</td>\n      <td>1010</td>\n      <td>79</td>\n      <td>16.98</td>\n      <td>40</td>\n      <td>10000.0</td>\n      <td>2.1</td>\n      <td>290</td>\n      <td>{'id': 802, 'main': 'Clouds', 'description': '...</td>\n      <td>NaN</td>\n      <td>NaN</td>\n      <td>NaN</td>\n      <td>802</td>\n    </tr>\n    <tr>\n      <th>2</th>\n      <td>2002-01-02</td>\n      <td>05:24:02</td>\n      <td>18:56:56</td>\n      <td>21.54</td>\n      <td>21.34</td>\n      <td>1011</td>\n      <td>61</td>\n      <td>13.71</td>\n      <td>20</td>\n      <td>10000.0</td>\n      <td>0.0</td>\n      <td>0</td>\n      <td>{'id': 801, 'main': 'Clouds', 'description': '...</td>\n      <td>NaN</td>\n      <td>NaN</td>\n      <td>NaN</td>\n      <td>801</td>\n    </tr>\n    <tr>\n      <th>3</th>\n      <td>2002-01-03</td>\n      <td>05:24:41</td>\n      <td>18:57:11</td>\n      <td>21.30</td>\n      <td>21.44</td>\n      <td>1013</td>\n      <td>75</td>\n      <td>16.69</td>\n      <td>75</td>\n      <td>9000.0</td>\n      <td>2.6</td>\n      <td>130</td>\n      <td>{'id': 721, 'main': 'Haze', 'description': 'ha...</td>\n      <td>NaN</td>\n      <td>NaN</td>\n      <td>NaN</td>\n      <td>721</td>\n    </tr>\n    <tr>\n      <th>4</th>\n      <td>2002-01-04</td>\n      <td>05:25:21</td>\n      <td>18:57:24</td>\n      <td>20.59</td>\n      <td>20.69</td>\n      <td>1015</td>\n      <td>76</td>\n      <td>16.21</td>\n      <td>20</td>\n      <td>7000.0</td>\n      <td>5.1</td>\n      <td>150</td>\n      <td>{'id': 721, 'main': 'Haze', 'description': 'ha...</td>\n      <td>NaN</td>\n      <td>NaN</td>\n      <td>NaN</td>\n      <td>721</td>\n    </tr>\n  </tbody>\n</table>\n</div>"
     },
     "execution_count": 58,
     "metadata": {},
     "output_type": "execute_result"
    }
   ],
   "source": [
    "df_weather = pd.read_csv('../data/openweather_data.csv')\n",
    "df_weather.head()\n"
   ]
  },
  {
   "cell_type": "code",
   "execution_count": 59,
   "metadata": {
    "ExecuteTime": {
     "start_time": "2023-04-22T14:37:47.036731Z",
     "end_time": "2023-04-22T14:37:47.131383Z"
    }
   },
   "outputs": [
    {
     "data": {
      "text/plain": "              dt   sunrise    sunset  temp ºC  feels_like ºC  pressure  \\\n2923  2010-01-01  05:23:21  18:56:39    19.90          20.37      1015   \n2924  2010-01-02  05:24:00  18:56:55    21.78          22.39      1017   \n2925  2010-01-03  05:24:39  18:57:10    23.20          23.77      1018   \n2926  2010-01-04  05:25:19  18:57:23    22.33          22.81      1017   \n2927  2010-01-05  05:25:59  18:57:36    21.34          21.93      1015   \n\n      humidity %  atmospheric temperature  clouds %  visibility  \\\n2923          93                    18.73       100     10000.0   \n2924          91                    20.25        75      8000.0   \n2925          84                    20.35        75     10000.0   \n2926          84                    19.50        75     10000.0   \n2927          92                    19.99       100      2000.0   \n\n      wind_speed m/s  wind_deg  \\\n2923             1.0       310   \n2924             1.0       100   \n2925             4.1       150   \n2926             1.0        40   \n2927             1.5       360   \n\n                                                weather rain_precipitation  \\\n2923  {'id': 500, 'main': 'Rain', 'description': 'li...                NaN   \n2924  {'id': 500, 'main': 'Rain', 'description': 'li...                NaN   \n2925  {'id': 701, 'main': 'Mist', 'description': 'mi...                NaN   \n2926  {'id': 803, 'main': 'Clouds', 'description': '...                NaN   \n2927  {'id': 521, 'main': 'Rain', 'description': 'sh...                NaN   \n\n      wind_gust  uvi  weather_id  \n2923        NaN  NaN         500  \n2924        NaN  NaN         500  \n2925        NaN  NaN         701  \n2926        NaN  NaN         803  \n2927        NaN  NaN         521  ",
      "text/html": "<div>\n<style scoped>\n    .dataframe tbody tr th:only-of-type {\n        vertical-align: middle;\n    }\n\n    .dataframe tbody tr th {\n        vertical-align: top;\n    }\n\n    .dataframe thead th {\n        text-align: right;\n    }\n</style>\n<table border=\"1\" class=\"dataframe\">\n  <thead>\n    <tr style=\"text-align: right;\">\n      <th></th>\n      <th>dt</th>\n      <th>sunrise</th>\n      <th>sunset</th>\n      <th>temp ºC</th>\n      <th>feels_like ºC</th>\n      <th>pressure</th>\n      <th>humidity %</th>\n      <th>atmospheric temperature</th>\n      <th>clouds %</th>\n      <th>visibility</th>\n      <th>wind_speed m/s</th>\n      <th>wind_deg</th>\n      <th>weather</th>\n      <th>rain_precipitation</th>\n      <th>wind_gust</th>\n      <th>uvi</th>\n      <th>weather_id</th>\n    </tr>\n  </thead>\n  <tbody>\n    <tr>\n      <th>2923</th>\n      <td>2010-01-01</td>\n      <td>05:23:21</td>\n      <td>18:56:39</td>\n      <td>19.90</td>\n      <td>20.37</td>\n      <td>1015</td>\n      <td>93</td>\n      <td>18.73</td>\n      <td>100</td>\n      <td>10000.0</td>\n      <td>1.0</td>\n      <td>310</td>\n      <td>{'id': 500, 'main': 'Rain', 'description': 'li...</td>\n      <td>NaN</td>\n      <td>NaN</td>\n      <td>NaN</td>\n      <td>500</td>\n    </tr>\n    <tr>\n      <th>2924</th>\n      <td>2010-01-02</td>\n      <td>05:24:00</td>\n      <td>18:56:55</td>\n      <td>21.78</td>\n      <td>22.39</td>\n      <td>1017</td>\n      <td>91</td>\n      <td>20.25</td>\n      <td>75</td>\n      <td>8000.0</td>\n      <td>1.0</td>\n      <td>100</td>\n      <td>{'id': 500, 'main': 'Rain', 'description': 'li...</td>\n      <td>NaN</td>\n      <td>NaN</td>\n      <td>NaN</td>\n      <td>500</td>\n    </tr>\n    <tr>\n      <th>2925</th>\n      <td>2010-01-03</td>\n      <td>05:24:39</td>\n      <td>18:57:10</td>\n      <td>23.20</td>\n      <td>23.77</td>\n      <td>1018</td>\n      <td>84</td>\n      <td>20.35</td>\n      <td>75</td>\n      <td>10000.0</td>\n      <td>4.1</td>\n      <td>150</td>\n      <td>{'id': 701, 'main': 'Mist', 'description': 'mi...</td>\n      <td>NaN</td>\n      <td>NaN</td>\n      <td>NaN</td>\n      <td>701</td>\n    </tr>\n    <tr>\n      <th>2926</th>\n      <td>2010-01-04</td>\n      <td>05:25:19</td>\n      <td>18:57:23</td>\n      <td>22.33</td>\n      <td>22.81</td>\n      <td>1017</td>\n      <td>84</td>\n      <td>19.50</td>\n      <td>75</td>\n      <td>10000.0</td>\n      <td>1.0</td>\n      <td>40</td>\n      <td>{'id': 803, 'main': 'Clouds', 'description': '...</td>\n      <td>NaN</td>\n      <td>NaN</td>\n      <td>NaN</td>\n      <td>803</td>\n    </tr>\n    <tr>\n      <th>2927</th>\n      <td>2010-01-05</td>\n      <td>05:25:59</td>\n      <td>18:57:36</td>\n      <td>21.34</td>\n      <td>21.93</td>\n      <td>1015</td>\n      <td>92</td>\n      <td>19.99</td>\n      <td>100</td>\n      <td>2000.0</td>\n      <td>1.5</td>\n      <td>360</td>\n      <td>{'id': 521, 'main': 'Rain', 'description': 'sh...</td>\n      <td>NaN</td>\n      <td>NaN</td>\n      <td>NaN</td>\n      <td>521</td>\n    </tr>\n  </tbody>\n</table>\n</div>"
     },
     "execution_count": 59,
     "metadata": {},
     "output_type": "execute_result"
    }
   ],
   "source": [
    "# filter date to start in 2010\n",
    "df_weather = df_weather[df_weather['dt'] >= '2010-01-01']\n",
    "df_weather.head()"
   ]
  },
  {
   "cell_type": "code",
   "execution_count": 60,
   "metadata": {
    "ExecuteTime": {
     "start_time": "2023-04-22T14:37:47.047676Z",
     "end_time": "2023-04-22T14:37:47.151281Z"
    }
   },
   "outputs": [
    {
     "data": {
      "text/plain": "           dt   sunrise    sunset  temp ºC  feels_like ºC  pressure  \\\n0  2010-01-01  05:23:21  18:56:39    19.90          20.37      1015   \n1  2010-01-02  05:24:00  18:56:55    21.78          22.39      1017   \n2  2010-01-03  05:24:39  18:57:10    23.20          23.77      1018   \n3  2010-01-04  05:25:19  18:57:23    22.33          22.81      1017   \n4  2010-01-05  05:25:59  18:57:36    21.34          21.93      1015   \n\n   humidity %  atmospheric temperature  clouds %  visibility  wind_speed m/s  \\\n0          93                    18.73       100     10000.0             1.0   \n1          91                    20.25        75      8000.0             1.0   \n2          84                    20.35        75     10000.0             4.1   \n3          84                    19.50        75     10000.0             1.0   \n4          92                    19.99       100      2000.0             1.5   \n\n   wind_deg                                            weather  \\\n0       310  {'id': 500, 'main': 'Rain', 'description': 'li...   \n1       100  {'id': 500, 'main': 'Rain', 'description': 'li...   \n2       150  {'id': 701, 'main': 'Mist', 'description': 'mi...   \n3        40  {'id': 803, 'main': 'Clouds', 'description': '...   \n4       360  {'id': 521, 'main': 'Rain', 'description': 'sh...   \n\n  rain_precipitation  wind_gust  uvi  weather_id  \n0                NaN        NaN  NaN         500  \n1                NaN        NaN  NaN         500  \n2                NaN        NaN  NaN         701  \n3                NaN        NaN  NaN         803  \n4                NaN        NaN  NaN         521  ",
      "text/html": "<div>\n<style scoped>\n    .dataframe tbody tr th:only-of-type {\n        vertical-align: middle;\n    }\n\n    .dataframe tbody tr th {\n        vertical-align: top;\n    }\n\n    .dataframe thead th {\n        text-align: right;\n    }\n</style>\n<table border=\"1\" class=\"dataframe\">\n  <thead>\n    <tr style=\"text-align: right;\">\n      <th></th>\n      <th>dt</th>\n      <th>sunrise</th>\n      <th>sunset</th>\n      <th>temp ºC</th>\n      <th>feels_like ºC</th>\n      <th>pressure</th>\n      <th>humidity %</th>\n      <th>atmospheric temperature</th>\n      <th>clouds %</th>\n      <th>visibility</th>\n      <th>wind_speed m/s</th>\n      <th>wind_deg</th>\n      <th>weather</th>\n      <th>rain_precipitation</th>\n      <th>wind_gust</th>\n      <th>uvi</th>\n      <th>weather_id</th>\n    </tr>\n  </thead>\n  <tbody>\n    <tr>\n      <th>0</th>\n      <td>2010-01-01</td>\n      <td>05:23:21</td>\n      <td>18:56:39</td>\n      <td>19.90</td>\n      <td>20.37</td>\n      <td>1015</td>\n      <td>93</td>\n      <td>18.73</td>\n      <td>100</td>\n      <td>10000.0</td>\n      <td>1.0</td>\n      <td>310</td>\n      <td>{'id': 500, 'main': 'Rain', 'description': 'li...</td>\n      <td>NaN</td>\n      <td>NaN</td>\n      <td>NaN</td>\n      <td>500</td>\n    </tr>\n    <tr>\n      <th>1</th>\n      <td>2010-01-02</td>\n      <td>05:24:00</td>\n      <td>18:56:55</td>\n      <td>21.78</td>\n      <td>22.39</td>\n      <td>1017</td>\n      <td>91</td>\n      <td>20.25</td>\n      <td>75</td>\n      <td>8000.0</td>\n      <td>1.0</td>\n      <td>100</td>\n      <td>{'id': 500, 'main': 'Rain', 'description': 'li...</td>\n      <td>NaN</td>\n      <td>NaN</td>\n      <td>NaN</td>\n      <td>500</td>\n    </tr>\n    <tr>\n      <th>2</th>\n      <td>2010-01-03</td>\n      <td>05:24:39</td>\n      <td>18:57:10</td>\n      <td>23.20</td>\n      <td>23.77</td>\n      <td>1018</td>\n      <td>84</td>\n      <td>20.35</td>\n      <td>75</td>\n      <td>10000.0</td>\n      <td>4.1</td>\n      <td>150</td>\n      <td>{'id': 701, 'main': 'Mist', 'description': 'mi...</td>\n      <td>NaN</td>\n      <td>NaN</td>\n      <td>NaN</td>\n      <td>701</td>\n    </tr>\n    <tr>\n      <th>3</th>\n      <td>2010-01-04</td>\n      <td>05:25:19</td>\n      <td>18:57:23</td>\n      <td>22.33</td>\n      <td>22.81</td>\n      <td>1017</td>\n      <td>84</td>\n      <td>19.50</td>\n      <td>75</td>\n      <td>10000.0</td>\n      <td>1.0</td>\n      <td>40</td>\n      <td>{'id': 803, 'main': 'Clouds', 'description': '...</td>\n      <td>NaN</td>\n      <td>NaN</td>\n      <td>NaN</td>\n      <td>803</td>\n    </tr>\n    <tr>\n      <th>4</th>\n      <td>2010-01-05</td>\n      <td>05:25:59</td>\n      <td>18:57:36</td>\n      <td>21.34</td>\n      <td>21.93</td>\n      <td>1015</td>\n      <td>92</td>\n      <td>19.99</td>\n      <td>100</td>\n      <td>2000.0</td>\n      <td>1.5</td>\n      <td>360</td>\n      <td>{'id': 521, 'main': 'Rain', 'description': 'sh...</td>\n      <td>NaN</td>\n      <td>NaN</td>\n      <td>NaN</td>\n      <td>521</td>\n    </tr>\n  </tbody>\n</table>\n</div>"
     },
     "execution_count": 60,
     "metadata": {},
     "output_type": "execute_result"
    }
   ],
   "source": [
    "df_weather.reset_index(drop=True, inplace=True)\n",
    "df_weather.head()"
   ]
  },
  {
   "cell_type": "code",
   "execution_count": 61,
   "metadata": {
    "ExecuteTime": {
     "start_time": "2023-04-22T14:37:47.056334Z",
     "end_time": "2023-04-22T14:37:47.154909Z"
    }
   },
   "outputs": [
    {
     "data": {
      "text/plain": "          dt   sunrise    sunset  temp ºC  feels_like ºC  pressure  \\\n0 2010-01-01  05:23:21  18:56:39    19.90          20.37      1015   \n1 2010-01-02  05:24:00  18:56:55    21.78          22.39      1017   \n2 2010-01-03  05:24:39  18:57:10    23.20          23.77      1018   \n3 2010-01-04  05:25:19  18:57:23    22.33          22.81      1017   \n4 2010-01-05  05:25:59  18:57:36    21.34          21.93      1015   \n\n   humidity %  atmospheric temperature  clouds %  visibility  wind_speed m/s  \\\n0          93                    18.73       100     10000.0             1.0   \n1          91                    20.25        75      8000.0             1.0   \n2          84                    20.35        75     10000.0             4.1   \n3          84                    19.50        75     10000.0             1.0   \n4          92                    19.99       100      2000.0             1.5   \n\n   wind_deg                                            weather  \\\n0       310  {'id': 500, 'main': 'Rain', 'description': 'li...   \n1       100  {'id': 500, 'main': 'Rain', 'description': 'li...   \n2       150  {'id': 701, 'main': 'Mist', 'description': 'mi...   \n3        40  {'id': 803, 'main': 'Clouds', 'description': '...   \n4       360  {'id': 521, 'main': 'Rain', 'description': 'sh...   \n\n  rain_precipitation  wind_gust  uvi  weather_id  \n0                NaN        NaN  NaN         500  \n1                NaN        NaN  NaN         500  \n2                NaN        NaN  NaN         701  \n3                NaN        NaN  NaN         803  \n4                NaN        NaN  NaN         521  ",
      "text/html": "<div>\n<style scoped>\n    .dataframe tbody tr th:only-of-type {\n        vertical-align: middle;\n    }\n\n    .dataframe tbody tr th {\n        vertical-align: top;\n    }\n\n    .dataframe thead th {\n        text-align: right;\n    }\n</style>\n<table border=\"1\" class=\"dataframe\">\n  <thead>\n    <tr style=\"text-align: right;\">\n      <th></th>\n      <th>dt</th>\n      <th>sunrise</th>\n      <th>sunset</th>\n      <th>temp ºC</th>\n      <th>feels_like ºC</th>\n      <th>pressure</th>\n      <th>humidity %</th>\n      <th>atmospheric temperature</th>\n      <th>clouds %</th>\n      <th>visibility</th>\n      <th>wind_speed m/s</th>\n      <th>wind_deg</th>\n      <th>weather</th>\n      <th>rain_precipitation</th>\n      <th>wind_gust</th>\n      <th>uvi</th>\n      <th>weather_id</th>\n    </tr>\n  </thead>\n  <tbody>\n    <tr>\n      <th>0</th>\n      <td>2010-01-01</td>\n      <td>05:23:21</td>\n      <td>18:56:39</td>\n      <td>19.90</td>\n      <td>20.37</td>\n      <td>1015</td>\n      <td>93</td>\n      <td>18.73</td>\n      <td>100</td>\n      <td>10000.0</td>\n      <td>1.0</td>\n      <td>310</td>\n      <td>{'id': 500, 'main': 'Rain', 'description': 'li...</td>\n      <td>NaN</td>\n      <td>NaN</td>\n      <td>NaN</td>\n      <td>500</td>\n    </tr>\n    <tr>\n      <th>1</th>\n      <td>2010-01-02</td>\n      <td>05:24:00</td>\n      <td>18:56:55</td>\n      <td>21.78</td>\n      <td>22.39</td>\n      <td>1017</td>\n      <td>91</td>\n      <td>20.25</td>\n      <td>75</td>\n      <td>8000.0</td>\n      <td>1.0</td>\n      <td>100</td>\n      <td>{'id': 500, 'main': 'Rain', 'description': 'li...</td>\n      <td>NaN</td>\n      <td>NaN</td>\n      <td>NaN</td>\n      <td>500</td>\n    </tr>\n    <tr>\n      <th>2</th>\n      <td>2010-01-03</td>\n      <td>05:24:39</td>\n      <td>18:57:10</td>\n      <td>23.20</td>\n      <td>23.77</td>\n      <td>1018</td>\n      <td>84</td>\n      <td>20.35</td>\n      <td>75</td>\n      <td>10000.0</td>\n      <td>4.1</td>\n      <td>150</td>\n      <td>{'id': 701, 'main': 'Mist', 'description': 'mi...</td>\n      <td>NaN</td>\n      <td>NaN</td>\n      <td>NaN</td>\n      <td>701</td>\n    </tr>\n    <tr>\n      <th>3</th>\n      <td>2010-01-04</td>\n      <td>05:25:19</td>\n      <td>18:57:23</td>\n      <td>22.33</td>\n      <td>22.81</td>\n      <td>1017</td>\n      <td>84</td>\n      <td>19.50</td>\n      <td>75</td>\n      <td>10000.0</td>\n      <td>1.0</td>\n      <td>40</td>\n      <td>{'id': 803, 'main': 'Clouds', 'description': '...</td>\n      <td>NaN</td>\n      <td>NaN</td>\n      <td>NaN</td>\n      <td>803</td>\n    </tr>\n    <tr>\n      <th>4</th>\n      <td>2010-01-05</td>\n      <td>05:25:59</td>\n      <td>18:57:36</td>\n      <td>21.34</td>\n      <td>21.93</td>\n      <td>1015</td>\n      <td>92</td>\n      <td>19.99</td>\n      <td>100</td>\n      <td>2000.0</td>\n      <td>1.5</td>\n      <td>360</td>\n      <td>{'id': 521, 'main': 'Rain', 'description': 'sh...</td>\n      <td>NaN</td>\n      <td>NaN</td>\n      <td>NaN</td>\n      <td>521</td>\n    </tr>\n  </tbody>\n</table>\n</div>"
     },
     "execution_count": 61,
     "metadata": {},
     "output_type": "execute_result"
    }
   ],
   "source": [
    "#turn date column to datetime\n",
    "df_weather['dt'] = pd.to_datetime(df_weather['dt'])\n",
    "df_weather.head()"
   ]
  },
  {
   "cell_type": "code",
   "execution_count": 62,
   "metadata": {
    "ExecuteTime": {
     "start_time": "2023-04-22T14:37:47.071676Z",
     "end_time": "2023-04-22T14:37:47.182946Z"
    }
   },
   "outputs": [
    {
     "data": {
      "text/plain": "        data   sunrise    sunset  temp ºC  feels_like ºC  pressure  \\\n0 2010-01-01  05:23:21  18:56:39    19.90          20.37      1015   \n1 2010-01-02  05:24:00  18:56:55    21.78          22.39      1017   \n2 2010-01-03  05:24:39  18:57:10    23.20          23.77      1018   \n3 2010-01-04  05:25:19  18:57:23    22.33          22.81      1017   \n4 2010-01-05  05:25:59  18:57:36    21.34          21.93      1015   \n\n   humidity %  atmospheric temperature  clouds %  visibility  wind_speed m/s  \\\n0          93                    18.73       100     10000.0             1.0   \n1          91                    20.25        75      8000.0             1.0   \n2          84                    20.35        75     10000.0             4.1   \n3          84                    19.50        75     10000.0             1.0   \n4          92                    19.99       100      2000.0             1.5   \n\n   wind_deg                                            weather  \\\n0       310  {'id': 500, 'main': 'Rain', 'description': 'li...   \n1       100  {'id': 500, 'main': 'Rain', 'description': 'li...   \n2       150  {'id': 701, 'main': 'Mist', 'description': 'mi...   \n3        40  {'id': 803, 'main': 'Clouds', 'description': '...   \n4       360  {'id': 521, 'main': 'Rain', 'description': 'sh...   \n\n  rain_precipitation  wind_gust  uvi  weather_id  \n0                NaN        NaN  NaN         500  \n1                NaN        NaN  NaN         500  \n2                NaN        NaN  NaN         701  \n3                NaN        NaN  NaN         803  \n4                NaN        NaN  NaN         521  ",
      "text/html": "<div>\n<style scoped>\n    .dataframe tbody tr th:only-of-type {\n        vertical-align: middle;\n    }\n\n    .dataframe tbody tr th {\n        vertical-align: top;\n    }\n\n    .dataframe thead th {\n        text-align: right;\n    }\n</style>\n<table border=\"1\" class=\"dataframe\">\n  <thead>\n    <tr style=\"text-align: right;\">\n      <th></th>\n      <th>data</th>\n      <th>sunrise</th>\n      <th>sunset</th>\n      <th>temp ºC</th>\n      <th>feels_like ºC</th>\n      <th>pressure</th>\n      <th>humidity %</th>\n      <th>atmospheric temperature</th>\n      <th>clouds %</th>\n      <th>visibility</th>\n      <th>wind_speed m/s</th>\n      <th>wind_deg</th>\n      <th>weather</th>\n      <th>rain_precipitation</th>\n      <th>wind_gust</th>\n      <th>uvi</th>\n      <th>weather_id</th>\n    </tr>\n  </thead>\n  <tbody>\n    <tr>\n      <th>0</th>\n      <td>2010-01-01</td>\n      <td>05:23:21</td>\n      <td>18:56:39</td>\n      <td>19.90</td>\n      <td>20.37</td>\n      <td>1015</td>\n      <td>93</td>\n      <td>18.73</td>\n      <td>100</td>\n      <td>10000.0</td>\n      <td>1.0</td>\n      <td>310</td>\n      <td>{'id': 500, 'main': 'Rain', 'description': 'li...</td>\n      <td>NaN</td>\n      <td>NaN</td>\n      <td>NaN</td>\n      <td>500</td>\n    </tr>\n    <tr>\n      <th>1</th>\n      <td>2010-01-02</td>\n      <td>05:24:00</td>\n      <td>18:56:55</td>\n      <td>21.78</td>\n      <td>22.39</td>\n      <td>1017</td>\n      <td>91</td>\n      <td>20.25</td>\n      <td>75</td>\n      <td>8000.0</td>\n      <td>1.0</td>\n      <td>100</td>\n      <td>{'id': 500, 'main': 'Rain', 'description': 'li...</td>\n      <td>NaN</td>\n      <td>NaN</td>\n      <td>NaN</td>\n      <td>500</td>\n    </tr>\n    <tr>\n      <th>2</th>\n      <td>2010-01-03</td>\n      <td>05:24:39</td>\n      <td>18:57:10</td>\n      <td>23.20</td>\n      <td>23.77</td>\n      <td>1018</td>\n      <td>84</td>\n      <td>20.35</td>\n      <td>75</td>\n      <td>10000.0</td>\n      <td>4.1</td>\n      <td>150</td>\n      <td>{'id': 701, 'main': 'Mist', 'description': 'mi...</td>\n      <td>NaN</td>\n      <td>NaN</td>\n      <td>NaN</td>\n      <td>701</td>\n    </tr>\n    <tr>\n      <th>3</th>\n      <td>2010-01-04</td>\n      <td>05:25:19</td>\n      <td>18:57:23</td>\n      <td>22.33</td>\n      <td>22.81</td>\n      <td>1017</td>\n      <td>84</td>\n      <td>19.50</td>\n      <td>75</td>\n      <td>10000.0</td>\n      <td>1.0</td>\n      <td>40</td>\n      <td>{'id': 803, 'main': 'Clouds', 'description': '...</td>\n      <td>NaN</td>\n      <td>NaN</td>\n      <td>NaN</td>\n      <td>803</td>\n    </tr>\n    <tr>\n      <th>4</th>\n      <td>2010-01-05</td>\n      <td>05:25:59</td>\n      <td>18:57:36</td>\n      <td>21.34</td>\n      <td>21.93</td>\n      <td>1015</td>\n      <td>92</td>\n      <td>19.99</td>\n      <td>100</td>\n      <td>2000.0</td>\n      <td>1.5</td>\n      <td>360</td>\n      <td>{'id': 521, 'main': 'Rain', 'description': 'sh...</td>\n      <td>NaN</td>\n      <td>NaN</td>\n      <td>NaN</td>\n      <td>521</td>\n    </tr>\n  </tbody>\n</table>\n</div>"
     },
     "execution_count": 62,
     "metadata": {},
     "output_type": "execute_result"
    }
   ],
   "source": [
    "#rename dt column to date\n",
    "df_weather = df_weather.rename(columns={'dt': 'data'})\n",
    "df_weather.head()"
   ]
  },
  {
   "cell_type": "code",
   "execution_count": 63,
   "metadata": {
    "ExecuteTime": {
     "start_time": "2023-04-22T14:37:47.079660Z",
     "end_time": "2023-04-22T14:37:47.183943Z"
    }
   },
   "outputs": [
    {
     "data": {
      "text/plain": "data                       datetime64[ns]\nsunrise                            object\nsunset                             object\ntemp ºC                           float64\nfeels_like ºC                     float64\npressure                            int64\nhumidity %                          int64\natmospheric temperature           float64\nclouds %                            int64\nvisibility                        float64\nwind_speed m/s                    float64\nwind_deg                            int64\nweather                            object\nrain_precipitation                 object\nwind_gust                         float64\nuvi                               float64\nweather_id                          int64\ndtype: object"
     },
     "execution_count": 63,
     "metadata": {},
     "output_type": "execute_result"
    }
   ],
   "source": [
    "#check date column datatype to see if it is datetime\n",
    "df_weather.dtypes"
   ]
  },
  {
   "cell_type": "code",
   "execution_count": 64,
   "metadata": {
    "ExecuteTime": {
     "start_time": "2023-04-22T14:37:47.085741Z",
     "end_time": "2023-04-22T14:37:47.183943Z"
    }
   },
   "outputs": [
    {
     "data": {
      "text/plain": "data      datetime64[ns]\nregiao            object\nvalor            float64\ndtype: object"
     },
     "execution_count": 64,
     "metadata": {},
     "output_type": "execute_result"
    }
   ],
   "source": [
    "#turn data column in df to datetime\n",
    "df['data'] = pd.to_datetime(df['data'])\n",
    "df.dtypes"
   ]
  },
  {
   "cell_type": "code",
   "execution_count": 65,
   "metadata": {
    "ExecuteTime": {
     "start_time": "2023-04-22T14:37:47.093304Z",
     "end_time": "2023-04-22T14:37:47.204929Z"
    }
   },
   "outputs": [
    {
     "data": {
      "text/plain": "        data  regiao    valor   sunrise    sunset  temp ºC  feels_like ºC  \\\n0 2010-01-02  CENTRO  369.829  05:24:00  18:56:55    21.78          22.39   \n1 2010-01-02   LESTE  423.644  05:24:00  18:56:55    21.78          22.39   \n2 2010-01-02   NORTE   87.830  05:24:00  18:56:55    21.78          22.39   \n3 2010-01-02   OESTE  340.640  05:24:00  18:56:55    21.78          22.39   \n4 2010-01-02     SUL  294.580  05:24:00  18:56:55    21.78          22.39   \n\n   pressure  humidity %  atmospheric temperature  clouds %  visibility  \\\n0      1017          91                    20.25        75      8000.0   \n1      1017          91                    20.25        75      8000.0   \n2      1017          91                    20.25        75      8000.0   \n3      1017          91                    20.25        75      8000.0   \n4      1017          91                    20.25        75      8000.0   \n\n   wind_speed m/s  wind_deg  \\\n0             1.0       100   \n1             1.0       100   \n2             1.0       100   \n3             1.0       100   \n4             1.0       100   \n\n                                             weather rain_precipitation  \\\n0  {'id': 500, 'main': 'Rain', 'description': 'li...                NaN   \n1  {'id': 500, 'main': 'Rain', 'description': 'li...                NaN   \n2  {'id': 500, 'main': 'Rain', 'description': 'li...                NaN   \n3  {'id': 500, 'main': 'Rain', 'description': 'li...                NaN   \n4  {'id': 500, 'main': 'Rain', 'description': 'li...                NaN   \n\n   wind_gust  uvi  weather_id  \n0        NaN  NaN         500  \n1        NaN  NaN         500  \n2        NaN  NaN         500  \n3        NaN  NaN         500  \n4        NaN  NaN         500  ",
      "text/html": "<div>\n<style scoped>\n    .dataframe tbody tr th:only-of-type {\n        vertical-align: middle;\n    }\n\n    .dataframe tbody tr th {\n        vertical-align: top;\n    }\n\n    .dataframe thead th {\n        text-align: right;\n    }\n</style>\n<table border=\"1\" class=\"dataframe\">\n  <thead>\n    <tr style=\"text-align: right;\">\n      <th></th>\n      <th>data</th>\n      <th>regiao</th>\n      <th>valor</th>\n      <th>sunrise</th>\n      <th>sunset</th>\n      <th>temp ºC</th>\n      <th>feels_like ºC</th>\n      <th>pressure</th>\n      <th>humidity %</th>\n      <th>atmospheric temperature</th>\n      <th>clouds %</th>\n      <th>visibility</th>\n      <th>wind_speed m/s</th>\n      <th>wind_deg</th>\n      <th>weather</th>\n      <th>rain_precipitation</th>\n      <th>wind_gust</th>\n      <th>uvi</th>\n      <th>weather_id</th>\n    </tr>\n  </thead>\n  <tbody>\n    <tr>\n      <th>0</th>\n      <td>2010-01-02</td>\n      <td>CENTRO</td>\n      <td>369.829</td>\n      <td>05:24:00</td>\n      <td>18:56:55</td>\n      <td>21.78</td>\n      <td>22.39</td>\n      <td>1017</td>\n      <td>91</td>\n      <td>20.25</td>\n      <td>75</td>\n      <td>8000.0</td>\n      <td>1.0</td>\n      <td>100</td>\n      <td>{'id': 500, 'main': 'Rain', 'description': 'li...</td>\n      <td>NaN</td>\n      <td>NaN</td>\n      <td>NaN</td>\n      <td>500</td>\n    </tr>\n    <tr>\n      <th>1</th>\n      <td>2010-01-02</td>\n      <td>LESTE</td>\n      <td>423.644</td>\n      <td>05:24:00</td>\n      <td>18:56:55</td>\n      <td>21.78</td>\n      <td>22.39</td>\n      <td>1017</td>\n      <td>91</td>\n      <td>20.25</td>\n      <td>75</td>\n      <td>8000.0</td>\n      <td>1.0</td>\n      <td>100</td>\n      <td>{'id': 500, 'main': 'Rain', 'description': 'li...</td>\n      <td>NaN</td>\n      <td>NaN</td>\n      <td>NaN</td>\n      <td>500</td>\n    </tr>\n    <tr>\n      <th>2</th>\n      <td>2010-01-02</td>\n      <td>NORTE</td>\n      <td>87.830</td>\n      <td>05:24:00</td>\n      <td>18:56:55</td>\n      <td>21.78</td>\n      <td>22.39</td>\n      <td>1017</td>\n      <td>91</td>\n      <td>20.25</td>\n      <td>75</td>\n      <td>8000.0</td>\n      <td>1.0</td>\n      <td>100</td>\n      <td>{'id': 500, 'main': 'Rain', 'description': 'li...</td>\n      <td>NaN</td>\n      <td>NaN</td>\n      <td>NaN</td>\n      <td>500</td>\n    </tr>\n    <tr>\n      <th>3</th>\n      <td>2010-01-02</td>\n      <td>OESTE</td>\n      <td>340.640</td>\n      <td>05:24:00</td>\n      <td>18:56:55</td>\n      <td>21.78</td>\n      <td>22.39</td>\n      <td>1017</td>\n      <td>91</td>\n      <td>20.25</td>\n      <td>75</td>\n      <td>8000.0</td>\n      <td>1.0</td>\n      <td>100</td>\n      <td>{'id': 500, 'main': 'Rain', 'description': 'li...</td>\n      <td>NaN</td>\n      <td>NaN</td>\n      <td>NaN</td>\n      <td>500</td>\n    </tr>\n    <tr>\n      <th>4</th>\n      <td>2010-01-02</td>\n      <td>SUL</td>\n      <td>294.580</td>\n      <td>05:24:00</td>\n      <td>18:56:55</td>\n      <td>21.78</td>\n      <td>22.39</td>\n      <td>1017</td>\n      <td>91</td>\n      <td>20.25</td>\n      <td>75</td>\n      <td>8000.0</td>\n      <td>1.0</td>\n      <td>100</td>\n      <td>{'id': 500, 'main': 'Rain', 'description': 'li...</td>\n      <td>NaN</td>\n      <td>NaN</td>\n      <td>NaN</td>\n      <td>500</td>\n    </tr>\n  </tbody>\n</table>\n</div>"
     },
     "execution_count": 65,
     "metadata": {},
     "output_type": "execute_result"
    }
   ],
   "source": [
    "#merge df and df_weather\n",
    "df = pd.merge(df, df_weather, on='data')\n",
    "df.head()"
   ]
  },
  {
   "cell_type": "code",
   "execution_count": 66,
   "metadata": {
    "ExecuteTime": {
     "start_time": "2023-04-22T14:37:47.112837Z",
     "end_time": "2023-04-22T14:37:47.204929Z"
    }
   },
   "outputs": [],
   "source": [
    "def extract_number(s):\n",
    "    rain_mm_pattern = r'\\d+\\.\\d+'\n",
    "    if pd.isna(s):\n",
    "        return np.nan\n",
    "    else:\n",
    "        matches = re.findall(rain_mm_pattern, s)\n",
    "        return float(matches[0]) if matches else np.nan"
   ]
  },
  {
   "cell_type": "code",
   "execution_count": 67,
   "metadata": {
    "ExecuteTime": {
     "start_time": "2023-04-22T14:37:47.115348Z",
     "end_time": "2023-04-22T14:37:47.208944Z"
    }
   },
   "outputs": [
    {
     "data": {
      "text/plain": "        data  regiao    valor   sunrise    sunset  temp ºC  feels_like ºC  \\\n0 2010-01-02  CENTRO  369.829  05:24:00  18:56:55    21.78          22.39   \n1 2010-01-02   LESTE  423.644  05:24:00  18:56:55    21.78          22.39   \n2 2010-01-02   NORTE   87.830  05:24:00  18:56:55    21.78          22.39   \n3 2010-01-02   OESTE  340.640  05:24:00  18:56:55    21.78          22.39   \n4 2010-01-02     SUL  294.580  05:24:00  18:56:55    21.78          22.39   \n\n   pressure  humidity %  atmospheric temperature  clouds %  visibility  \\\n0      1017          91                    20.25        75      8000.0   \n1      1017          91                    20.25        75      8000.0   \n2      1017          91                    20.25        75      8000.0   \n3      1017          91                    20.25        75      8000.0   \n4      1017          91                    20.25        75      8000.0   \n\n   wind_speed m/s  wind_deg  \\\n0             1.0       100   \n1             1.0       100   \n2             1.0       100   \n3             1.0       100   \n4             1.0       100   \n\n                                             weather rain_precipitation  \\\n0  {'id': 500, 'main': 'Rain', 'description': 'li...                NaN   \n1  {'id': 500, 'main': 'Rain', 'description': 'li...                NaN   \n2  {'id': 500, 'main': 'Rain', 'description': 'li...                NaN   \n3  {'id': 500, 'main': 'Rain', 'description': 'li...                NaN   \n4  {'id': 500, 'main': 'Rain', 'description': 'li...                NaN   \n\n   wind_gust  uvi  weather_id  rain_mm  \n0        NaN  NaN         500      NaN  \n1        NaN  NaN         500      NaN  \n2        NaN  NaN         500      NaN  \n3        NaN  NaN         500      NaN  \n4        NaN  NaN         500      NaN  ",
      "text/html": "<div>\n<style scoped>\n    .dataframe tbody tr th:only-of-type {\n        vertical-align: middle;\n    }\n\n    .dataframe tbody tr th {\n        vertical-align: top;\n    }\n\n    .dataframe thead th {\n        text-align: right;\n    }\n</style>\n<table border=\"1\" class=\"dataframe\">\n  <thead>\n    <tr style=\"text-align: right;\">\n      <th></th>\n      <th>data</th>\n      <th>regiao</th>\n      <th>valor</th>\n      <th>sunrise</th>\n      <th>sunset</th>\n      <th>temp ºC</th>\n      <th>feels_like ºC</th>\n      <th>pressure</th>\n      <th>humidity %</th>\n      <th>atmospheric temperature</th>\n      <th>clouds %</th>\n      <th>visibility</th>\n      <th>wind_speed m/s</th>\n      <th>wind_deg</th>\n      <th>weather</th>\n      <th>rain_precipitation</th>\n      <th>wind_gust</th>\n      <th>uvi</th>\n      <th>weather_id</th>\n      <th>rain_mm</th>\n    </tr>\n  </thead>\n  <tbody>\n    <tr>\n      <th>0</th>\n      <td>2010-01-02</td>\n      <td>CENTRO</td>\n      <td>369.829</td>\n      <td>05:24:00</td>\n      <td>18:56:55</td>\n      <td>21.78</td>\n      <td>22.39</td>\n      <td>1017</td>\n      <td>91</td>\n      <td>20.25</td>\n      <td>75</td>\n      <td>8000.0</td>\n      <td>1.0</td>\n      <td>100</td>\n      <td>{'id': 500, 'main': 'Rain', 'description': 'li...</td>\n      <td>NaN</td>\n      <td>NaN</td>\n      <td>NaN</td>\n      <td>500</td>\n      <td>NaN</td>\n    </tr>\n    <tr>\n      <th>1</th>\n      <td>2010-01-02</td>\n      <td>LESTE</td>\n      <td>423.644</td>\n      <td>05:24:00</td>\n      <td>18:56:55</td>\n      <td>21.78</td>\n      <td>22.39</td>\n      <td>1017</td>\n      <td>91</td>\n      <td>20.25</td>\n      <td>75</td>\n      <td>8000.0</td>\n      <td>1.0</td>\n      <td>100</td>\n      <td>{'id': 500, 'main': 'Rain', 'description': 'li...</td>\n      <td>NaN</td>\n      <td>NaN</td>\n      <td>NaN</td>\n      <td>500</td>\n      <td>NaN</td>\n    </tr>\n    <tr>\n      <th>2</th>\n      <td>2010-01-02</td>\n      <td>NORTE</td>\n      <td>87.830</td>\n      <td>05:24:00</td>\n      <td>18:56:55</td>\n      <td>21.78</td>\n      <td>22.39</td>\n      <td>1017</td>\n      <td>91</td>\n      <td>20.25</td>\n      <td>75</td>\n      <td>8000.0</td>\n      <td>1.0</td>\n      <td>100</td>\n      <td>{'id': 500, 'main': 'Rain', 'description': 'li...</td>\n      <td>NaN</td>\n      <td>NaN</td>\n      <td>NaN</td>\n      <td>500</td>\n      <td>NaN</td>\n    </tr>\n    <tr>\n      <th>3</th>\n      <td>2010-01-02</td>\n      <td>OESTE</td>\n      <td>340.640</td>\n      <td>05:24:00</td>\n      <td>18:56:55</td>\n      <td>21.78</td>\n      <td>22.39</td>\n      <td>1017</td>\n      <td>91</td>\n      <td>20.25</td>\n      <td>75</td>\n      <td>8000.0</td>\n      <td>1.0</td>\n      <td>100</td>\n      <td>{'id': 500, 'main': 'Rain', 'description': 'li...</td>\n      <td>NaN</td>\n      <td>NaN</td>\n      <td>NaN</td>\n      <td>500</td>\n      <td>NaN</td>\n    </tr>\n    <tr>\n      <th>4</th>\n      <td>2010-01-02</td>\n      <td>SUL</td>\n      <td>294.580</td>\n      <td>05:24:00</td>\n      <td>18:56:55</td>\n      <td>21.78</td>\n      <td>22.39</td>\n      <td>1017</td>\n      <td>91</td>\n      <td>20.25</td>\n      <td>75</td>\n      <td>8000.0</td>\n      <td>1.0</td>\n      <td>100</td>\n      <td>{'id': 500, 'main': 'Rain', 'description': 'li...</td>\n      <td>NaN</td>\n      <td>NaN</td>\n      <td>NaN</td>\n      <td>500</td>\n      <td>NaN</td>\n    </tr>\n  </tbody>\n</table>\n</div>"
     },
     "execution_count": 67,
     "metadata": {},
     "output_type": "execute_result"
    }
   ],
   "source": [
    "#extract numbers from rain column\n",
    "import re\n",
    "df['rain_mm'] = df['rain_precipitation'].apply(extract_number)\n",
    "df.head()"
   ]
  },
  {
   "cell_type": "code",
   "execution_count": 68,
   "metadata": {
    "ExecuteTime": {
     "start_time": "2023-04-22T14:37:47.134714Z",
     "end_time": "2023-04-22T14:37:47.244711Z"
    }
   },
   "outputs": [
    {
     "data": {
      "text/plain": "        data  regiao    valor   sunrise    sunset  temp ºC  feels_like ºC  \\\n0 2010-01-02  CENTRO  369.829  05:24:00  18:56:55    21.78          22.39   \n1 2010-01-02   LESTE  423.644  05:24:00  18:56:55    21.78          22.39   \n2 2010-01-02   NORTE   87.830  05:24:00  18:56:55    21.78          22.39   \n3 2010-01-02   OESTE  340.640  05:24:00  18:56:55    21.78          22.39   \n4 2010-01-02     SUL  294.580  05:24:00  18:56:55    21.78          22.39   \n\n   pressure  humidity %  atmospheric temperature  clouds %  visibility  \\\n0      1017          91                    20.25        75      8000.0   \n1      1017          91                    20.25        75      8000.0   \n2      1017          91                    20.25        75      8000.0   \n3      1017          91                    20.25        75      8000.0   \n4      1017          91                    20.25        75      8000.0   \n\n   wind_speed m/s  wind_deg  \\\n0             1.0       100   \n1             1.0       100   \n2             1.0       100   \n3             1.0       100   \n4             1.0       100   \n\n                                             weather rain_precipitation  \\\n0  {'id': 500, 'main': 'Rain', 'description': 'li...                NaN   \n1  {'id': 500, 'main': 'Rain', 'description': 'li...                NaN   \n2  {'id': 500, 'main': 'Rain', 'description': 'li...                NaN   \n3  {'id': 500, 'main': 'Rain', 'description': 'li...                NaN   \n4  {'id': 500, 'main': 'Rain', 'description': 'li...                NaN   \n\n   wind_gust  uvi  weather_id  rain_mm  \n0        NaN  NaN         500      0.0  \n1        NaN  NaN         500      0.0  \n2        NaN  NaN         500      0.0  \n3        NaN  NaN         500      0.0  \n4        NaN  NaN         500      0.0  ",
      "text/html": "<div>\n<style scoped>\n    .dataframe tbody tr th:only-of-type {\n        vertical-align: middle;\n    }\n\n    .dataframe tbody tr th {\n        vertical-align: top;\n    }\n\n    .dataframe thead th {\n        text-align: right;\n    }\n</style>\n<table border=\"1\" class=\"dataframe\">\n  <thead>\n    <tr style=\"text-align: right;\">\n      <th></th>\n      <th>data</th>\n      <th>regiao</th>\n      <th>valor</th>\n      <th>sunrise</th>\n      <th>sunset</th>\n      <th>temp ºC</th>\n      <th>feels_like ºC</th>\n      <th>pressure</th>\n      <th>humidity %</th>\n      <th>atmospheric temperature</th>\n      <th>clouds %</th>\n      <th>visibility</th>\n      <th>wind_speed m/s</th>\n      <th>wind_deg</th>\n      <th>weather</th>\n      <th>rain_precipitation</th>\n      <th>wind_gust</th>\n      <th>uvi</th>\n      <th>weather_id</th>\n      <th>rain_mm</th>\n    </tr>\n  </thead>\n  <tbody>\n    <tr>\n      <th>0</th>\n      <td>2010-01-02</td>\n      <td>CENTRO</td>\n      <td>369.829</td>\n      <td>05:24:00</td>\n      <td>18:56:55</td>\n      <td>21.78</td>\n      <td>22.39</td>\n      <td>1017</td>\n      <td>91</td>\n      <td>20.25</td>\n      <td>75</td>\n      <td>8000.0</td>\n      <td>1.0</td>\n      <td>100</td>\n      <td>{'id': 500, 'main': 'Rain', 'description': 'li...</td>\n      <td>NaN</td>\n      <td>NaN</td>\n      <td>NaN</td>\n      <td>500</td>\n      <td>0.0</td>\n    </tr>\n    <tr>\n      <th>1</th>\n      <td>2010-01-02</td>\n      <td>LESTE</td>\n      <td>423.644</td>\n      <td>05:24:00</td>\n      <td>18:56:55</td>\n      <td>21.78</td>\n      <td>22.39</td>\n      <td>1017</td>\n      <td>91</td>\n      <td>20.25</td>\n      <td>75</td>\n      <td>8000.0</td>\n      <td>1.0</td>\n      <td>100</td>\n      <td>{'id': 500, 'main': 'Rain', 'description': 'li...</td>\n      <td>NaN</td>\n      <td>NaN</td>\n      <td>NaN</td>\n      <td>500</td>\n      <td>0.0</td>\n    </tr>\n    <tr>\n      <th>2</th>\n      <td>2010-01-02</td>\n      <td>NORTE</td>\n      <td>87.830</td>\n      <td>05:24:00</td>\n      <td>18:56:55</td>\n      <td>21.78</td>\n      <td>22.39</td>\n      <td>1017</td>\n      <td>91</td>\n      <td>20.25</td>\n      <td>75</td>\n      <td>8000.0</td>\n      <td>1.0</td>\n      <td>100</td>\n      <td>{'id': 500, 'main': 'Rain', 'description': 'li...</td>\n      <td>NaN</td>\n      <td>NaN</td>\n      <td>NaN</td>\n      <td>500</td>\n      <td>0.0</td>\n    </tr>\n    <tr>\n      <th>3</th>\n      <td>2010-01-02</td>\n      <td>OESTE</td>\n      <td>340.640</td>\n      <td>05:24:00</td>\n      <td>18:56:55</td>\n      <td>21.78</td>\n      <td>22.39</td>\n      <td>1017</td>\n      <td>91</td>\n      <td>20.25</td>\n      <td>75</td>\n      <td>8000.0</td>\n      <td>1.0</td>\n      <td>100</td>\n      <td>{'id': 500, 'main': 'Rain', 'description': 'li...</td>\n      <td>NaN</td>\n      <td>NaN</td>\n      <td>NaN</td>\n      <td>500</td>\n      <td>0.0</td>\n    </tr>\n    <tr>\n      <th>4</th>\n      <td>2010-01-02</td>\n      <td>SUL</td>\n      <td>294.580</td>\n      <td>05:24:00</td>\n      <td>18:56:55</td>\n      <td>21.78</td>\n      <td>22.39</td>\n      <td>1017</td>\n      <td>91</td>\n      <td>20.25</td>\n      <td>75</td>\n      <td>8000.0</td>\n      <td>1.0</td>\n      <td>100</td>\n      <td>{'id': 500, 'main': 'Rain', 'description': 'li...</td>\n      <td>NaN</td>\n      <td>NaN</td>\n      <td>NaN</td>\n      <td>500</td>\n      <td>0.0</td>\n    </tr>\n  </tbody>\n</table>\n</div>"
     },
     "execution_count": 68,
     "metadata": {},
     "output_type": "execute_result"
    }
   ],
   "source": [
    "#turn nan in rain_mm column to 0\n",
    "df['rain_mm'] = df['rain_mm'].fillna(0)\n",
    "df.head()\n"
   ]
  },
  {
   "cell_type": "code",
   "execution_count": 69,
   "metadata": {
    "ExecuteTime": {
     "start_time": "2023-04-22T14:37:47.147263Z",
     "end_time": "2023-04-22T14:37:47.245712Z"
    }
   },
   "outputs": [
    {
     "data": {
      "text/plain": "        data  regiao    valor  temp ºC  feels_like ºC  pressure  humidity %  \\\n0 2010-01-02  CENTRO  369.829    21.78          22.39      1017          91   \n1 2010-01-02   LESTE  423.644    21.78          22.39      1017          91   \n2 2010-01-02   NORTE   87.830    21.78          22.39      1017          91   \n3 2010-01-02   OESTE  340.640    21.78          22.39      1017          91   \n4 2010-01-02     SUL  294.580    21.78          22.39      1017          91   \n\n   atmospheric temperature  clouds %  visibility  wind_speed m/s  rain_mm  \n0                    20.25        75      8000.0             1.0      0.0  \n1                    20.25        75      8000.0             1.0      0.0  \n2                    20.25        75      8000.0             1.0      0.0  \n3                    20.25        75      8000.0             1.0      0.0  \n4                    20.25        75      8000.0             1.0      0.0  ",
      "text/html": "<div>\n<style scoped>\n    .dataframe tbody tr th:only-of-type {\n        vertical-align: middle;\n    }\n\n    .dataframe tbody tr th {\n        vertical-align: top;\n    }\n\n    .dataframe thead th {\n        text-align: right;\n    }\n</style>\n<table border=\"1\" class=\"dataframe\">\n  <thead>\n    <tr style=\"text-align: right;\">\n      <th></th>\n      <th>data</th>\n      <th>regiao</th>\n      <th>valor</th>\n      <th>temp ºC</th>\n      <th>feels_like ºC</th>\n      <th>pressure</th>\n      <th>humidity %</th>\n      <th>atmospheric temperature</th>\n      <th>clouds %</th>\n      <th>visibility</th>\n      <th>wind_speed m/s</th>\n      <th>rain_mm</th>\n    </tr>\n  </thead>\n  <tbody>\n    <tr>\n      <th>0</th>\n      <td>2010-01-02</td>\n      <td>CENTRO</td>\n      <td>369.829</td>\n      <td>21.78</td>\n      <td>22.39</td>\n      <td>1017</td>\n      <td>91</td>\n      <td>20.25</td>\n      <td>75</td>\n      <td>8000.0</td>\n      <td>1.0</td>\n      <td>0.0</td>\n    </tr>\n    <tr>\n      <th>1</th>\n      <td>2010-01-02</td>\n      <td>LESTE</td>\n      <td>423.644</td>\n      <td>21.78</td>\n      <td>22.39</td>\n      <td>1017</td>\n      <td>91</td>\n      <td>20.25</td>\n      <td>75</td>\n      <td>8000.0</td>\n      <td>1.0</td>\n      <td>0.0</td>\n    </tr>\n    <tr>\n      <th>2</th>\n      <td>2010-01-02</td>\n      <td>NORTE</td>\n      <td>87.830</td>\n      <td>21.78</td>\n      <td>22.39</td>\n      <td>1017</td>\n      <td>91</td>\n      <td>20.25</td>\n      <td>75</td>\n      <td>8000.0</td>\n      <td>1.0</td>\n      <td>0.0</td>\n    </tr>\n    <tr>\n      <th>3</th>\n      <td>2010-01-02</td>\n      <td>OESTE</td>\n      <td>340.640</td>\n      <td>21.78</td>\n      <td>22.39</td>\n      <td>1017</td>\n      <td>91</td>\n      <td>20.25</td>\n      <td>75</td>\n      <td>8000.0</td>\n      <td>1.0</td>\n      <td>0.0</td>\n    </tr>\n    <tr>\n      <th>4</th>\n      <td>2010-01-02</td>\n      <td>SUL</td>\n      <td>294.580</td>\n      <td>21.78</td>\n      <td>22.39</td>\n      <td>1017</td>\n      <td>91</td>\n      <td>20.25</td>\n      <td>75</td>\n      <td>8000.0</td>\n      <td>1.0</td>\n      <td>0.0</td>\n    </tr>\n  </tbody>\n</table>\n</div>"
     },
     "execution_count": 69,
     "metadata": {},
     "output_type": "execute_result"
    }
   ],
   "source": [
    "#drop weather, rain_precipitation, sunrise, sunset, wind_deg, wind_gust\n",
    "df = df.drop(['weather', 'rain_precipitation', 'sunrise', 'sunset', 'wind_deg', 'wind_gust', 'uvi', 'weather_id'], axis=1)\n",
    "df.head()"
   ]
  },
  {
   "cell_type": "markdown",
   "metadata": {},
   "source": [
    "### Preparing the df for training"
   ]
  },
  {
   "cell_type": "code",
   "execution_count": 70,
   "metadata": {
    "ExecuteTime": {
     "start_time": "2023-04-22T14:37:47.156928Z",
     "end_time": "2023-04-22T14:37:47.785581Z"
    }
   },
   "outputs": [],
   "source": [
    "from sklearn.model_selection import TimeSeriesSplit\n",
    "\n",
    "tss = TimeSeriesSplit(n_splits=5, test_size=7)"
   ]
  },
  {
   "cell_type": "code",
   "execution_count": 71,
   "metadata": {
    "ExecuteTime": {
     "start_time": "2023-04-22T14:37:47.596504Z",
     "end_time": "2023-04-22T14:37:47.833360Z"
    }
   },
   "outputs": [
    {
     "data": {
      "text/plain": "            regiao    valor  temp ºC  feels_like ºC  pressure  humidity %  \\\ndata                                                                        \n2010-01-02  CENTRO  369.829    21.78          22.39      1017          91   \n2010-01-02   LESTE  423.644    21.78          22.39      1017          91   \n2010-01-02   NORTE   87.830    21.78          22.39      1017          91   \n2010-01-02   OESTE  340.640    21.78          22.39      1017          91   \n2010-01-02     SUL  294.580    21.78          22.39      1017          91   \n\n            atmospheric temperature  clouds %  visibility  wind_speed m/s  \\\ndata                                                                        \n2010-01-02                    20.25        75      8000.0             1.0   \n2010-01-02                    20.25        75      8000.0             1.0   \n2010-01-02                    20.25        75      8000.0             1.0   \n2010-01-02                    20.25        75      8000.0             1.0   \n2010-01-02                    20.25        75      8000.0             1.0   \n\n            rain_mm  \ndata                 \n2010-01-02      0.0  \n2010-01-02      0.0  \n2010-01-02      0.0  \n2010-01-02      0.0  \n2010-01-02      0.0  ",
      "text/html": "<div>\n<style scoped>\n    .dataframe tbody tr th:only-of-type {\n        vertical-align: middle;\n    }\n\n    .dataframe tbody tr th {\n        vertical-align: top;\n    }\n\n    .dataframe thead th {\n        text-align: right;\n    }\n</style>\n<table border=\"1\" class=\"dataframe\">\n  <thead>\n    <tr style=\"text-align: right;\">\n      <th></th>\n      <th>regiao</th>\n      <th>valor</th>\n      <th>temp ºC</th>\n      <th>feels_like ºC</th>\n      <th>pressure</th>\n      <th>humidity %</th>\n      <th>atmospheric temperature</th>\n      <th>clouds %</th>\n      <th>visibility</th>\n      <th>wind_speed m/s</th>\n      <th>rain_mm</th>\n    </tr>\n    <tr>\n      <th>data</th>\n      <th></th>\n      <th></th>\n      <th></th>\n      <th></th>\n      <th></th>\n      <th></th>\n      <th></th>\n      <th></th>\n      <th></th>\n      <th></th>\n      <th></th>\n    </tr>\n  </thead>\n  <tbody>\n    <tr>\n      <th>2010-01-02</th>\n      <td>CENTRO</td>\n      <td>369.829</td>\n      <td>21.78</td>\n      <td>22.39</td>\n      <td>1017</td>\n      <td>91</td>\n      <td>20.25</td>\n      <td>75</td>\n      <td>8000.0</td>\n      <td>1.0</td>\n      <td>0.0</td>\n    </tr>\n    <tr>\n      <th>2010-01-02</th>\n      <td>LESTE</td>\n      <td>423.644</td>\n      <td>21.78</td>\n      <td>22.39</td>\n      <td>1017</td>\n      <td>91</td>\n      <td>20.25</td>\n      <td>75</td>\n      <td>8000.0</td>\n      <td>1.0</td>\n      <td>0.0</td>\n    </tr>\n    <tr>\n      <th>2010-01-02</th>\n      <td>NORTE</td>\n      <td>87.830</td>\n      <td>21.78</td>\n      <td>22.39</td>\n      <td>1017</td>\n      <td>91</td>\n      <td>20.25</td>\n      <td>75</td>\n      <td>8000.0</td>\n      <td>1.0</td>\n      <td>0.0</td>\n    </tr>\n    <tr>\n      <th>2010-01-02</th>\n      <td>OESTE</td>\n      <td>340.640</td>\n      <td>21.78</td>\n      <td>22.39</td>\n      <td>1017</td>\n      <td>91</td>\n      <td>20.25</td>\n      <td>75</td>\n      <td>8000.0</td>\n      <td>1.0</td>\n      <td>0.0</td>\n    </tr>\n    <tr>\n      <th>2010-01-02</th>\n      <td>SUL</td>\n      <td>294.580</td>\n      <td>21.78</td>\n      <td>22.39</td>\n      <td>1017</td>\n      <td>91</td>\n      <td>20.25</td>\n      <td>75</td>\n      <td>8000.0</td>\n      <td>1.0</td>\n      <td>0.0</td>\n    </tr>\n  </tbody>\n</table>\n</div>"
     },
     "execution_count": 71,
     "metadata": {},
     "output_type": "execute_result"
    }
   ],
   "source": [
    "#set date as index\n",
    "df = df.set_index('data')\n",
    "df.head()"
   ]
  },
  {
   "cell_type": "code",
   "execution_count": 72,
   "metadata": {
    "ExecuteTime": {
     "start_time": "2023-04-22T14:37:47.609526Z",
     "end_time": "2023-04-22T14:37:49.214618Z"
    }
   },
   "outputs": [
    {
     "data": {
      "text/plain": "<Figure size 1500x1500 with 5 Axes>",
      "image/png": "[encoded data removed]"
     },
     "metadata": {},
     "output_type": "display_data"
    }
   ],
   "source": [
    "fig, axs = plt.subplots(5, 1, figsize=(15, 15), sharex=True)\n",
    "\n",
    "fold = 0\n",
    "for train_idx, val_idx in tss.split(df):\n",
    "    train = df.iloc[train_idx]\n",
    "    test = df.iloc[val_idx]\n",
    "    train['valor'].plot(ax=axs[fold],\n",
    "                       x='year', y='valor',\n",
    "                          label='Training Set',\n",
    "                          title=f'Data Train/Test Split Fold {fold}')\n",
    "    test['valor'].plot(ax=axs[fold],\n",
    "                      x='year', y='valor',\n",
    "                         label='Test Set')\n",
    "    axs[fold].axvline(test.index.min(), color='black', ls='--')\n",
    "    fold += 1\n",
    "plt.xlim('2022-01-01', '2023-06-04')\n",
    "#plt.suptitle('Cross Validation Folds', size=24, weight='bold')\n",
    "#plt.tight_layout()\n",
    "plt.show()"
   ]
  },
  {
   "cell_type": "code",
   "execution_count": 73,
   "metadata": {
    "ExecuteTime": {
     "start_time": "2023-04-22T14:37:49.214618Z",
     "end_time": "2023-04-22T14:37:49.227687Z"
    }
   },
   "outputs": [
    {
     "data": {
      "text/plain": "              valor  temp ºC  feels_like ºC  pressure  humidity %  \\\ndata                                                                \n2010-01-02  369.829    21.78          22.39      1017          91   \n2010-01-02  423.644    21.78          22.39      1017          91   \n2010-01-02   87.830    21.78          22.39      1017          91   \n2010-01-02  340.640    21.78          22.39      1017          91   \n2010-01-02  294.580    21.78          22.39      1017          91   \n\n            atmospheric temperature  clouds %  visibility  wind_speed m/s  \\\ndata                                                                        \n2010-01-02                    20.25        75      8000.0             1.0   \n2010-01-02                    20.25        75      8000.0             1.0   \n2010-01-02                    20.25        75      8000.0             1.0   \n2010-01-02                    20.25        75      8000.0             1.0   \n2010-01-02                    20.25        75      8000.0             1.0   \n\n            rain_mm  CENTRO  LESTE  NORTE  OESTE  SUL  \ndata                                                   \n2010-01-02      0.0       1      0      0      0    0  \n2010-01-02      0.0       0      1      0      0    0  \n2010-01-02      0.0       0      0      1      0    0  \n2010-01-02      0.0       0      0      0      1    0  \n2010-01-02      0.0       0      0      0      0    1  ",
      "text/html": "<div>\n<style scoped>\n    .dataframe tbody tr th:only-of-type {\n        vertical-align: middle;\n    }\n\n    .dataframe tbody tr th {\n        vertical-align: top;\n    }\n\n    .dataframe thead th {\n        text-align: right;\n    }\n</style>\n<table border=\"1\" class=\"dataframe\">\n  <thead>\n    <tr style=\"text-align: right;\">\n      <th></th>\n      <th>valor</th>\n      <th>temp ºC</th>\n      <th>feels_like ºC</th>\n      <th>pressure</th>\n      <th>humidity %</th>\n      <th>atmospheric temperature</th>\n      <th>clouds %</th>\n      <th>visibility</th>\n      <th>wind_speed m/s</th>\n      <th>rain_mm</th>\n      <th>CENTRO</th>\n      <th>LESTE</th>\n      <th>NORTE</th>\n      <th>OESTE</th>\n      <th>SUL</th>\n    </tr>\n    <tr>\n      <th>data</th>\n      <th></th>\n      <th></th>\n      <th></th>\n      <th></th>\n      <th></th>\n      <th></th>\n      <th></th>\n      <th></th>\n      <th></th>\n      <th></th>\n      <th></th>\n      <th></th>\n      <th></th>\n      <th></th>\n      <th></th>\n    </tr>\n  </thead>\n  <tbody>\n    <tr>\n      <th>2010-01-02</th>\n      <td>369.829</td>\n      <td>21.78</td>\n      <td>22.39</td>\n      <td>1017</td>\n      <td>91</td>\n      <td>20.25</td>\n      <td>75</td>\n      <td>8000.0</td>\n      <td>1.0</td>\n      <td>0.0</td>\n      <td>1</td>\n      <td>0</td>\n      <td>0</td>\n      <td>0</td>\n      <td>0</td>\n    </tr>\n    <tr>\n      <th>2010-01-02</th>\n      <td>423.644</td>\n      <td>21.78</td>\n      <td>22.39</td>\n      <td>1017</td>\n      <td>91</td>\n      <td>20.25</td>\n      <td>75</td>\n      <td>8000.0</td>\n      <td>1.0</td>\n      <td>0.0</td>\n      <td>0</td>\n      <td>1</td>\n      <td>0</td>\n      <td>0</td>\n      <td>0</td>\n    </tr>\n    <tr>\n      <th>2010-01-02</th>\n      <td>87.830</td>\n      <td>21.78</td>\n      <td>22.39</td>\n      <td>1017</td>\n      <td>91</td>\n      <td>20.25</td>\n      <td>75</td>\n      <td>8000.0</td>\n      <td>1.0</td>\n      <td>0.0</td>\n      <td>0</td>\n      <td>0</td>\n      <td>1</td>\n      <td>0</td>\n      <td>0</td>\n    </tr>\n    <tr>\n      <th>2010-01-02</th>\n      <td>340.640</td>\n      <td>21.78</td>\n      <td>22.39</td>\n      <td>1017</td>\n      <td>91</td>\n      <td>20.25</td>\n      <td>75</td>\n      <td>8000.0</td>\n      <td>1.0</td>\n      <td>0.0</td>\n      <td>0</td>\n      <td>0</td>\n      <td>0</td>\n      <td>1</td>\n      <td>0</td>\n    </tr>\n    <tr>\n      <th>2010-01-02</th>\n      <td>294.580</td>\n      <td>21.78</td>\n      <td>22.39</td>\n      <td>1017</td>\n      <td>91</td>\n      <td>20.25</td>\n      <td>75</td>\n      <td>8000.0</td>\n      <td>1.0</td>\n      <td>0.0</td>\n      <td>0</td>\n      <td>0</td>\n      <td>0</td>\n      <td>0</td>\n      <td>1</td>\n    </tr>\n  </tbody>\n</table>\n</div>"
     },
     "execution_count": 73,
     "metadata": {},
     "output_type": "execute_result"
    }
   ],
   "source": [
    "#one hot encode region column keeping original names\n",
    "df = pd.get_dummies(df, columns=['regiao'], prefix='', prefix_sep='')\n",
    "df.head()\n"
   ]
  },
  {
   "cell_type": "code",
   "execution_count": 74,
   "metadata": {
    "ExecuteTime": {
     "start_time": "2023-04-22T14:37:49.229628Z",
     "end_time": "2023-04-22T14:37:49.246964Z"
    }
   },
   "outputs": [],
   "source": [
    "#standardize data \n",
    "from sklearn.preprocessing import StandardScaler\n",
    "scaler = StandardScaler()\n",
    "df[['valor','temp ºC', 'feels_like ºC', 'pressure', 'humidity %', 'atmospheric temperature', 'clouds %', 'visibility','wind_speed m/s','rain_mm']] = scaler.fit_transform(df[['valor','temp ºC', 'feels_like ºC', 'pressure', 'humidity %', 'atmospheric temperature', 'clouds %', 'visibility','wind_speed m/s','rain_mm']])"
   ]
  },
  {
   "cell_type": "code",
   "execution_count": 75,
   "metadata": {
    "ExecuteTime": {
     "start_time": "2023-04-22T14:37:49.244359Z",
     "end_time": "2023-04-22T14:37:49.246964Z"
    }
   },
   "outputs": [],
   "source": [
    "df.drop(['visibility'], axis=1, inplace=True)"
   ]
  },
  {
   "cell_type": "code",
   "execution_count": 76,
   "metadata": {
    "ExecuteTime": {
     "start_time": "2023-04-22T14:37:49.245424Z",
     "end_time": "2023-04-22T14:37:49.425604Z"
    }
   },
   "outputs": [],
   "source": [
    "#normalize data\n",
    "from sklearn.preprocessing import MinMaxScaler\n",
    "scaler = MinMaxScaler()\n",
    "df[['valor','temp ºC', 'feels_like ºC', 'pressure', 'humidity %', 'atmospheric temperature', 'clouds %', 'wind_speed m/s','rain_mm']] = scaler.fit_transform(df[['valor','temp ºC', 'feels_like ºC', 'pressure', 'humidity %', 'atmospheric temperature', 'clouds %', 'wind_speed m/s','rain_mm']])"
   ]
  },
  {
   "cell_type": "code",
   "execution_count": 77,
   "metadata": {
    "ExecuteTime": {
     "start_time": "2023-04-22T14:37:49.257976Z",
     "end_time": "2023-04-22T14:37:49.425604Z"
    }
   },
   "outputs": [],
   "source": [
    "def create_sequences(data, n_steps):\n",
    "    X = []\n",
    "    y = []\n",
    "    for i in range(len(data)-n_steps):\n",
    "        X.append(data.iloc[i:i+n_steps, :-1].values)\n",
    "        y.append(data.iloc[i+n_steps, 1])\n",
    "    return np.array(X), np.array(y), np.array\n"
   ]
  },
  {
   "cell_type": "code",
   "execution_count": 78,
   "metadata": {
    "ExecuteTime": {
     "start_time": "2023-04-22T14:37:49.261168Z",
     "end_time": "2023-04-22T14:37:54.449087Z"
    }
   },
   "outputs": [
    {
     "data": {
      "text/plain": "((20002, 7, 13), (20002,))"
     },
     "execution_count": 78,
     "metadata": {},
     "output_type": "execute_result"
    }
   ],
   "source": [
    "# create sequences\n",
    "n_steps = 7\n",
    "X, y, df = create_sequences(df, n_steps)\n",
    "X.shape, y.shape"
   ]
  },
  {
   "cell_type": "code",
   "execution_count": 79,
   "metadata": {
    "ExecuteTime": {
     "start_time": "2023-04-22T14:37:54.441519Z",
     "end_time": "2023-04-22T14:37:54.449087Z"
    }
   },
   "outputs": [
    {
     "data": {
      "text/plain": "((1825, 7, 13), (18177, 7, 13), (1825,), (18177,))"
     },
     "execution_count": 79,
     "metadata": {},
     "output_type": "execute_result"
    }
   ],
   "source": [
    "# split into train, val and test sets\n",
    "# split into train and test sets\n",
    "n_train = 365*5\n",
    "X_train, X_test, y_train, y_test = X[:n_train], X[n_train:], y[:n_train], y[n_train:]\n",
    "X_train.shape, X_test.shape, y_train.shape, y_test.shape\n"
   ]
  },
  {
   "cell_type": "code",
   "execution_count": 80,
   "metadata": {
    "ExecuteTime": {
     "start_time": "2023-04-22T14:37:54.445070Z",
     "end_time": "2023-04-22T14:38:28.115302Z"
    }
   },
   "outputs": [
    {
     "name": "stdout",
     "output_type": "stream",
     "text": [
      "Epoch 1/30\n",
      "58/58 [==============================] - 2s 21ms/step - loss: 0.0769 - val_loss: 0.0253\n",
      "Epoch 2/30\n",
      "58/58 [==============================] - 1s 18ms/step - loss: 0.0423 - val_loss: 0.0114\n",
      "Epoch 3/30\n",
      "58/58 [==============================] - 1s 18ms/step - loss: 0.0300 - val_loss: 0.0125\n",
      "Epoch 4/30\n",
      "58/58 [==============================] - 1s 18ms/step - loss: 0.0247 - val_loss: 0.0087\n",
      "Epoch 5/30\n",
      "58/58 [==============================] - 1s 18ms/step - loss: 0.0200 - val_loss: 0.0066\n",
      "Epoch 6/30\n",
      "58/58 [==============================] - 1s 18ms/step - loss: 0.0175 - val_loss: 0.0084\n",
      "Epoch 7/30\n",
      "58/58 [==============================] - 1s 18ms/step - loss: 0.0161 - val_loss: 0.0086\n",
      "Epoch 8/30\n",
      "58/58 [==============================] - 1s 19ms/step - loss: 0.0137 - val_loss: 0.0091\n",
      "Epoch 9/30\n",
      "58/58 [==============================] - 1s 18ms/step - loss: 0.0135 - val_loss: 0.0058\n",
      "Epoch 10/30\n",
      "58/58 [==============================] - 1s 19ms/step - loss: 0.0128 - val_loss: 0.0060\n",
      "Epoch 11/30\n",
      "58/58 [==============================] - 1s 18ms/step - loss: 0.0120 - val_loss: 0.0092\n",
      "Epoch 12/30\n",
      "58/58 [==============================] - 1s 19ms/step - loss: 0.0118 - val_loss: 0.0052\n",
      "Epoch 13/30\n",
      "58/58 [==============================] - 1s 19ms/step - loss: 0.0100 - val_loss: 0.0054\n",
      "Epoch 14/30\n",
      "58/58 [==============================] - 1s 19ms/step - loss: 0.0093 - val_loss: 0.0057\n",
      "Epoch 15/30\n",
      "58/58 [==============================] - 1s 18ms/step - loss: 0.0085 - val_loss: 0.0043\n",
      "Epoch 16/30\n",
      "58/58 [==============================] - 1s 19ms/step - loss: 0.0095 - val_loss: 0.0044\n",
      "Epoch 17/30\n",
      "58/58 [==============================] - 1s 19ms/step - loss: 0.0080 - val_loss: 0.0044\n",
      "Epoch 18/30\n",
      "58/58 [==============================] - 1s 19ms/step - loss: 0.0076 - val_loss: 0.0065\n",
      "Epoch 19/30\n",
      "58/58 [==============================] - 1s 19ms/step - loss: 0.0072 - val_loss: 0.0037\n",
      "Epoch 20/30\n",
      "58/58 [==============================] - 1s 19ms/step - loss: 0.0074 - val_loss: 0.0053\n",
      "Epoch 21/30\n",
      "58/58 [==============================] - 1s 19ms/step - loss: 0.0064 - val_loss: 0.0046\n",
      "Epoch 22/30\n",
      "58/58 [==============================] - 1s 19ms/step - loss: 0.0064 - val_loss: 0.0032\n",
      "Epoch 23/30\n",
      "58/58 [==============================] - 1s 20ms/step - loss: 0.0062 - val_loss: 0.0045\n",
      "Epoch 24/30\n",
      "58/58 [==============================] - 1s 18ms/step - loss: 0.0057 - val_loss: 0.0031\n",
      "Epoch 25/30\n",
      "58/58 [==============================] - 1s 19ms/step - loss: 0.0057 - val_loss: 0.0033\n",
      "Epoch 26/30\n",
      "58/58 [==============================] - 1s 18ms/step - loss: 0.0054 - val_loss: 0.0033\n",
      "Epoch 27/30\n",
      "58/58 [==============================] - 1s 19ms/step - loss: 0.0054 - val_loss: 0.0030\n",
      "Epoch 28/30\n",
      "58/58 [==============================] - 1s 19ms/step - loss: 0.0052 - val_loss: 0.0036\n",
      "Epoch 29/30\n",
      "58/58 [==============================] - 1s 18ms/step - loss: 0.0048 - val_loss: 0.0033\n",
      "Epoch 30/30\n",
      "58/58 [==============================] - 1s 19ms/step - loss: 0.0050 - val_loss: 0.0033\n"
     ]
    },
    {
     "data": {
      "text/plain": "<Figure size 640x480 with 1 Axes>",
      "image/png": "[encoded data removed]"
     },
     "metadata": {},
     "output_type": "display_data"
    }
   ],
   "source": [
    "# define model\n",
    "from tensorflow.keras.models import Sequential\n",
    "from tensorflow.keras.layers import Dense, LSTM, Dropout\n",
    "\n",
    "model = Sequential()\n",
    "model.add(LSTM(128, activation='relu', input_shape=(n_steps, 13)))\n",
    "model.add(Dropout(0.2))\n",
    "model.add(Dense(64, activation='relu'))\n",
    "model.add(Dropout(0.2))\n",
    "model.add(Dense(32, activation='relu'))\n",
    "model.add(Dropout(0.2))\n",
    "model.add(Dense(16, activation='relu'))\n",
    "model.add(Dropout(0.2))\n",
    "model.add(Dense(8, activation='relu'))\n",
    "model.add(Dropout(0.2))\n",
    "model.add(Dense(1))\n",
    "model.compile(optimizer='adam', loss='mse')\n",
    "\n",
    "# fit model\n",
    "history = model.fit(X_train, y_train, epochs=30, validation_data=(X_test, y_test), verbose=1)\n",
    "\n",
    "# plot learning curves\n",
    "plt.plot(history.history['loss'], label='train')\n",
    "plt.plot(history.history['val_loss'], label='test')\n",
    "plt.legend()\n",
    "plt.show()\n"
   ]
  },
  {
   "cell_type": "code",
   "execution_count": 81,
   "metadata": {
    "ExecuteTime": {
     "start_time": "2023-04-22T14:38:28.115302Z",
     "end_time": "2023-04-22T14:38:29.275947Z"
    }
   },
   "outputs": [
    {
     "data": {
      "text/plain": "(18177, 1)"
     },
     "execution_count": 81,
     "metadata": {},
     "output_type": "execute_result"
    }
   ],
   "source": [
    "# make a prediction\n",
    "yhat = model.predict(X_test, verbose=0)\n",
    "yhat.shape\n"
   ]
  },
  {
   "cell_type": "code",
   "execution_count": 82,
   "metadata": {
    "ExecuteTime": {
     "start_time": "2023-04-22T14:38:29.275947Z",
     "end_time": "2023-04-22T14:38:29.435155Z"
    }
   },
   "outputs": [
    {
     "data": {
      "text/plain": "<Figure size 640x480 with 1 Axes>",
      "image/png": "[encoded data removed]"
     },
     "metadata": {},
     "output_type": "display_data"
    }
   ],
   "source": [
    "#plot predictions vs actual\n",
    "# plot predictions \n",
    "\n",
    "plt.plot(y_test, label='Test')\n",
    "plt.plot(yhat, label='Predicted')\n",
    "plt.legend()\n",
    "plt.show()\n"
   ]
  },
  {
   "cell_type": "code",
   "execution_count": 83,
   "metadata": {
    "ExecuteTime": {
     "start_time": "2023-04-22T14:38:29.429205Z",
     "end_time": "2023-04-22T14:38:29.436150Z"
    }
   },
   "outputs": [
    {
     "name": "stdout",
     "output_type": "stream",
     "text": [
      "Test MSE: 0.003\n"
     ]
    }
   ],
   "source": [
    "# calculate RMSE\n",
    "from sklearn.metrics import mean_squared_error\n",
    "from math import sqrt\n",
    "mse = mean_squared_error(y_test, yhat)\n",
    "print('Test MSE: %.3f' % mse)\n"
   ]
  },
  {
   "cell_type": "code",
   "execution_count": 84,
   "metadata": {
    "ExecuteTime": {
     "start_time": "2023-04-22T14:38:29.435155Z",
     "end_time": "2023-04-22T14:38:29.573970Z"
    }
   },
   "outputs": [
    {
     "name": "stdout",
     "output_type": "stream",
     "text": [
      "Train MSE: 0.002\n"
     ]
    }
   ],
   "source": [
    "#get train mse\n",
    "yhat_train = model.predict(X_train, verbose=0)\n",
    "mse_train = mean_squared_error(y_train, yhat_train)\n",
    "print('Train MSE: %.3f' % mse_train)"
   ]
  },
  {
   "cell_type": "code",
   "execution_count": 128,
   "metadata": {
    "ExecuteTime": {
     "start_time": "2023-04-22T17:15:40.886756Z",
     "end_time": "2023-04-22T17:15:40.918148Z"
    }
   },
   "outputs": [],
   "source": [
    "filename = 'modelo_transito.h5'\n",
    "if not os.path.exists(f'../models/{filename}'):\n",
    "    model.save(f'../models/{filename}')"
   ]
  },
  {
   "cell_type": "code",
   "execution_count": 112,
   "metadata": {
    "ExecuteTime": {
     "start_time": "2023-04-22T16:56:11.230299Z",
     "end_time": "2023-04-22T16:56:11.272190Z"
    }
   },
   "outputs": [
    {
     "name": "stdout",
     "output_type": "stream",
     "text": [
      "1/1 [==============================] - 0s 12ms/step\n"
     ]
    },
    {
     "data": {
      "text/plain": "array([[0.565173]], dtype=float32)"
     },
     "execution_count": 112,
     "metadata": {},
     "output_type": "execute_result"
    }
   ],
   "source": [
    "# model.predict(X_test)\n",
    "# Select only the last 7 days of the training set\n",
    "model.predict(X[-1:])"
   ]
  },
  {
   "cell_type": "code",
   "execution_count": 147,
   "outputs": [
    {
     "name": "stdout",
     "output_type": "stream",
     "text": [
      "{'modelo_transito_prediction': 0.5651729702949524}\n"
     ]
    }
   ],
   "source": [
    "import requests\n",
    "\n",
    "url = \"http://127.0.0.1:5000/predict/transito\"\n",
    "headers = {\"Content-Type\": \"application/json\"}\n",
    "data = X_test[-1:]\n",
    "json_data = data.tolist()\n",
    "\n",
    "response = requests.post(url, json=json_data, headers=headers)\n",
    "print(response.json())"
   ],
   "metadata": {
    "collapsed": false,
    "ExecuteTime": {
     "start_time": "2023-04-22T17:30:27.603065Z",
     "end_time": "2023-04-22T17:30:32.396971Z"
    }
   }
  },
  {
   "cell_type": "code",
   "execution_count": 149,
   "outputs": [
    {
     "name": "stdout",
     "output_type": "stream",
     "text": [
      "1/1 [==============================] - 0s 19ms/step\n"
     ]
    },
    {
     "data": {
      "text/plain": "array([[0.565173]], dtype=float32)"
     },
     "execution_count": 149,
     "metadata": {},
     "output_type": "execute_result"
    }
   ],
   "source": [
    "model.predict(data)"
   ],
   "metadata": {
    "collapsed": false,
    "ExecuteTime": {
     "start_time": "2023-04-22T17:31:21.312149Z",
     "end_time": "2023-04-22T17:31:21.424852Z"
    }
   }
  }
 ],
 "metadata": {
  "kernelspec": {
   "display_name": "Python 3.9.6 64-bit",
   "language": "python",
   "name": "python3"
  },
  "language_info": {
   "codemirror_mode": {
    "name": "ipython",
    "version": 3
   },
   "file_extension": ".py",
   "mimetype": "text/x-python",
   "name": "python",
   "nbconvert_exporter": "python",
   "pygments_lexer": "ipython3",
   "version": "3.9.6"
  },
  "vscode": {
   "interpreter": {
    "hash": "31f2aee4e71d21fbe5cf8b01ff0e069b9275f58929596ceb00d14d90e3e16cd6"
   }
  }
 },
 "nbformat": 4,
 "nbformat_minor": 2
}
