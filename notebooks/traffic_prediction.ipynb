{
 "cells": [
  {
   "cell_type": "code",
   "execution_count": null,
   "metadata": {
    "collapsed": true,
    "pycharm": {
     "name": "#%%\n"
    }
   },
   "outputs": [],
   "source": [
    "from tensorflow.keras.models import Sequential\n",
    "from tensorflow.keras.layers import Dense, LSTM, Dropout\n",
    "import seaborn as sns\n",
    "from sklearn.model_selection import TimeSeriesSplit\n",
    "import re\n",
    "import numpy as np\n",
    "import tensorflow as tf\n",
    "import matplotlib.pyplot as plt\n",
    "\n",
    "\n"
   ]
  },
  {
   "cell_type": "code",
   "execution_count": null,
   "outputs": [],
   "source": [
    "def train_model(df):\n",
    "\n",
    "    def create_sequences(data, n_steps):\n",
    "        X = []\n",
    "        y = []\n",
    "        for i in range(len(data)-n_steps):\n",
    "            X.append(data.iloc[i:i+n_steps, :].values)\n",
    "            y.append(data.iloc[i+n_steps, 0])\n",
    "        return np.array(X), np.array(y), np.array\n",
    "\n",
    "    # create sequences\n",
    "    n_steps = 7\n",
    "    X, y, df = create_sequences(df, n_steps)\n",
    "    X.shape, y.shape\n",
    "\n",
    "    # split into train and test sets\n",
    "    n_train = 365*5\n",
    "    X_train, X_test, y_train, y_test = X[:n_train], X[n_train:], y[:n_train], y[n_train:]\n",
    "    #create validation set\n",
    "    X_train, X_val, y_train, y_val = X_train[:-7], X_train[-7:], y_train[:-7], y_train[-7:]\n",
    "\n",
    "    model_3 = Sequential()\n",
    "    model_3.add(LSTM(32, activation='relu', input_shape=(n_steps, n_features)))\n",
    "    model_3.add(Dropout(0.2))\n",
    "    model_3.add(Dense(8, activation='relu'))\n",
    "    model_3.add(Dropout(0.2))\n",
    "    model_3.add(Dense(1))\n",
    "\n",
    "    model_3.compile(optimizer=tf.keras.optimizers.Adam(beta_1 = 0.999), loss='mse')\n",
    "\n",
    "    history3 = model_3.fit(X_train, y_train, epochs=100, validation_data=(X_val, y_val), verbose=1)\n",
    "    plt.plot(history3.history['loss'], label='train')\n",
    "    plt.plot(history3.history['val_loss'], label='test')\n",
    "    plt.legend()\n",
    "    plt.show()\n",
    "\n",
    "    yhat3 = model_3.predict(X_test, verbose=0)\n",
    "    # denormalize yhat3\n",
    "    yhat3 = scaler.inverse_transform(yhat3)\n",
    "\n",
    "    plt.plot(y_test_denorm, label='Test')\n",
    "    plt.plot(yhat3, label='Predicted')\n",
    "    plt.legend()\n",
    "\n",
    "    yhat_train3 = model_3.predict(X_train, verbose=0)\n",
    "    yhat_train3 = scaler.inverse_transform(yhat_train3)\n",
    "    rmse3 = sqrt(mean_squared_error(y_train_denorm, yhat_train3, squared=False))\n",
    "    print('Train RMSE: %.3f' % rmse3)\n",
    "\n",
    "    rmse3_test = sqrt(mean_squared_error(y_test_denorm, yhat3, squared=False))\n",
    "    print('Test RMSE: %.3f' % rmse3_test)\n",
    "\n",
    "    #save model_3 in models folder with keras\n",
    "    filename = '../src/models/modelo_transito.h5'\n",
    "    model_3.save(filename)"
   ],
   "metadata": {
    "collapsed": false,
    "pycharm": {
     "name": "#%%\n"
    }
   }
  }
 ],
 "metadata": {
  "kernelspec": {
   "display_name": "Python 3",
   "language": "python",
   "name": "python3"
  },
  "language_info": {
   "codemirror_mode": {
    "name": "ipython",
    "version": 2
   },
   "file_extension": ".py",
   "mimetype": "text/x-python",
   "name": "python",
   "nbconvert_exporter": "python",
   "pygments_lexer": "ipython2",
   "version": "2.7.6"
  }
 },
 "nbformat": 4,
 "nbformat_minor": 0
}