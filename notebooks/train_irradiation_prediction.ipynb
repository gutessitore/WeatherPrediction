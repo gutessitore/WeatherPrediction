{
 "cells": [
  {
   "cell_type": "code",
   "execution_count": 9,
   "metadata": {},
   "outputs": [],
   "source": [
    "import pandas as pd\n",
    "from sklearn.model_selection import TimeSeriesSplit\n",
    "from sklearn.preprocessing import StandardScaler\n",
    "import xgboost as xgb\n",
    "from xgboost import XGBRegressor\n",
    "from sklearn.metrics import r2_score\n",
    "import matplotlib.pyplot as plt\n",
    "import pickle\n",
    "import os\n"
   ]
  },
  {
   "cell_type": "code",
   "execution_count": 10,
   "metadata": {},
   "outputs": [
    {
     "data": {
      "text/html": [
       "<div>\n",
       "<style scoped>\n",
       "    .dataframe tbody tr th:only-of-type {\n",
       "        vertical-align: middle;\n",
       "    }\n",
       "\n",
       "    .dataframe tbody tr th {\n",
       "        vertical-align: top;\n",
       "    }\n",
       "\n",
       "    .dataframe thead th {\n",
       "        text-align: right;\n",
       "    }\n",
       "</style>\n",
       "<table border=\"1\" class=\"dataframe\">\n",
       "  <thead>\n",
       "    <tr style=\"text-align: right;\">\n",
       "      <th></th>\n",
       "      <th>year</th>\n",
       "      <th>month</th>\n",
       "      <th>temp ºC</th>\n",
       "      <th>feels_like ºC</th>\n",
       "      <th>pressure</th>\n",
       "      <th>humidity %</th>\n",
       "      <th>clouds %</th>\n",
       "      <th>visibility</th>\n",
       "      <th>wind_speed m/s</th>\n",
       "      <th>irrad kwh/m2</th>\n",
       "    </tr>\n",
       "  </thead>\n",
       "  <tbody>\n",
       "    <tr>\n",
       "      <th>0</th>\n",
       "      <td>2005</td>\n",
       "      <td>1</td>\n",
       "      <td>21.041290</td>\n",
       "      <td>21.445806</td>\n",
       "      <td>1015.193548</td>\n",
       "      <td>86.161290</td>\n",
       "      <td>71.290323</td>\n",
       "      <td>7741.935484</td>\n",
       "      <td>3.296774</td>\n",
       "      <td>135.96</td>\n",
       "    </tr>\n",
       "    <tr>\n",
       "      <th>1</th>\n",
       "      <td>2005</td>\n",
       "      <td>2</td>\n",
       "      <td>20.410000</td>\n",
       "      <td>20.680000</td>\n",
       "      <td>1016.750000</td>\n",
       "      <td>83.250000</td>\n",
       "      <td>46.428571</td>\n",
       "      <td>8714.285714</td>\n",
       "      <td>3.589286</td>\n",
       "      <td>162.91</td>\n",
       "    </tr>\n",
       "    <tr>\n",
       "      <th>2</th>\n",
       "      <td>2005</td>\n",
       "      <td>3</td>\n",
       "      <td>20.905806</td>\n",
       "      <td>21.217097</td>\n",
       "      <td>1018.161290</td>\n",
       "      <td>82.935484</td>\n",
       "      <td>54.354839</td>\n",
       "      <td>8129.032258</td>\n",
       "      <td>3.403226</td>\n",
       "      <td>138.82</td>\n",
       "    </tr>\n",
       "    <tr>\n",
       "      <th>3</th>\n",
       "      <td>2005</td>\n",
       "      <td>4</td>\n",
       "      <td>20.427667</td>\n",
       "      <td>20.655000</td>\n",
       "      <td>1020.000000</td>\n",
       "      <td>81.533333</td>\n",
       "      <td>56.166667</td>\n",
       "      <td>8017.241379</td>\n",
       "      <td>3.131667</td>\n",
       "      <td>133.84</td>\n",
       "    </tr>\n",
       "    <tr>\n",
       "      <th>4</th>\n",
       "      <td>2005</td>\n",
       "      <td>5</td>\n",
       "      <td>18.132258</td>\n",
       "      <td>18.061290</td>\n",
       "      <td>1020.709677</td>\n",
       "      <td>78.903226</td>\n",
       "      <td>45.000000</td>\n",
       "      <td>7933.333333</td>\n",
       "      <td>2.178065</td>\n",
       "      <td>117.79</td>\n",
       "    </tr>\n",
       "  </tbody>\n",
       "</table>\n",
       "</div>"
      ],
      "text/plain": [
       "   year  month    temp ºC  feels_like ºC     pressure  humidity %   clouds %  \\\n",
       "0  2005      1  21.041290      21.445806  1015.193548   86.161290  71.290323   \n",
       "1  2005      2  20.410000      20.680000  1016.750000   83.250000  46.428571   \n",
       "2  2005      3  20.905806      21.217097  1018.161290   82.935484  54.354839   \n",
       "3  2005      4  20.427667      20.655000  1020.000000   81.533333  56.166667   \n",
       "4  2005      5  18.132258      18.061290  1020.709677   78.903226  45.000000   \n",
       "\n",
       "    visibility  wind_speed m/s  irrad kwh/m2  \n",
       "0  7741.935484        3.296774        135.96  \n",
       "1  8714.285714        3.589286        162.91  \n",
       "2  8129.032258        3.403226        138.82  \n",
       "3  8017.241379        3.131667        133.84  \n",
       "4  7933.333333        2.178065        117.79  "
      ]
     },
     "metadata": {},
     "output_type": "display_data"
    },
    {
     "data": {
      "text/html": [
       "<div>\n",
       "<style scoped>\n",
       "    .dataframe tbody tr th:only-of-type {\n",
       "        vertical-align: middle;\n",
       "    }\n",
       "\n",
       "    .dataframe tbody tr th {\n",
       "        vertical-align: top;\n",
       "    }\n",
       "\n",
       "    .dataframe thead th {\n",
       "        text-align: right;\n",
       "    }\n",
       "</style>\n",
       "<table border=\"1\" class=\"dataframe\">\n",
       "  <thead>\n",
       "    <tr style=\"text-align: right;\">\n",
       "      <th></th>\n",
       "      <th>year</th>\n",
       "      <th>month</th>\n",
       "      <th>temp ºC</th>\n",
       "      <th>feels_like ºC</th>\n",
       "      <th>pressure</th>\n",
       "      <th>humidity %</th>\n",
       "      <th>clouds %</th>\n",
       "      <th>visibility</th>\n",
       "      <th>wind_speed m/s</th>\n",
       "      <th>irrad kwh/m2</th>\n",
       "    </tr>\n",
       "  </thead>\n",
       "  <tbody>\n",
       "    <tr>\n",
       "      <th>187</th>\n",
       "      <td>2020</td>\n",
       "      <td>8</td>\n",
       "      <td>16.638065</td>\n",
       "      <td>16.261935</td>\n",
       "      <td>1020.225806</td>\n",
       "      <td>75.419355</td>\n",
       "      <td>33.870968</td>\n",
       "      <td>9193.548387</td>\n",
       "      <td>3.257742</td>\n",
       "      <td>133.68</td>\n",
       "    </tr>\n",
       "    <tr>\n",
       "      <th>188</th>\n",
       "      <td>2020</td>\n",
       "      <td>9</td>\n",
       "      <td>20.469333</td>\n",
       "      <td>20.342333</td>\n",
       "      <td>1019.166667</td>\n",
       "      <td>68.500000</td>\n",
       "      <td>46.000000</td>\n",
       "      <td>8300.000000</td>\n",
       "      <td>3.676333</td>\n",
       "      <td>151.77</td>\n",
       "    </tr>\n",
       "    <tr>\n",
       "      <th>189</th>\n",
       "      <td>2020</td>\n",
       "      <td>10</td>\n",
       "      <td>19.894839</td>\n",
       "      <td>19.894839</td>\n",
       "      <td>1014.096774</td>\n",
       "      <td>76.483871</td>\n",
       "      <td>54.838710</td>\n",
       "      <td>8919.354839</td>\n",
       "      <td>3.698710</td>\n",
       "      <td>165.86</td>\n",
       "    </tr>\n",
       "    <tr>\n",
       "      <th>190</th>\n",
       "      <td>2020</td>\n",
       "      <td>11</td>\n",
       "      <td>19.398000</td>\n",
       "      <td>19.384000</td>\n",
       "      <td>1017.633333</td>\n",
       "      <td>75.433333</td>\n",
       "      <td>51.000000</td>\n",
       "      <td>9133.333333</td>\n",
       "      <td>4.270667</td>\n",
       "      <td>185.15</td>\n",
       "    </tr>\n",
       "    <tr>\n",
       "      <th>191</th>\n",
       "      <td>2020</td>\n",
       "      <td>12</td>\n",
       "      <td>21.540000</td>\n",
       "      <td>21.842581</td>\n",
       "      <td>1016.193548</td>\n",
       "      <td>79.064516</td>\n",
       "      <td>51.451613</td>\n",
       "      <td>9096.774194</td>\n",
       "      <td>3.503226</td>\n",
       "      <td>166.73</td>\n",
       "    </tr>\n",
       "  </tbody>\n",
       "</table>\n",
       "</div>"
      ],
      "text/plain": [
       "     year  month    temp ºC  feels_like ºC     pressure  humidity %  \\\n",
       "187  2020      8  16.638065      16.261935  1020.225806   75.419355   \n",
       "188  2020      9  20.469333      20.342333  1019.166667   68.500000   \n",
       "189  2020     10  19.894839      19.894839  1014.096774   76.483871   \n",
       "190  2020     11  19.398000      19.384000  1017.633333   75.433333   \n",
       "191  2020     12  21.540000      21.842581  1016.193548   79.064516   \n",
       "\n",
       "      clouds %   visibility  wind_speed m/s  irrad kwh/m2  \n",
       "187  33.870968  9193.548387        3.257742        133.68  \n",
       "188  46.000000  8300.000000        3.676333        151.77  \n",
       "189  54.838710  8919.354839        3.698710        165.86  \n",
       "190  51.000000  9133.333333        4.270667        185.15  \n",
       "191  51.451613  9096.774194        3.503226        166.73  "
      ]
     },
     "metadata": {},
     "output_type": "display_data"
    }
   ],
   "source": [
    "# Read data\n",
    "df = pd.read_csv('../data/openw_irradiation_2005_2020.csv', parse_dates=['day'])\n",
    "df.drop(['day', 'weather_id'], axis = 1, inplace=True)\n",
    "\n",
    "display(df.head())\n",
    "display(df.tail())"
   ]
  },
  {
   "cell_type": "code",
   "execution_count": 11,
   "metadata": {},
   "outputs": [],
   "source": [
    "#features and target\n",
    "X = df.drop(['irrad kwh/m2'], axis=1)\n",
    "y = df[['irrad kwh/m2']]"
   ]
  },
  {
   "cell_type": "code",
   "execution_count": 12,
   "metadata": {},
   "outputs": [],
   "source": [
    "#train test split\n",
    "tscv = TimeSeriesSplit(n_splits=5)\n",
    "\n",
    "# Loop folds\n",
    "for train_index, test_index in tscv.split(df['year'], df['month']):\n",
    "    \n",
    "    X_train, X_test = X.iloc[train_index], X.iloc[test_index]\n",
    "    y_train, y_test = y.iloc[train_index], y.iloc[test_index]"
   ]
  },
  {
   "cell_type": "code",
   "execution_count": 13,
   "metadata": {},
   "outputs": [
    {
     "data": {
      "text/plain": [
       "{'objective': 'reg:squarederror',\n",
       " 'base_score': None,\n",
       " 'booster': None,\n",
       " 'callbacks': None,\n",
       " 'colsample_bylevel': None,\n",
       " 'colsample_bynode': None,\n",
       " 'colsample_bytree': None,\n",
       " 'early_stopping_rounds': None,\n",
       " 'enable_categorical': False,\n",
       " 'eval_metric': None,\n",
       " 'gamma': None,\n",
       " 'gpu_id': None,\n",
       " 'grow_policy': None,\n",
       " 'importance_type': None,\n",
       " 'interaction_constraints': None,\n",
       " 'learning_rate': None,\n",
       " 'max_bin': None,\n",
       " 'max_cat_to_onehot': None,\n",
       " 'max_delta_step': None,\n",
       " 'max_depth': None,\n",
       " 'max_leaves': None,\n",
       " 'min_child_weight': None,\n",
       " 'missing': nan,\n",
       " 'monotone_constraints': None,\n",
       " 'n_estimators': 100,\n",
       " 'n_jobs': None,\n",
       " 'num_parallel_tree': None,\n",
       " 'predictor': None,\n",
       " 'random_state': None,\n",
       " 'reg_alpha': None,\n",
       " 'reg_lambda': None,\n",
       " 'sampling_method': None,\n",
       " 'scale_pos_weight': None,\n",
       " 'subsample': None,\n",
       " 'tree_method': None,\n",
       " 'validate_parameters': None,\n",
       " 'verbosity': None}"
      ]
     },
     "execution_count": 13,
     "metadata": {},
     "output_type": "execute_result"
    }
   ],
   "source": [
    "#default parameters\n",
    "xgb.XGBRegressor().get_params()"
   ]
  },
  {
   "cell_type": "code",
   "execution_count": 14,
   "metadata": {},
   "outputs": [
    {
     "data": {
      "text/plain": [
       "XGBRegressor(base_score=0.5, booster='gbtree', callbacks=None,\n",
       "             colsample_bylevel=1, colsample_bynode=1, colsample_bytree=1,\n",
       "             early_stopping_rounds=None, enable_categorical=False,\n",
       "             eval_metric=None, gamma=0, gpu_id=-1, grow_policy='depthwise',\n",
       "             importance_type=None, interaction_constraints='',\n",
       "             learning_rate=0.300000012, max_bin=256, max_cat_to_onehot=4,\n",
       "             max_delta_step=0, max_depth=6, max_leaves=0, min_child_weight=1,\n",
       "             missing=nan, monotone_constraints='()', n_estimators=100, n_jobs=0,\n",
       "             num_parallel_tree=1, predictor='auto', random_state=0, reg_alpha=0,\n",
       "             reg_lambda=1, ...)"
      ]
     },
     "execution_count": 14,
     "metadata": {},
     "output_type": "execute_result"
    }
   ],
   "source": [
    "xg_reg = xgb.XGBRegressor()\n",
    "# training the model\n",
    "xg_reg.fit(X_train,y_train)"
   ]
  },
  {
   "cell_type": "code",
   "execution_count": 15,
   "metadata": {},
   "outputs": [
    {
     "data": {
      "text/plain": [
       "array([124.22742 , 101.31559 , 124.51932 , 119.676254, 124.86741 ,\n",
       "       144.69489 , 142.97636 , 182.0296  , 204.96806 , 160.84007 ,\n",
       "       156.02353 , 150.96278 , 120.94711 , 111.34946 , 105.19767 ,\n",
       "       115.812325, 141.3269  , 165.46635 , 149.18074 , 163.59366 ,\n",
       "       155.15536 , 141.22734 , 153.0125  , 129.02483 , 104.78746 ,\n",
       "        97.033005, 104.83994 , 114.14503 , 165.4466  , 146.406   ,\n",
       "       155.81555 , 167.59566 ], dtype=float32)"
      ]
     },
     "execution_count": 15,
     "metadata": {},
     "output_type": "execute_result"
    }
   ],
   "source": [
    "# predicting\n",
    "xgb_preds = xg_reg.predict(X_test)\n",
    "xgb_preds"
   ]
  },
  {
   "cell_type": "code",
   "execution_count": 16,
   "metadata": {},
   "outputs": [
    {
     "name": "stdout",
     "output_type": "stream",
     "text": [
      "R score is : 0.744987092266037\n"
     ]
    }
   ],
   "source": [
    "print('R score is :', r2_score(y_test, xgb_preds))"
   ]
  },
  {
   "cell_type": "code",
   "execution_count": 17,
   "metadata": {},
   "outputs": [
    {
     "data": {
      "image/png": "[encoded data removed]",
      "text/plain": [
       "<Figure size 1440x576 with 1 Axes>"
      ]
     },
     "metadata": {
      "needs_background": "light"
     },
     "output_type": "display_data"
    }
   ],
   "source": [
    "plt.figure(figsize=(20, 8))\n",
    "# plotting the graphs\n",
    "plt.plot([i for i in range(len(y_test))],y_test, label=\"actual values\")\n",
    "plt.plot([i for i in range(len(y_test))],xgb_preds, label=\"Predicted values\")\n",
    "# plt.axis('off')\n",
    "# showing the plotting\n",
    "plt.legend()\n",
    "plt.show()"
   ]
  },
  {
   "cell_type": "code",
   "execution_count": 18,
   "metadata": {},
   "outputs": [
    {
     "name": "stdout",
     "output_type": "stream",
     "text": [
      "A predição foi de 32 meses, ou seja, 2 anos e 8 meses.\n"
     ]
    }
   ],
   "source": [
    "print(f'A predição foi de {len(xgb_preds)} meses, ou seja, {int(len(xgb_preds)/12)} anos e {len(xgb_preds)%12} meses.')"
   ]
  },
  {
   "attachments": {},
   "cell_type": "markdown",
   "metadata": {},
   "source": [
    "### Salvando o modelo"
   ]
  },
  {
   "cell_type": "code",
   "execution_count": 21,
   "metadata": {},
   "outputs": [],
   "source": [
    "# Create a folder to save the models in weatherprediction folder if it doesn't exist\n",
    "if not os.path.exists('../models'):\n",
    "    os.makedirs('../models')"
   ]
  },
  {
   "cell_type": "code",
   "execution_count": 23,
   "metadata": {},
   "outputs": [],
   "source": [
    "# Save the model as xgb_irradiation.pkl if it doesn't exist\n",
    "if not os.path.exists('../models/xgb_irradiation.pkl'):\n",
    "    pickle.dump(xg_reg, open('../models/xgb_irradiation.pkl', 'wb'))\n"
   ]
  },
  {
   "attachments": {},
   "cell_type": "markdown",
   "metadata": {},
   "source": [
    "### Próximos passos:\n",
    "- GridSearchCV para melhorar o modelo?\n",
    "\n",
    "### Dúvida:\n",
    "- Tem como estabelecer uma quantidade de previsões? "
   ]
  }
 ],
 "metadata": {
  "kernelspec": {
   "display_name": "base",
   "language": "python",
   "name": "python3"
  },
  "language_info": {
   "codemirror_mode": {
    "name": "ipython",
    "version": 3
   },
   "file_extension": ".py",
   "mimetype": "text/x-python",
   "name": "python",
   "nbconvert_exporter": "python",
   "pygments_lexer": "ipython3",
   "version": "3.7.9"
  },
  "orig_nbformat": 4
 },
 "nbformat": 4,
 "nbformat_minor": 2
}
