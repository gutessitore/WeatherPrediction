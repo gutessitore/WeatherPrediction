{
 "cells": [
  {
   "cell_type": "markdown",
   "source": [
    "<a class=\"anchor\" id=\"section-0\"></a>\n",
    "<img src=\"https://i.imgur.com/lTCPbz0.jpeg\" alt='logo puc-sp' width='30%' align='left'>\n",
    "\n",
    "### Pontifícia Universidade Católica de São Paulo (PUC-SP)\n",
    "\n",
    "<h1 style=font-size:30px>StellarClassification</h1>\n",
    "\n",
    "\n",
    "### Bacharelado em Ciência de Dados e Inteligência Artificial\n",
    "\n",
    "#### Turma: CDIA21-MA\n",
    "\n",
    "**Professor:** Eduardo Savino Gomes\n",
    "\n",
    "**Alunos:**\n",
    "\n",
    "<table align=\"left\" style=font-size:15px>\n",
    "<thead>\n",
    "  <tr>\n",
    "    <th style=\"text-align:left;\">Nome</th>\n",
    "    <th style=\"text-align:left;\">RA</th>\n",
    "    <th></th>\n",
    "  </tr>\n",
    "</thead>\n",
    "<tbody>\n",
    "  <tr>\n",
    "    <td style=\"text-align:left;\">Carlos Eduardo de Oliveira</td>\n",
    "    <td>RA00297792</td>\n",
    "    <td></td>\n",
    "  </tr>\n",
    "  <tr>\n",
    "    <td style=\"text-align:left;\">Gustavo Schlieper Tessitore</td>\n",
    "    <td>RA00297844</td>\n",
    "    <td></td>\n",
    "  </tr>\n",
    "  <tr>\n",
    "    <td style=\"text-align:left;\">Isaac Higuchi</td>\n",
    "    <td>RA00306191</td>\n",
    "    <td></td>\n",
    "  </tr>\n",
    "  <tr>\n",
    "    <td style=\"text-align:left;\">João Pedro Taves Araujo</td>\n",
    "    <td>RA00297753</td>\n",
    "    <td></td>\n",
    "  </tr>\n",
    "  <tr>\n",
    "    <td style=\"text-align:left;\">Lucas Lopes Amorim</td>\n",
    "    <td>RA00303799</td>\n",
    "    <td></td>\n",
    "  </tr>\n",
    "  <tr>\n",
    "    <td style=\"text-align:left;\">Thiago de Jesus Carvalho</td>\n",
    "    <td>RA00297767</td>\n",
    "    <td></td>\n",
    "  </tr>\n",
    "</tbody>\n",
    "</table>"
   ],
   "metadata": {
    "collapsed": false,
    "pycharm": {
     "name": "#%% md\n"
    }
   }
  },
  {
   "cell_type": "code",
   "execution_count": null,
   "outputs": [],
   "source": [
    "<h3><b>Estrutura:</b></h3>\n",
    "<ol>\n",
    "   <li><a href=\"#section-1\">Objetivos Gerais </a></li>\n",
    "   <li><a href=\"#section-2\">Objetivos Específicos </a></li>\n",
    "<li><a href=\"#section-2\">Objetivos Específicos </a></li>\n",
    "   <li>\n",
    "      <a href=\"#section-3\">Método</a>\n",
    "      <ol style=\"list-style: none; padding-left: 10px\">\n",
    "         <li>3.1. <a href=\"#section-3-1\">Entendimento dos Dados</a></li>\n",
    "         <li>3.2. <a href=\"#section-3-2\">Preparação dos Dados</a></li>\n",
    "         <li>3.3. <a href=\"#section-3-3\">Selecionando features</a></li>\n",
    "         <li>3.4. <a href=\"#section-3-4\">Criando pipeline</a></li>\n",
    "         <li>3.5. <a href=\"#section-3-5\">Escolhendo melhores técnicas de resample</a></li>\n",
    "         <li>3.6. <a href=\"#section-3-6\">Aplicando PCA</a></li>\n",
    "         <li>3.7. <a href=\"#section-3-7\">Modelagem</a></li>\n",
    "         <ol style=\"list-style: none; padding-left: 20px\">\n",
    "            <li>3.7.1 <a href=\"#section-3-7-1\">Modelo #1: Árvore de Decisão</a></li>\n",
    "            <li>3.7.2 <a href=\"#section-3-7-2\">Modelo #2: Floresta Aleatória de Classificação</a></li>\n",
    "            <li>3.7.3 <a href=\"#section-3-7-3\">Modelo #3: Naive Bayes</a></li>\n",
    "            <li>3.7.4 <a href=\"#section-3-7-4\">Modelo #4: SVC</a></li>\n",
    "            <li>3.7.5 <a href=\"#section-3-7-5\">Modelo #5: KNN</a></li>\n",
    "            <li>3.7.6 <a href=\"#section-3-7-6\">Modelo #6: Regressão Logístia</a></li>\n",
    "            <li>3.7.7 <a href=\"#section-3-7-7\">Combinando todos os modelos #7: Ensamble </a></li>\n",
    "         </ol>\n",
    "      </ol>\n",
    "   </li>\n",
    "   <li><a href=\"#section-4\">Limitações</a></li>\n",
    "   <li><a href=\"#section-5\">Conclusões</a></li>\n",
    "</ol>\n",
    "<p><a href=\"#section-n\">Referências</a></p>"
   ],
   "metadata": {
    "collapsed": false,
    "pycharm": {
     "name": "#%%\n"
    }
   }
  }
 ],
 "metadata": {
  "kernelspec": {
   "display_name": "Python 3",
   "language": "python",
   "name": "python3"
  },
  "language_info": {
   "codemirror_mode": {
    "name": "ipython",
    "version": 2
   },
   "file_extension": ".py",
   "mimetype": "text/x-python",
   "name": "python",
   "nbconvert_exporter": "python",
   "pygments_lexer": "ipython2",
   "version": "2.7.6"
  }
 },
 "nbformat": 4,
 "nbformat_minor": 0
}