{
 "cells": [
  {
   "cell_type": "code",
   "execution_count": 4,
   "metadata": {},
   "outputs": [],
   "source": [
    "from extractor import Extractor\n",
    "import pandas as pd"
   ]
  },
  {
   "cell_type": "code",
   "execution_count": 6,
   "metadata": {},
   "outputs": [
    {
     "name": "stderr",
     "output_type": "stream",
     "text": [
      "c:\\Users\\cedua\\CDIA - PUCSP\\PROJETO 5º SEMESTRE (SAVINO)\\WeatherPrediction\\src\\extractor.py:14: FutureWarning: The behavior of .astype from datetime64[ns] to int32 is deprecated. In a future version, this astype will return exactly the specified dtype instead of int64, and will raise if that conversion overflows.\n",
      "  self.dates_to_collect = pd.date_range(start, end, freq='D').astype(int) // 10 ** 9\n"
     ]
    },
    {
     "name": "stdout",
     "output_type": "stream",
     "text": [
      "\n",
      "Collecting data from 2006-01-01 to 2006-12-31 ...\n"
     ]
    },
    {
     "name": "stderr",
     "output_type": "stream",
     "text": [
      "100%|██████████| 365/365 [06:49<00:00,  1.12s/it]\n"
     ]
    }
   ],
   "source": [
    "start = '2006-01-01'\n",
    "end = '2006-12-31'\n",
    "\n",
    "api_key = \"39f6154b24dfb7637468518b8d57d542\"\n",
    "lat = -23.555771\n",
    "lon = -46.639557\n",
    "\n",
    "extractor = Extractor(lat, lon, start, end, api_key)\n",
    "extractor.start_extraction()\n",
    "df = extractor.to_df\n",
    "\n",
    "filename = f\"{start}_{end}.csv\"\n",
    "df.to_csv(f\"../data/{filename}\", index=False)"
   ]
  },
  {
   "cell_type": "code",
   "execution_count": 6,
   "metadata": {},
   "outputs": [
    {
     "data": {
      "text/html": [
       "<div>\n",
       "<style scoped>\n",
       "    .dataframe tbody tr th:only-of-type {\n",
       "        vertical-align: middle;\n",
       "    }\n",
       "\n",
       "    .dataframe tbody tr th {\n",
       "        vertical-align: top;\n",
       "    }\n",
       "\n",
       "    .dataframe thead th {\n",
       "        text-align: right;\n",
       "    }\n",
       "</style>\n",
       "<table border=\"1\" class=\"dataframe\">\n",
       "  <thead>\n",
       "    <tr style=\"text-align: right;\">\n",
       "      <th></th>\n",
       "      <th>dt</th>\n",
       "      <th>sunrise</th>\n",
       "      <th>sunset</th>\n",
       "      <th>temp</th>\n",
       "      <th>feels_like</th>\n",
       "      <th>pressure</th>\n",
       "      <th>humidity</th>\n",
       "      <th>dew_point</th>\n",
       "      <th>clouds</th>\n",
       "      <th>visibility</th>\n",
       "      <th>wind_speed</th>\n",
       "      <th>wind_deg</th>\n",
       "      <th>weather</th>\n",
       "      <th>rain</th>\n",
       "      <th>wind_gust</th>\n",
       "    </tr>\n",
       "  </thead>\n",
       "  <tbody>\n",
       "    <tr>\n",
       "      <th>349</th>\n",
       "      <td>1323993600</td>\n",
       "      <td>1323936867</td>\n",
       "      <td>1323985734</td>\n",
       "      <td>22.43</td>\n",
       "      <td>22.50</td>\n",
       "      <td>1009</td>\n",
       "      <td>68</td>\n",
       "      <td>16.24</td>\n",
       "      <td>40</td>\n",
       "      <td>10000</td>\n",
       "      <td>3.6</td>\n",
       "      <td>60</td>\n",
       "      <td>[{'id': 211, 'main': 'Thunderstorm', 'descript...</td>\n",
       "      <td>NaN</td>\n",
       "      <td>NaN</td>\n",
       "    </tr>\n",
       "    <tr>\n",
       "      <th>350</th>\n",
       "      <td>1324080000</td>\n",
       "      <td>1324023289</td>\n",
       "      <td>1324072168</td>\n",
       "      <td>22.62</td>\n",
       "      <td>22.06</td>\n",
       "      <td>1011</td>\n",
       "      <td>43</td>\n",
       "      <td>9.42</td>\n",
       "      <td>0</td>\n",
       "      <td>10000</td>\n",
       "      <td>3.6</td>\n",
       "      <td>320</td>\n",
       "      <td>[{'id': 800, 'main': 'Clear', 'description': '...</td>\n",
       "      <td>NaN</td>\n",
       "      <td>NaN</td>\n",
       "    </tr>\n",
       "    <tr>\n",
       "      <th>351</th>\n",
       "      <td>1324166400</td>\n",
       "      <td>1324109712</td>\n",
       "      <td>1324158602</td>\n",
       "      <td>22.31</td>\n",
       "      <td>22.06</td>\n",
       "      <td>1012</td>\n",
       "      <td>56</td>\n",
       "      <td>13.12</td>\n",
       "      <td>0</td>\n",
       "      <td>10000</td>\n",
       "      <td>0.0</td>\n",
       "      <td>0</td>\n",
       "      <td>[{'id': 800, 'main': 'Clear', 'description': '...</td>\n",
       "      <td>NaN</td>\n",
       "      <td>NaN</td>\n",
       "    </tr>\n",
       "    <tr>\n",
       "      <th>352</th>\n",
       "      <td>1324252800</td>\n",
       "      <td>1324196136</td>\n",
       "      <td>1324245035</td>\n",
       "      <td>21.60</td>\n",
       "      <td>21.75</td>\n",
       "      <td>1012</td>\n",
       "      <td>74</td>\n",
       "      <td>16.77</td>\n",
       "      <td>75</td>\n",
       "      <td>10000</td>\n",
       "      <td>4.6</td>\n",
       "      <td>30</td>\n",
       "      <td>[{'id': 803, 'main': 'Clouds', 'description': ...</td>\n",
       "      <td>NaN</td>\n",
       "      <td>NaN</td>\n",
       "    </tr>\n",
       "    <tr>\n",
       "      <th>353</th>\n",
       "      <td>1324339200</td>\n",
       "      <td>1324282561</td>\n",
       "      <td>1324331467</td>\n",
       "      <td>23.13</td>\n",
       "      <td>22.80</td>\n",
       "      <td>1013</td>\n",
       "      <td>50</td>\n",
       "      <td>12.15</td>\n",
       "      <td>0</td>\n",
       "      <td>10000</td>\n",
       "      <td>3.6</td>\n",
       "      <td>100</td>\n",
       "      <td>[{'id': 800, 'main': 'Clear', 'description': '...</td>\n",
       "      <td>NaN</td>\n",
       "      <td>NaN</td>\n",
       "    </tr>\n",
       "  </tbody>\n",
       "</table>\n",
       "</div>"
      ],
      "text/plain": [
       "             dt     sunrise      sunset   temp  feels_like  pressure  \\\n",
       "349  1323993600  1323936867  1323985734  22.43       22.50      1009   \n",
       "350  1324080000  1324023289  1324072168  22.62       22.06      1011   \n",
       "351  1324166400  1324109712  1324158602  22.31       22.06      1012   \n",
       "352  1324252800  1324196136  1324245035  21.60       21.75      1012   \n",
       "353  1324339200  1324282561  1324331467  23.13       22.80      1013   \n",
       "\n",
       "     humidity  dew_point  clouds  visibility  wind_speed  wind_deg  \\\n",
       "349        68      16.24      40       10000         3.6        60   \n",
       "350        43       9.42       0       10000         3.6       320   \n",
       "351        56      13.12       0       10000         0.0         0   \n",
       "352        74      16.77      75       10000         4.6        30   \n",
       "353        50      12.15       0       10000         3.6       100   \n",
       "\n",
       "                                               weather rain  wind_gust  \n",
       "349  [{'id': 211, 'main': 'Thunderstorm', 'descript...  NaN        NaN  \n",
       "350  [{'id': 800, 'main': 'Clear', 'description': '...  NaN        NaN  \n",
       "351  [{'id': 800, 'main': 'Clear', 'description': '...  NaN        NaN  \n",
       "352  [{'id': 803, 'main': 'Clouds', 'description': ...  NaN        NaN  \n",
       "353  [{'id': 800, 'main': 'Clear', 'description': '...  NaN        NaN  "
      ]
     },
     "execution_count": 6,
     "metadata": {},
     "output_type": "execute_result"
    }
   ],
   "source": [
    "df= pd.read_csv(\"C:/Users/cedua/CDIA - PUCSP/PROJETO 5º SEMESTRE (SAVINO)/WeatherPrediction/data/2011-01-01_2011-12-31.csv\")\n",
    "df.tail()"
   ]
  },
  {
   "cell_type": "code",
   "execution_count": 32,
   "metadata": {},
   "outputs": [],
   "source": [
    "# #checking null values\n",
    "# df.isnull().sum()"
   ]
  },
  {
   "cell_type": "code",
   "execution_count": 33,
   "metadata": {},
   "outputs": [],
   "source": [
    "# #checking duplicate data\n",
    "# df['dt'].drop_duplicates()"
   ]
  }
 ],
 "metadata": {
  "kernelspec": {
   "display_name": "Python 3",
   "language": "python",
   "name": "python3"
  },
  "language_info": {
   "codemirror_mode": {
    "name": "ipython",
    "version": 3
   },
   "file_extension": ".py",
   "mimetype": "text/x-python",
   "name": "python",
   "nbconvert_exporter": "python",
   "pygments_lexer": "ipython3",
   "version": "3.9.7"
  },
  "orig_nbformat": 4
 },
 "nbformat": 4,
 "nbformat_minor": 2
}
